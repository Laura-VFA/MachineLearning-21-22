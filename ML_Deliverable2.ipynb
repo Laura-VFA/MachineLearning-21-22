{
  "nbformat": 4,
  "nbformat_minor": 0,
  "metadata": {
    "colab": {
      "name": "ML_Deliverable2.ipynb",
      "provenance": [],
      "collapsed_sections": [],
      "toc_visible": true,
      "authorship_tag": "ABX9TyMKvXU6wbwLlBR6Li+iWYUn",
      "include_colab_link": true
    },
    "kernelspec": {
      "name": "python3",
      "display_name": "Python 3"
    },
    "language_info": {
      "name": "python"
    }
  },
  "cells": [
    {
      "cell_type": "markdown",
      "metadata": {
        "id": "view-in-github",
        "colab_type": "text"
      },
      "source": [
        "<a href=\"https://colab.research.google.com/github/Laura-VFA/MachineLearning-21-22/blob/main/ML_Deliverable2.ipynb\" target=\"_parent\"><img src=\"https://colab.research.google.com/assets/colab-badge.svg\" alt=\"Open In Colab\"/></a>"
      ]
    },
    {
      "cell_type": "markdown",
      "source": [
        "- Laura Villa Fernández-Arroyo\n",
        "- Sergio Martínez Cid\n",
        "- David González Bermúdez"
      ],
      "metadata": {
        "id": "fjLzaIhdOzFv"
      }
    },
    {
      "cell_type": "markdown",
      "source": [
        "# Machine Learning Techniques - Deliverable 2: Text Classification"
      ],
      "metadata": {
        "id": "Aik2ansBPTwn"
      }
    },
    {
      "cell_type": "markdown",
      "source": [
        "First, all the needed libraries and the data will be loaded."
      ],
      "metadata": {
        "id": "LCJewXFmPdyd"
      }
    },
    {
      "cell_type": "code",
      "execution_count": 1,
      "metadata": {
        "colab": {
          "base_uri": "https://localhost:8080/"
        },
        "id": "KpqTCorWXL95",
        "outputId": "81a62810-1897-45d2-df26-2063026dddcc"
      },
      "outputs": [
        {
          "output_type": "stream",
          "name": "stdout",
          "text": [
            "--2022-01-07 19:29:33--  https://raw.githubusercontent.com/Laura-VFA/MachineLearning-21-22/main/Datasets/comments.csv\n",
            "Resolving raw.githubusercontent.com (raw.githubusercontent.com)... 185.199.108.133, 185.199.109.133, 185.199.110.133, ...\n",
            "Connecting to raw.githubusercontent.com (raw.githubusercontent.com)|185.199.108.133|:443... connected.\n",
            "HTTP request sent, awaiting response... 200 OK\n",
            "Length: 1690905 (1.6M) [text/plain]\n",
            "Saving to: ‘comments.csv’\n",
            "\n",
            "comments.csv        100%[===================>]   1.61M  --.-KB/s    in 0.05s   \n",
            "\n",
            "2022-01-07 19:29:33 (29.6 MB/s) - ‘comments.csv’ saved [1690905/1690905]\n",
            "\n"
          ]
        }
      ],
      "source": [
        "!rm *.*\n",
        "\n",
        "!wget https://raw.githubusercontent.com/Laura-VFA/MachineLearning-21-22/main/Datasets/comments.csv\n"
      ]
    },
    {
      "cell_type": "code",
      "source": [
        "import re\n",
        "import numpy as np\n",
        "import pandas as pd\n",
        "import seaborn as sns\n",
        "from itertools import groupby\n",
        "import matplotlib.pyplot as plt\n",
        "\n",
        "import nltk\n",
        "nltk.download(\"popular\")\n",
        "from nltk.stem import WordNetLemmatizer\n",
        "from nltk.tokenize import sent_tokenize, word_tokenize\n",
        "nltk.download('wordnet')\n",
        "\n",
        "from sklearn.feature_extraction.text import TfidfVectorizer\n",
        "from sklearn.feature_selection import SelectKBest, chi2, f_regression\n",
        "from sklearn.model_selection import train_test_split, KFold, RandomizedSearchCV, GridSearchCV\n",
        "from sklearn import model_selection, svm, tree\n",
        "from sklearn.metrics import confusion_matrix\n",
        "from sklearn.ensemble import RandomForestClassifier\n",
        "from sklearn import metrics\n",
        "\n",
        "from scipy.stats import randint as sp_randint\n",
        "\n",
        "\n",
        "!pip install stanza\n",
        "import stanza\n",
        "\n",
        "!pip install textblob\n",
        "from textblob import TextBlob"
      ],
      "metadata": {
        "colab": {
          "base_uri": "https://localhost:8080/"
        },
        "id": "H5Tc3ZN_X0Gs",
        "outputId": "c552f700-d0e5-40ea-fb0b-f8c62573e07e"
      },
      "execution_count": 2,
      "outputs": [
        {
          "output_type": "stream",
          "name": "stdout",
          "text": [
            "[nltk_data] Downloading collection 'popular'\n",
            "[nltk_data]    | \n",
            "[nltk_data]    | Downloading package cmudict to /root/nltk_data...\n",
            "[nltk_data]    |   Package cmudict is already up-to-date!\n",
            "[nltk_data]    | Downloading package gazetteers to /root/nltk_data...\n",
            "[nltk_data]    |   Package gazetteers is already up-to-date!\n",
            "[nltk_data]    | Downloading package genesis to /root/nltk_data...\n",
            "[nltk_data]    |   Package genesis is already up-to-date!\n",
            "[nltk_data]    | Downloading package gutenberg to /root/nltk_data...\n",
            "[nltk_data]    |   Package gutenberg is already up-to-date!\n",
            "[nltk_data]    | Downloading package inaugural to /root/nltk_data...\n",
            "[nltk_data]    |   Package inaugural is already up-to-date!\n",
            "[nltk_data]    | Downloading package movie_reviews to\n",
            "[nltk_data]    |     /root/nltk_data...\n",
            "[nltk_data]    |   Package movie_reviews is already up-to-date!\n",
            "[nltk_data]    | Downloading package names to /root/nltk_data...\n",
            "[nltk_data]    |   Package names is already up-to-date!\n",
            "[nltk_data]    | Downloading package shakespeare to /root/nltk_data...\n",
            "[nltk_data]    |   Package shakespeare is already up-to-date!\n",
            "[nltk_data]    | Downloading package stopwords to /root/nltk_data...\n",
            "[nltk_data]    |   Package stopwords is already up-to-date!\n",
            "[nltk_data]    | Downloading package treebank to /root/nltk_data...\n",
            "[nltk_data]    |   Package treebank is already up-to-date!\n",
            "[nltk_data]    | Downloading package twitter_samples to\n",
            "[nltk_data]    |     /root/nltk_data...\n",
            "[nltk_data]    |   Package twitter_samples is already up-to-date!\n",
            "[nltk_data]    | Downloading package omw to /root/nltk_data...\n",
            "[nltk_data]    |   Package omw is already up-to-date!\n",
            "[nltk_data]    | Downloading package omw-1.4 to /root/nltk_data...\n",
            "[nltk_data]    |   Package omw-1.4 is already up-to-date!\n",
            "[nltk_data]    | Downloading package wordnet to /root/nltk_data...\n",
            "[nltk_data]    |   Package wordnet is already up-to-date!\n",
            "[nltk_data]    | Downloading package wordnet2021 to /root/nltk_data...\n",
            "[nltk_data]    |   Package wordnet2021 is already up-to-date!\n",
            "[nltk_data]    | Downloading package wordnet31 to /root/nltk_data...\n",
            "[nltk_data]    |   Package wordnet31 is already up-to-date!\n",
            "[nltk_data]    | Downloading package wordnet_ic to /root/nltk_data...\n",
            "[nltk_data]    |   Package wordnet_ic is already up-to-date!\n",
            "[nltk_data]    | Downloading package words to /root/nltk_data...\n",
            "[nltk_data]    |   Package words is already up-to-date!\n",
            "[nltk_data]    | Downloading package maxent_ne_chunker to\n",
            "[nltk_data]    |     /root/nltk_data...\n",
            "[nltk_data]    |   Package maxent_ne_chunker is already up-to-date!\n",
            "[nltk_data]    | Downloading package punkt to /root/nltk_data...\n",
            "[nltk_data]    |   Package punkt is already up-to-date!\n",
            "[nltk_data]    | Downloading package snowball_data to\n",
            "[nltk_data]    |     /root/nltk_data...\n",
            "[nltk_data]    |   Package snowball_data is already up-to-date!\n",
            "[nltk_data]    | Downloading package averaged_perceptron_tagger to\n",
            "[nltk_data]    |     /root/nltk_data...\n",
            "[nltk_data]    |   Package averaged_perceptron_tagger is already up-\n",
            "[nltk_data]    |       to-date!\n",
            "[nltk_data]    | \n",
            "[nltk_data]  Done downloading collection popular\n",
            "[nltk_data] Downloading package wordnet to /root/nltk_data...\n",
            "[nltk_data]   Package wordnet is already up-to-date!\n",
            "Requirement already satisfied: stanza in /usr/local/lib/python3.7/dist-packages (1.3.0)\n",
            "Requirement already satisfied: tqdm in /usr/local/lib/python3.7/dist-packages (from stanza) (4.62.3)\n",
            "Requirement already satisfied: six in /usr/local/lib/python3.7/dist-packages (from stanza) (1.15.0)\n",
            "Requirement already satisfied: requests in /usr/local/lib/python3.7/dist-packages (from stanza) (2.23.0)\n",
            "Requirement already satisfied: protobuf in /usr/local/lib/python3.7/dist-packages (from stanza) (3.17.3)\n",
            "Requirement already satisfied: emoji in /usr/local/lib/python3.7/dist-packages (from stanza) (1.6.1)\n",
            "Requirement already satisfied: torch>=1.3.0 in /usr/local/lib/python3.7/dist-packages (from stanza) (1.10.0+cu111)\n",
            "Requirement already satisfied: numpy in /usr/local/lib/python3.7/dist-packages (from stanza) (1.19.5)\n",
            "Requirement already satisfied: typing-extensions in /usr/local/lib/python3.7/dist-packages (from torch>=1.3.0->stanza) (3.10.0.2)\n",
            "Requirement already satisfied: urllib3!=1.25.0,!=1.25.1,<1.26,>=1.21.1 in /usr/local/lib/python3.7/dist-packages (from requests->stanza) (1.24.3)\n",
            "Requirement already satisfied: idna<3,>=2.5 in /usr/local/lib/python3.7/dist-packages (from requests->stanza) (2.10)\n",
            "Requirement already satisfied: chardet<4,>=3.0.2 in /usr/local/lib/python3.7/dist-packages (from requests->stanza) (3.0.4)\n",
            "Requirement already satisfied: certifi>=2017.4.17 in /usr/local/lib/python3.7/dist-packages (from requests->stanza) (2021.10.8)\n",
            "Requirement already satisfied: textblob in /usr/local/lib/python3.7/dist-packages (0.15.3)\n",
            "Requirement already satisfied: nltk>=3.1 in /usr/local/lib/python3.7/dist-packages (from textblob) (3.2.5)\n",
            "Requirement already satisfied: six in /usr/local/lib/python3.7/dist-packages (from nltk>=3.1->textblob) (1.15.0)\n"
          ]
        }
      ]
    },
    {
      "cell_type": "code",
      "source": [
        "comments = pd.read_csv('comments.csv', sep=',')\n",
        "comments.head()"
      ],
      "metadata": {
        "colab": {
          "base_uri": "https://localhost:8080/",
          "height": 206
        },
        "id": "QHVt2ryZXyQc",
        "outputId": "bf772247-6db5-4725-be12-a098731612c9"
      },
      "execution_count": 3,
      "outputs": [
        {
          "output_type": "execute_result",
          "data": {
            "text/html": [
              "\n",
              "  <div id=\"df-a15a2fb1-0e1a-40fa-b3e2-938bf7c2faa5\">\n",
              "    <div class=\"colab-df-container\">\n",
              "      <div>\n",
              "<style scoped>\n",
              "    .dataframe tbody tr th:only-of-type {\n",
              "        vertical-align: middle;\n",
              "    }\n",
              "\n",
              "    .dataframe tbody tr th {\n",
              "        vertical-align: top;\n",
              "    }\n",
              "\n",
              "    .dataframe thead th {\n",
              "        text-align: right;\n",
              "    }\n",
              "</style>\n",
              "<table border=\"1\" class=\"dataframe\">\n",
              "  <thead>\n",
              "    <tr style=\"text-align: right;\">\n",
              "      <th></th>\n",
              "      <th>class</th>\n",
              "      <th>text</th>\n",
              "    </tr>\n",
              "  </thead>\n",
              "  <tbody>\n",
              "    <tr>\n",
              "      <th>0</th>\n",
              "      <td>Auto</td>\n",
              "      <td>I have recently purchased a J30T with moderat...</td>\n",
              "    </tr>\n",
              "    <tr>\n",
              "      <th>1</th>\n",
              "      <td>Camera</td>\n",
              "      <td>I bought this product because I need instant ...</td>\n",
              "    </tr>\n",
              "    <tr>\n",
              "      <th>2</th>\n",
              "      <td>Auto</td>\n",
              "      <td>I have owned my Buick since 53000 km and I am...</td>\n",
              "    </tr>\n",
              "    <tr>\n",
              "      <th>3</th>\n",
              "      <td>Camera</td>\n",
              "      <td>This was my first Digital camera so I did qui...</td>\n",
              "    </tr>\n",
              "    <tr>\n",
              "      <th>4</th>\n",
              "      <td>Camera</td>\n",
              "      <td>Minolta DiMAGE 7Hi is in a digital SLR with 5...</td>\n",
              "    </tr>\n",
              "  </tbody>\n",
              "</table>\n",
              "</div>\n",
              "      <button class=\"colab-df-convert\" onclick=\"convertToInteractive('df-a15a2fb1-0e1a-40fa-b3e2-938bf7c2faa5')\"\n",
              "              title=\"Convert this dataframe to an interactive table.\"\n",
              "              style=\"display:none;\">\n",
              "        \n",
              "  <svg xmlns=\"http://www.w3.org/2000/svg\" height=\"24px\"viewBox=\"0 0 24 24\"\n",
              "       width=\"24px\">\n",
              "    <path d=\"M0 0h24v24H0V0z\" fill=\"none\"/>\n",
              "    <path d=\"M18.56 5.44l.94 2.06.94-2.06 2.06-.94-2.06-.94-.94-2.06-.94 2.06-2.06.94zm-11 1L8.5 8.5l.94-2.06 2.06-.94-2.06-.94L8.5 2.5l-.94 2.06-2.06.94zm10 10l.94 2.06.94-2.06 2.06-.94-2.06-.94-.94-2.06-.94 2.06-2.06.94z\"/><path d=\"M17.41 7.96l-1.37-1.37c-.4-.4-.92-.59-1.43-.59-.52 0-1.04.2-1.43.59L10.3 9.45l-7.72 7.72c-.78.78-.78 2.05 0 2.83L4 21.41c.39.39.9.59 1.41.59.51 0 1.02-.2 1.41-.59l7.78-7.78 2.81-2.81c.8-.78.8-2.07 0-2.86zM5.41 20L4 18.59l7.72-7.72 1.47 1.35L5.41 20z\"/>\n",
              "  </svg>\n",
              "      </button>\n",
              "      \n",
              "  <style>\n",
              "    .colab-df-container {\n",
              "      display:flex;\n",
              "      flex-wrap:wrap;\n",
              "      gap: 12px;\n",
              "    }\n",
              "\n",
              "    .colab-df-convert {\n",
              "      background-color: #E8F0FE;\n",
              "      border: none;\n",
              "      border-radius: 50%;\n",
              "      cursor: pointer;\n",
              "      display: none;\n",
              "      fill: #1967D2;\n",
              "      height: 32px;\n",
              "      padding: 0 0 0 0;\n",
              "      width: 32px;\n",
              "    }\n",
              "\n",
              "    .colab-df-convert:hover {\n",
              "      background-color: #E2EBFA;\n",
              "      box-shadow: 0px 1px 2px rgba(60, 64, 67, 0.3), 0px 1px 3px 1px rgba(60, 64, 67, 0.15);\n",
              "      fill: #174EA6;\n",
              "    }\n",
              "\n",
              "    [theme=dark] .colab-df-convert {\n",
              "      background-color: #3B4455;\n",
              "      fill: #D2E3FC;\n",
              "    }\n",
              "\n",
              "    [theme=dark] .colab-df-convert:hover {\n",
              "      background-color: #434B5C;\n",
              "      box-shadow: 0px 1px 3px 1px rgba(0, 0, 0, 0.15);\n",
              "      filter: drop-shadow(0px 1px 2px rgba(0, 0, 0, 0.3));\n",
              "      fill: #FFFFFF;\n",
              "    }\n",
              "  </style>\n",
              "\n",
              "      <script>\n",
              "        const buttonEl =\n",
              "          document.querySelector('#df-a15a2fb1-0e1a-40fa-b3e2-938bf7c2faa5 button.colab-df-convert');\n",
              "        buttonEl.style.display =\n",
              "          google.colab.kernel.accessAllowed ? 'block' : 'none';\n",
              "\n",
              "        async function convertToInteractive(key) {\n",
              "          const element = document.querySelector('#df-a15a2fb1-0e1a-40fa-b3e2-938bf7c2faa5');\n",
              "          const dataTable =\n",
              "            await google.colab.kernel.invokeFunction('convertToInteractive',\n",
              "                                                     [key], {});\n",
              "          if (!dataTable) return;\n",
              "\n",
              "          const docLinkHtml = 'Like what you see? Visit the ' +\n",
              "            '<a target=\"_blank\" href=https://colab.research.google.com/notebooks/data_table.ipynb>data table notebook</a>'\n",
              "            + ' to learn more about interactive tables.';\n",
              "          element.innerHTML = '';\n",
              "          dataTable['output_type'] = 'display_data';\n",
              "          await google.colab.output.renderOutput(dataTable, element);\n",
              "          const docLink = document.createElement('div');\n",
              "          docLink.innerHTML = docLinkHtml;\n",
              "          element.appendChild(docLink);\n",
              "        }\n",
              "      </script>\n",
              "    </div>\n",
              "  </div>\n",
              "  "
            ],
            "text/plain": [
              "    class                                               text\n",
              "0    Auto   I have recently purchased a J30T with moderat...\n",
              "1  Camera   I bought this product because I need instant ...\n",
              "2    Auto   I have owned my Buick since 53000 km and I am...\n",
              "3  Camera   This was my first Digital camera so I did qui...\n",
              "4  Camera   Minolta DiMAGE 7Hi is in a digital SLR with 5..."
            ]
          },
          "metadata": {},
          "execution_count": 3
        }
      ]
    },
    {
      "cell_type": "markdown",
      "source": [
        "# 1. Preprocessing"
      ],
      "metadata": {
        "id": "akq_HMJ4YAAL"
      }
    },
    {
      "cell_type": "markdown",
      "source": [
        "## 1.1 Remove useless data"
      ],
      "metadata": {
        "id": "Dt5tpXd9YmQM"
      }
    },
    {
      "cell_type": "markdown",
      "source": [
        "Remove characters such us $, @..."
      ],
      "metadata": {
        "id": "DbNZJwE9Ppr_"
      }
    },
    {
      "cell_type": "code",
      "source": [
        "pattern = \"!|\\\"|_|-|$|%|&|\\/|\\(|\\)|=|ˆ|\\*|¡|@\" \n",
        "comments['text'] = [ re.sub(pattern, \"\", text) for text in comments['text']]"
      ],
      "metadata": {
        "id": "5c0OckhziZI_"
      },
      "execution_count": 4,
      "outputs": []
    },
    {
      "cell_type": "markdown",
      "source": [
        "## 1.2 Remove all capital letters"
      ],
      "metadata": {
        "id": "NmZp95ukYmTk"
      }
    },
    {
      "cell_type": "code",
      "source": [
        "comments['text'] = [text.lower() for text in comments['text']]"
      ],
      "metadata": {
        "id": "oKWYq3rOgtuV"
      },
      "execution_count": 5,
      "outputs": []
    },
    {
      "cell_type": "code",
      "source": [
        "comments['text']"
      ],
      "metadata": {
        "colab": {
          "base_uri": "https://localhost:8080/"
        },
        "id": "nq_i-oXDhLzv",
        "outputId": "2b4ab5e5-d224-4d85-e991-70870365cf57"
      },
      "execution_count": 6,
      "outputs": [
        {
          "output_type": "execute_result",
          "data": {
            "text/plain": [
              "0       i have recently purchased a j30t with moderat...\n",
              "1       i bought this product because i need instant ...\n",
              "2       i have owned my buick since 53000 km and i am...\n",
              "3       this was my first digital camera so i did qui...\n",
              "4       minolta dimage 7hi is in a digital slr with 5...\n",
              "                             ...                        \n",
              "595     recently our 12 year old nissan stanza decide...\n",
              "596     i always do a lot of research before i buy an...\n",
              "597     this car is an all around good buy  if you ar...\n",
              "598     i waited to write this until i have had 4 mon...\n",
              "599     i have been a montero owner since about 1985 ...\n",
              "Name: text, Length: 600, dtype: object"
            ]
          },
          "metadata": {},
          "execution_count": 6
        }
      ]
    },
    {
      "cell_type": "markdown",
      "source": [
        "## 1.3 Remove contractions"
      ],
      "metadata": {
        "id": "28z40iu3Yx5l"
      }
    },
    {
      "cell_type": "markdown",
      "source": [
        "Regular expressions will be used for this purpose. The patterns found will be replaced by its not contracted version.  \n",
        "However, there are situations in which there's a conflict between removal contraction posibilities: for example, *I'd* could be referred to *I would* or *I had*. This conflict could be solved with the word context analysis, but it's out of the scope of this project."
      ],
      "metadata": {
        "id": "s8rgJEE8P79X"
      }
    },
    {
      "cell_type": "code",
      "source": [
        "# Contractions detection \n",
        "patrones=[  # (patron/regex, not_contracted)\n",
        "(r'that\\s*?\\'?\\s*s','that is'),   \n",
        "(r'won\\s*\\'?\\s*t','will not'),   #won't\n",
        "(r'can\\s*\\'?\\s*t','cannot'),     #can't\n",
        "(r'i\\s*\\'?\\s*m','i am'),         # I'm\n",
        "(r'ain\\s*\\'?\\s*t', 'is not'),     # ain't\n",
        "]\n",
        "\n",
        "for word in ['he', 'I', 'it', 'she', 'they', 'we', 'who', 'you']:\n",
        "    patrones.append((r'\\b' + word + r'\\s*\\'?\\s*ll', word +' will'))\n",
        "\n",
        "for word in ['are', 'could', 'did', 'do', 'does', 'had', 'have', 'should', 'was', 'were', 'is', 'would', 'must']:\n",
        "    patrones.append((r'\\b' + word + r'\\s*n\\'?\\s*t', word +' not'))\n",
        "\n",
        "for word in ['you', 'I', 'we', 'they']:\n",
        "    patrones.append((r'\\b' + word + r'\\s*\\'?\\s*ve', word +' have'))\n",
        "\n",
        "for word in ['that' , 'there', 'he', 'here', 'what', 'where', 'who', 'it', 'she']:\n",
        "    patrones.append((r'\\b' + word + r'\\s*\\'?\\s*s', word +' is'))\n",
        "\n",
        "for word in ['you', 'we', 'they',]:\n",
        "    patrones.append((r'\\b' + word + r'\\s*\\'?\\s*re', word +' are'))\n",
        "\n",
        "for word in ['she', 'they', 'he', 'we', 'I', 'you',]:\n",
        "    patrones.append((r'\\b' + word + r'\\s*\\'?\\s*d', word +' would'))\n",
        "\n",
        "for word in ['she', 'he', 'it']:\n",
        "    patrones.append((r'\\b' + word + r'\\s*\\'?\\s*s', word +' has'))\n",
        "  \n",
        "for word in ['she', 'they', 'he', 'we', 'I', 'you',]:\n",
        "    patrones.append((r'\\b' + word + r'\\s*\\'?\\s*d', word +' had'))\n",
        "\n",
        "for (patron, no_contraido) in patrones: \n",
        "  comments['text'] = [re.sub(patron, no_contraido, sentence) for sentence in comments['text']]\n",
        "\n",
        "comments['text'][0]"
      ],
      "metadata": {
        "colab": {
          "base_uri": "https://localhost:8080/",
          "height": 174
        },
        "id": "ZG_tmmjksGbo",
        "outputId": "27846914-e44d-47a2-d370-cd92fff47079"
      },
      "execution_count": 7,
      "outputs": [
        {
          "output_type": "execute_result",
          "data": {
            "application/vnd.google.colaboratory.intrinsic+json": {
              "type": "string"
            },
            "text/plain": [
              "' i have recently purchased a j30t with moderate miles  i shopped for a car that was looked after and paid more for it  as a former auto technician i know what to look for and what to expect yet every ti ame i drive this car i say to my self  dam that is a great car   and yes i truly do  the car affords a level of style and comfort that is beyond compare for the price  i had looked at a number of j30 s with some having covered 160k miles   i checked them to see where the problems show  they we are great other than just basic owner neglect the car is extremely quiet and smooth yet does not distance it iself from a mild degree of sportiness  performance is smooth yet i ampressive yet the power is we will handled by braking and suspension systems of si amilar refinement the appointments available with the car we are somewhat sparse yet the standard of quality and functionality we are apparent  the bose sound system for example has remarkable output and clarity without all the fancy dials  my only complis not  after 15k miles  is a lack of fold down rear seating and slightly high fuel consumption i went from driving a porsche to the infiniti and feel it was a step up in style and understated performance  '"
            ]
          },
          "metadata": {},
          "execution_count": 7
        }
      ]
    },
    {
      "cell_type": "markdown",
      "source": [
        "## 1.4 Correct wrong words"
      ],
      "metadata": {
        "id": "cKbqP1WFY7Gc"
      }
    },
    {
      "cell_type": "markdown",
      "source": [
        "TextBlob will be used for correct wrong written words."
      ],
      "metadata": {
        "id": "ZjUGa7OhSx6O"
      }
    },
    {
      "cell_type": "code",
      "source": [
        "comments['text'] = [str(TextBlob(comment).correct()) for comment in comments['text']]\n",
        "\n",
        "comments['text'][0]"
      ],
      "metadata": {
        "id": "D7ECYd8_y5pS",
        "colab": {
          "base_uri": "https://localhost:8080/",
          "height": 174
        },
        "outputId": "3e1b8262-1d78-4606-eead-4869eaa9e846"
      },
      "execution_count": 8,
      "outputs": [
        {
          "output_type": "execute_result",
          "data": {
            "application/vnd.google.colaboratory.intrinsic+json": {
              "type": "string"
            },
            "text/plain": [
              "' i have recently purchased a just with moderate miles  i stopped for a car that was looked after and paid more for it  as a former auto technical i know what to look for and what to expect yet every ti ame i drive this car i say to my self  dam that is a great car   and yes i truly do  the car affords a level of style and comfort that is beyond compare for the price  i had looked at a number of j s with some having covered 160k miles   i checked them to see where the problems show  they we are great other than just basic owner neglect the car is extremely quiet and smooth yet does not distance it itself from a mild degree of shortness  performance is smooth yet i impressive yet the power is we will handled by breaking and suspension systems of si similar refinement the appointments available with the car we are somewhat spare yet the standard of quality and functionality we are apparent  the bone sound system for example has remarkable output and clarity without all the fancy deals  my only complex not  after ask miles  is a lack of fold down rear seating and slightly high fuel consumption i went from driving a porch to the infinite and feel it was a step up in style and understand performance  '"
            ]
          },
          "metadata": {},
          "execution_count": 8
        }
      ]
    },
    {
      "cell_type": "markdown",
      "source": [
        "## 1.5 Remove or replace emoticons"
      ],
      "metadata": {
        "id": "3gNLkdAfYyFU"
      }
    },
    {
      "cell_type": "markdown",
      "source": [
        "Regular expressions will be used again. In this case, cameras, hearts, cars and smiles will be replaced by the words *camera*, *love*, *car* and *smile*, respectively. The remainder emoticons will be deleted."
      ],
      "metadata": {
        "id": "hxelUvEzS5B_"
      }
    },
    {
      "cell_type": "code",
      "source": [
        "pattern_camera = u'[\\ud83d\\udcf7\\ud83c]'\n",
        "pattern_love = u'[\\u2764\\ufe0f\\U0001f496\\u2665\\ufe0f\\U0001f495\\U0001f493\\u2661\\u2665\\ufe0f\\U0001f618]'\n",
        "pattern_car = u'[\\U0001f697\\U0001f698\\U0001f6fb\\U0001f3ce\\U0001f699]'\n",
        "pattern_smile = u'[\\U0001f60a\\U0001f600]'\n",
        "comments['text'] = [ re.sub(pattern_camera, \"camera\", text) for text in comments['text'] ]\n",
        "comments['text'] = [ re.sub(pattern_love, \"love\", text) for text in comments['text'] ]\n",
        "comments['text'] = [ re.sub(pattern_car, \"car\", text) for text in comments['text'] ]\n",
        "comments['text'] = [ re.sub(pattern_smile, \"smile\", text) for text in comments['text'] ]\n",
        "\n",
        "pattern_emotic = u'[\\U0001F300-\\U0001F5FF\\U0001F600-\\U0001F64F\\U0001F680-\\U0001F6FA\\u260E-\\u26FF-\\u2700-\\u27BF]'\n",
        "comments['text'] = [ re.sub(pattern_emotic, \"\", text) for text in comments['text'] ]\n"
      ],
      "metadata": {
        "id": "MdQPrFOyI-CN"
      },
      "execution_count": 9,
      "outputs": []
    },
    {
      "cell_type": "markdown",
      "source": [
        "## 1.6 Remove repeated words"
      ],
      "metadata": {
        "id": "yC7g8SBYYx-c"
      }
    },
    {
      "cell_type": "markdown",
      "source": [
        "For this step, list of words will be used for recognizing sequential repeated words. Thus, the comments will be tokenized by words. Then, a *groupby* function will be used for grouping them, taking only the first instance."
      ],
      "metadata": {
        "id": "sG7_PHiZTMsm"
      }
    },
    {
      "cell_type": "code",
      "source": [
        "comments['text'] = [word_tokenize(sentence) for sentence in comments['text']]\n",
        "comments['text']"
      ],
      "metadata": {
        "colab": {
          "base_uri": "https://localhost:8080/"
        },
        "id": "feJx36hSl6pW",
        "outputId": "5a04ecf5-58a4-42bc-a6eb-5b4cddd036b7"
      },
      "execution_count": 10,
      "outputs": [
        {
          "output_type": "execute_result",
          "data": {
            "text/plain": [
              "0      [i, have, recently, purchased, a, just, with, ...\n",
              "1      [i, bought, this, product, because, i, need, i...\n",
              "2      [i, have, owned, my, quick, since, 53000, km, ...\n",
              "3      [this, was, my, first, digital, camera, so, i,...\n",
              "4      [minorca, di, damage, hi, is, in, a, digital, ...\n",
              "                             ...                        \n",
              "595    [recently, our, 12, year, old, nissan, stanza,...\n",
              "596    [i, always, do, a, lot, of, research, before, ...\n",
              "597    [this, car, is, an, all, around, good, buy, if...\n",
              "598    [i, waited, to, write, this, until, i, have, h...\n",
              "599    [i, have, been, a, monster, owner, since, abou...\n",
              "Name: text, Length: 600, dtype: object"
            ]
          },
          "metadata": {},
          "execution_count": 10
        }
      ]
    },
    {
      "cell_type": "code",
      "source": [
        "comments['text'] = [list(map(lambda word: word[0], groupby(comment))) for comment in comments['text']]"
      ],
      "metadata": {
        "id": "POzQoddWP_s8"
      },
      "execution_count": 11,
      "outputs": []
    },
    {
      "cell_type": "markdown",
      "source": [
        "## 1.7 Lemmatize all terms\n",
        "\n"
      ],
      "metadata": {
        "id": "qlSL0g6UYmWt"
      }
    },
    {
      "cell_type": "markdown",
      "source": [
        "For this step, each category will be lemmatized, using *WordNetLemmatizer*."
      ],
      "metadata": {
        "id": "yLIEYh6mUFIA"
      }
    },
    {
      "cell_type": "code",
      "source": [
        "lemmatizer = WordNetLemmatizer()\n",
        "comments['text'] = [[lemmatizer.lemmatize(word, pos = 'n') for word in sentence] for sentence in comments['text']]\n",
        "comments['text'] = [[lemmatizer.lemmatize(word, pos = 'v') for word in sentence] for sentence in comments['text']]\n",
        "comments['text'] = [[lemmatizer.lemmatize(word, pos = 'a') for word in sentence] for sentence in comments['text']]\n",
        "comments['text'] = [[lemmatizer.lemmatize(word, pos = 'r') for word in sentence] for sentence in comments['text']]\n",
        "comments['text'] = [[lemmatizer.lemmatize(word, pos = 's') for word in sentence] for sentence in comments['text']]\n",
        "comments['text']"
      ],
      "metadata": {
        "colab": {
          "base_uri": "https://localhost:8080/"
        },
        "id": "joCySt7rlE7w",
        "outputId": "fda96607-383c-4dd5-c783-865f3e2130fd"
      },
      "execution_count": 12,
      "outputs": [
        {
          "output_type": "execute_result",
          "data": {
            "text/plain": [
              "0      [i, have, recently, purchase, a, just, with, m...\n",
              "1      [i, buy, this, product, because, i, need, inst...\n",
              "2      [i, have, own, my, quick, since, 53000, km, an...\n",
              "3      [this, wa, my, first, digital, camera, so, i, ...\n",
              "4      [minorca, di, damage, hi, be, in, a, digital, ...\n",
              "                             ...                        \n",
              "595    [recently, our, 12, year, old, nissan, stanza,...\n",
              "596    [i, always, do, a, lot, of, research, before, ...\n",
              "597    [this, car, be, an, all, around, good, buy, if...\n",
              "598    [i, wait, to, write, this, until, i, have, hav...\n",
              "599    [i, have, be, a, monster, owner, since, about,...\n",
              "Name: text, Length: 600, dtype: object"
            ]
          },
          "metadata": {},
          "execution_count": 12
        }
      ]
    },
    {
      "cell_type": "markdown",
      "source": [
        "Finally, comments will be transformed into strings, as previously."
      ],
      "metadata": {
        "id": "zFuKmajyWmPu"
      }
    },
    {
      "cell_type": "code",
      "source": [
        "comments['text'] = [' '.join(comment) for comment in comments['text'] ]\n",
        "comments['text']"
      ],
      "metadata": {
        "colab": {
          "base_uri": "https://localhost:8080/"
        },
        "id": "3H-p0WOlCKdA",
        "outputId": "a2fb5046-33c1-4c8e-9835-5186b88b8dca"
      },
      "execution_count": 13,
      "outputs": [
        {
          "output_type": "execute_result",
          "data": {
            "text/plain": [
              "0      i have recently purchase a just with moderate ...\n",
              "1      i buy this product because i need instant grat...\n",
              "2      i have own my quick since 53000 km and i be no...\n",
              "3      this wa my first digital camera so i do quite ...\n",
              "4      minorca di damage hi be in a digital sir with ...\n",
              "                             ...                        \n",
              "595    recently our 12 year old nissan stanza decide ...\n",
              "596    i always do a lot of research before i buy any...\n",
              "597    this car be an all around good buy if you be i...\n",
              "598    i wait to write this until i have have 4 month...\n",
              "599    i have be a monster owner since about 1985 and...\n",
              "Name: text, Length: 600, dtype: object"
            ]
          },
          "metadata": {},
          "execution_count": 13
        }
      ]
    },
    {
      "cell_type": "markdown",
      "source": [
        "#2. Vectorization"
      ],
      "metadata": {
        "id": "I6I-Vz4LYED0"
      }
    },
    {
      "cell_type": "markdown",
      "source": [
        "Every comment will be vectorized with several configurations, each with increasing complexity."
      ],
      "metadata": {
        "id": "1lmxl2kvVy_-"
      }
    },
    {
      "cell_type": "markdown",
      "source": [
        "## 2.1 TFIDF"
      ],
      "metadata": {
        "id": "g8uPtyKHA-uY"
      }
    },
    {
      "cell_type": "code",
      "source": [
        "vectorizer_tfidf = TfidfVectorizer(use_idf=True, smooth_idf=True)\n",
        "\n",
        "# Fit and transform\n",
        "data_tfidf = vectorizer_tfidf.fit_transform(comments['text'])"
      ],
      "metadata": {
        "id": "WvJfQLJDA87w"
      },
      "execution_count": 14,
      "outputs": []
    },
    {
      "cell_type": "code",
      "source": [
        "# Create a dataframe for visualization\n",
        "cv_tfidf=pd.DataFrame(data_tfidf.toarray(), columns=vectorizer_tfidf.get_feature_names())\n",
        "print(cv_tfidf)"
      ],
      "metadata": {
        "colab": {
          "base_uri": "https://localhost:8080/"
        },
        "id": "uAiHb9lqDZsy",
        "outputId": "f6f3b2a2-8da6-4bff-b43f-35e9200ed2a7"
      },
      "execution_count": 15,
      "outputs": [
        {
          "output_type": "stream",
          "name": "stdout",
          "text": [
            "          00  000   01   02  024  ...  ziebart  zip  zone  zoombrowser  zum\n",
            "0    0.00000  0.0  0.0  0.0  0.0  ...      0.0  0.0   0.0          0.0  0.0\n",
            "1    0.00000  0.0  0.0  0.0  0.0  ...      0.0  0.0   0.0          0.0  0.0\n",
            "2    0.00000  0.0  0.0  0.0  0.0  ...      0.0  0.0   0.0          0.0  0.0\n",
            "3    0.00000  0.0  0.0  0.0  0.0  ...      0.0  0.0   0.0          0.0  0.0\n",
            "4    0.00000  0.0  0.0  0.0  0.0  ...      0.0  0.0   0.0          0.0  0.0\n",
            "..       ...  ...  ...  ...  ...  ...      ...  ...   ...          ...  ...\n",
            "595  0.00000  0.0  0.0  0.0  0.0  ...      0.0  0.0   0.0          0.0  0.0\n",
            "596  0.06697  0.0  0.0  0.0  0.0  ...      0.0  0.0   0.0          0.0  0.0\n",
            "597  0.00000  0.0  0.0  0.0  0.0  ...      0.0  0.0   0.0          0.0  0.0\n",
            "598  0.00000  0.0  0.0  0.0  0.0  ...      0.0  0.0   0.0          0.0  0.0\n",
            "599  0.00000  0.0  0.0  0.0  0.0  ...      0.0  0.0   0.0          0.0  0.0\n",
            "\n",
            "[600 rows x 7870 columns]\n"
          ]
        },
        {
          "output_type": "stream",
          "name": "stderr",
          "text": [
            "/usr/local/lib/python3.7/dist-packages/sklearn/utils/deprecation.py:87: FutureWarning: Function get_feature_names is deprecated; get_feature_names is deprecated in 1.0 and will be removed in 1.2. Please use get_feature_names_out instead.\n",
            "  warnings.warn(msg, category=FutureWarning)\n"
          ]
        }
      ]
    },
    {
      "cell_type": "markdown",
      "source": [
        "## 2.2 TFIDF + N-grams"
      ],
      "metadata": {
        "id": "CmDtSdJyA-y_"
      }
    },
    {
      "cell_type": "code",
      "source": [
        "vectorizer_ngrams = TfidfVectorizer(ngram_range=(1,3))\n",
        "\n",
        "# Fit and transform\n",
        "data_ngrams = vectorizer_ngrams.fit_transform(comments['text'])\n",
        "print(\"vocabulary: \", vectorizer_ngrams.vocabulary_)"
      ],
      "metadata": {
        "colab": {
          "base_uri": "https://localhost:8080/"
        },
        "id": "F2EOgx_TEEIl",
        "outputId": "70756e12-3bb7-40b4-d735-ec5e82c5162a"
      },
      "execution_count": 16,
      "outputs": [
        {
          "output_type": "stream",
          "name": "stderr",
          "text": [
            "IOPub data rate exceeded.\n",
            "The notebook server will temporarily stop sending output\n",
            "to the client in order to avoid crashing it.\n",
            "To change this limit, set the config variable\n",
            "`--NotebookApp.iopub_data_rate_limit`.\n",
            "\n",
            "Current values:\n",
            "NotebookApp.iopub_data_rate_limit=1000000.0 (bytes/sec)\n",
            "NotebookApp.rate_limit_window=3.0 (secs)\n",
            "\n"
          ]
        }
      ]
    },
    {
      "cell_type": "code",
      "source": [
        "# Create a Dataframe\n",
        "cv_tfidf_ngrams=pd.DataFrame(data_ngrams.toarray(),columns=vectorizer_ngrams.get_feature_names())\n",
        "print(cv_tfidf_ngrams)"
      ],
      "metadata": {
        "colab": {
          "base_uri": "https://localhost:8080/"
        },
        "id": "AJkDq8HCESjp",
        "outputId": "1dc39485-f05d-47fd-be64-5795a52f0f5b"
      },
      "execution_count": 17,
      "outputs": [
        {
          "output_type": "stream",
          "name": "stderr",
          "text": [
            "/usr/local/lib/python3.7/dist-packages/sklearn/utils/deprecation.py:87: FutureWarning: Function get_feature_names is deprecated; get_feature_names is deprecated in 1.0 and will be removed in 1.2. Please use get_feature_names_out instead.\n",
            "  warnings.warn(msg, category=FutureWarning)\n"
          ]
        },
        {
          "output_type": "stream",
          "name": "stdout",
          "text": [
            "           00  00 00  00 00 from  ...  zum consider it  zum this  zum this car\n",
            "0    0.000000    0.0         0.0  ...              0.0       0.0           0.0\n",
            "1    0.000000    0.0         0.0  ...              0.0       0.0           0.0\n",
            "2    0.000000    0.0         0.0  ...              0.0       0.0           0.0\n",
            "3    0.000000    0.0         0.0  ...              0.0       0.0           0.0\n",
            "4    0.000000    0.0         0.0  ...              0.0       0.0           0.0\n",
            "..        ...    ...         ...  ...              ...       ...           ...\n",
            "595  0.000000    0.0         0.0  ...              0.0       0.0           0.0\n",
            "596  0.025144    0.0         0.0  ...              0.0       0.0           0.0\n",
            "597  0.000000    0.0         0.0  ...              0.0       0.0           0.0\n",
            "598  0.000000    0.0         0.0  ...              0.0       0.0           0.0\n",
            "599  0.000000    0.0         0.0  ...              0.0       0.0           0.0\n",
            "\n",
            "[600 rows x 341119 columns]\n"
          ]
        }
      ]
    },
    {
      "cell_type": "markdown",
      "source": [
        "## 2.3 TFIDF + N-grams + POS tagging"
      ],
      "metadata": {
        "id": "5SpTmR1hA-5a"
      }
    },
    {
      "cell_type": "markdown",
      "source": [
        "For POS tagging it's necessary to tokenize by words again. This tokenization will be stored in a new column *text_token*."
      ],
      "metadata": {
        "id": "PxVglwwrXfKg"
      }
    },
    {
      "cell_type": "code",
      "source": [
        "# Word tokenization\n",
        "comments['text_token'] = [word_tokenize(sentence) for sentence in comments['text']]\n",
        "comments['text_token']"
      ],
      "metadata": {
        "colab": {
          "base_uri": "https://localhost:8080/"
        },
        "id": "4ql_cxQTIjE0",
        "outputId": "629afdb3-dc98-45a9-cfa7-2e9979f680db"
      },
      "execution_count": 18,
      "outputs": [
        {
          "output_type": "execute_result",
          "data": {
            "text/plain": [
              "0      [i, have, recently, purchase, a, just, with, m...\n",
              "1      [i, buy, this, product, because, i, need, inst...\n",
              "2      [i, have, own, my, quick, since, 53000, km, an...\n",
              "3      [this, wa, my, first, digital, camera, so, i, ...\n",
              "4      [minorca, di, damage, hi, be, in, a, digital, ...\n",
              "                             ...                        \n",
              "595    [recently, our, 12, year, old, nissan, stanza,...\n",
              "596    [i, always, do, a, lot, of, research, before, ...\n",
              "597    [this, car, be, an, all, around, good, buy, if...\n",
              "598    [i, wait, to, write, this, until, i, have, hav...\n",
              "599    [i, have, be, a, monster, owner, since, about,...\n",
              "Name: text_token, Length: 600, dtype: object"
            ]
          },
          "metadata": {},
          "execution_count": 18
        }
      ]
    },
    {
      "cell_type": "markdown",
      "source": [
        "The POS tagging of each word will have the format <*word_pos*>. They will be stored in the list *pos_comments*."
      ],
      "metadata": {
        "id": "5vXb8IkEX10l"
      }
    },
    {
      "cell_type": "code",
      "source": [
        "pos_comments = [[f'{word_pos[0]}_{word_pos[1]}' for word_pos in nltk.pos_tag(comment)] for comment in comments['text_token']]"
      ],
      "metadata": {
        "id": "hJ9OSQHfFKNR"
      },
      "execution_count": 19,
      "outputs": []
    },
    {
      "cell_type": "markdown",
      "source": [
        "Then, the POS tagged words will be joined in string format. Finally, they will be stored in *comments* dataset."
      ],
      "metadata": {
        "id": "UY8d6hRCYY-3"
      }
    },
    {
      "cell_type": "code",
      "source": [
        "comments['pos_comments'] = [' '.join(comment) for comment in pos_comments]"
      ],
      "metadata": {
        "id": "uSBNWS7HLjGa"
      },
      "execution_count": 20,
      "outputs": []
    },
    {
      "cell_type": "code",
      "source": [
        "comments.head()"
      ],
      "metadata": {
        "colab": {
          "base_uri": "https://localhost:8080/",
          "height": 337
        },
        "id": "XplE-TgFQWkL",
        "outputId": "990bf8dd-1683-4499-f4d5-6714b1e377ec"
      },
      "execution_count": 21,
      "outputs": [
        {
          "output_type": "execute_result",
          "data": {
            "text/html": [
              "\n",
              "  <div id=\"df-831967e2-e521-4f97-a765-7ad9e1bae990\">\n",
              "    <div class=\"colab-df-container\">\n",
              "      <div>\n",
              "<style scoped>\n",
              "    .dataframe tbody tr th:only-of-type {\n",
              "        vertical-align: middle;\n",
              "    }\n",
              "\n",
              "    .dataframe tbody tr th {\n",
              "        vertical-align: top;\n",
              "    }\n",
              "\n",
              "    .dataframe thead th {\n",
              "        text-align: right;\n",
              "    }\n",
              "</style>\n",
              "<table border=\"1\" class=\"dataframe\">\n",
              "  <thead>\n",
              "    <tr style=\"text-align: right;\">\n",
              "      <th></th>\n",
              "      <th>class</th>\n",
              "      <th>text</th>\n",
              "      <th>text_token</th>\n",
              "      <th>pos_comments</th>\n",
              "    </tr>\n",
              "  </thead>\n",
              "  <tbody>\n",
              "    <tr>\n",
              "      <th>0</th>\n",
              "      <td>Auto</td>\n",
              "      <td>i have recently purchase a just with moderate ...</td>\n",
              "      <td>[i, have, recently, purchase, a, just, with, m...</td>\n",
              "      <td>i_NNS have_VBP recently_RB purchase_VB a_DT ju...</td>\n",
              "    </tr>\n",
              "    <tr>\n",
              "      <th>1</th>\n",
              "      <td>Camera</td>\n",
              "      <td>i buy this product because i need instant grat...</td>\n",
              "      <td>[i, buy, this, product, because, i, need, inst...</td>\n",
              "      <td>i_JJ buy_VBP this_DT product_NN because_IN i_J...</td>\n",
              "    </tr>\n",
              "    <tr>\n",
              "      <th>2</th>\n",
              "      <td>Auto</td>\n",
              "      <td>i have own my quick since 53000 km and i be no...</td>\n",
              "      <td>[i, have, own, my, quick, since, 53000, km, an...</td>\n",
              "      <td>i_NNS have_VBP own_JJ my_PRP$ quick_JJ since_I...</td>\n",
              "    </tr>\n",
              "    <tr>\n",
              "      <th>3</th>\n",
              "      <td>Camera</td>\n",
              "      <td>this wa my first digital camera so i do quite ...</td>\n",
              "      <td>[this, wa, my, first, digital, camera, so, i, ...</td>\n",
              "      <td>this_DT wa_NN my_PRP$ first_JJ digital_JJ came...</td>\n",
              "    </tr>\n",
              "    <tr>\n",
              "      <th>4</th>\n",
              "      <td>Camera</td>\n",
              "      <td>minorca di damage hi be in a digital sir with ...</td>\n",
              "      <td>[minorca, di, damage, hi, be, in, a, digital, ...</td>\n",
              "      <td>minorca_NN di_NN damage_NN hi_NN be_VB in_IN a...</td>\n",
              "    </tr>\n",
              "  </tbody>\n",
              "</table>\n",
              "</div>\n",
              "      <button class=\"colab-df-convert\" onclick=\"convertToInteractive('df-831967e2-e521-4f97-a765-7ad9e1bae990')\"\n",
              "              title=\"Convert this dataframe to an interactive table.\"\n",
              "              style=\"display:none;\">\n",
              "        \n",
              "  <svg xmlns=\"http://www.w3.org/2000/svg\" height=\"24px\"viewBox=\"0 0 24 24\"\n",
              "       width=\"24px\">\n",
              "    <path d=\"M0 0h24v24H0V0z\" fill=\"none\"/>\n",
              "    <path d=\"M18.56 5.44l.94 2.06.94-2.06 2.06-.94-2.06-.94-.94-2.06-.94 2.06-2.06.94zm-11 1L8.5 8.5l.94-2.06 2.06-.94-2.06-.94L8.5 2.5l-.94 2.06-2.06.94zm10 10l.94 2.06.94-2.06 2.06-.94-2.06-.94-.94-2.06-.94 2.06-2.06.94z\"/><path d=\"M17.41 7.96l-1.37-1.37c-.4-.4-.92-.59-1.43-.59-.52 0-1.04.2-1.43.59L10.3 9.45l-7.72 7.72c-.78.78-.78 2.05 0 2.83L4 21.41c.39.39.9.59 1.41.59.51 0 1.02-.2 1.41-.59l7.78-7.78 2.81-2.81c.8-.78.8-2.07 0-2.86zM5.41 20L4 18.59l7.72-7.72 1.47 1.35L5.41 20z\"/>\n",
              "  </svg>\n",
              "      </button>\n",
              "      \n",
              "  <style>\n",
              "    .colab-df-container {\n",
              "      display:flex;\n",
              "      flex-wrap:wrap;\n",
              "      gap: 12px;\n",
              "    }\n",
              "\n",
              "    .colab-df-convert {\n",
              "      background-color: #E8F0FE;\n",
              "      border: none;\n",
              "      border-radius: 50%;\n",
              "      cursor: pointer;\n",
              "      display: none;\n",
              "      fill: #1967D2;\n",
              "      height: 32px;\n",
              "      padding: 0 0 0 0;\n",
              "      width: 32px;\n",
              "    }\n",
              "\n",
              "    .colab-df-convert:hover {\n",
              "      background-color: #E2EBFA;\n",
              "      box-shadow: 0px 1px 2px rgba(60, 64, 67, 0.3), 0px 1px 3px 1px rgba(60, 64, 67, 0.15);\n",
              "      fill: #174EA6;\n",
              "    }\n",
              "\n",
              "    [theme=dark] .colab-df-convert {\n",
              "      background-color: #3B4455;\n",
              "      fill: #D2E3FC;\n",
              "    }\n",
              "\n",
              "    [theme=dark] .colab-df-convert:hover {\n",
              "      background-color: #434B5C;\n",
              "      box-shadow: 0px 1px 3px 1px rgba(0, 0, 0, 0.15);\n",
              "      filter: drop-shadow(0px 1px 2px rgba(0, 0, 0, 0.3));\n",
              "      fill: #FFFFFF;\n",
              "    }\n",
              "  </style>\n",
              "\n",
              "      <script>\n",
              "        const buttonEl =\n",
              "          document.querySelector('#df-831967e2-e521-4f97-a765-7ad9e1bae990 button.colab-df-convert');\n",
              "        buttonEl.style.display =\n",
              "          google.colab.kernel.accessAllowed ? 'block' : 'none';\n",
              "\n",
              "        async function convertToInteractive(key) {\n",
              "          const element = document.querySelector('#df-831967e2-e521-4f97-a765-7ad9e1bae990');\n",
              "          const dataTable =\n",
              "            await google.colab.kernel.invokeFunction('convertToInteractive',\n",
              "                                                     [key], {});\n",
              "          if (!dataTable) return;\n",
              "\n",
              "          const docLinkHtml = 'Like what you see? Visit the ' +\n",
              "            '<a target=\"_blank\" href=https://colab.research.google.com/notebooks/data_table.ipynb>data table notebook</a>'\n",
              "            + ' to learn more about interactive tables.';\n",
              "          element.innerHTML = '';\n",
              "          dataTable['output_type'] = 'display_data';\n",
              "          await google.colab.output.renderOutput(dataTable, element);\n",
              "          const docLink = document.createElement('div');\n",
              "          docLink.innerHTML = docLinkHtml;\n",
              "          element.appendChild(docLink);\n",
              "        }\n",
              "      </script>\n",
              "    </div>\n",
              "  </div>\n",
              "  "
            ],
            "text/plain": [
              "    class  ...                                       pos_comments\n",
              "0    Auto  ...  i_NNS have_VBP recently_RB purchase_VB a_DT ju...\n",
              "1  Camera  ...  i_JJ buy_VBP this_DT product_NN because_IN i_J...\n",
              "2    Auto  ...  i_NNS have_VBP own_JJ my_PRP$ quick_JJ since_I...\n",
              "3  Camera  ...  this_DT wa_NN my_PRP$ first_JJ digital_JJ came...\n",
              "4  Camera  ...  minorca_NN di_NN damage_NN hi_NN be_VB in_IN a...\n",
              "\n",
              "[5 rows x 4 columns]"
            ]
          },
          "metadata": {},
          "execution_count": 21
        }
      ]
    },
    {
      "cell_type": "markdown",
      "source": [
        "Now, vectorization will be applied to this new colum."
      ],
      "metadata": {
        "id": "0tBkfvEjY1-t"
      }
    },
    {
      "cell_type": "code",
      "source": [
        "vectorizer_ngrams_pos = TfidfVectorizer(ngram_range=(1,3))\n",
        "\n",
        "# Fit and transform\n",
        "data_ngrams_pos = vectorizer_ngrams_pos.fit_transform(comments['pos_comments'])\n",
        "print(\"vocabulary: \", vectorizer_ngrams_pos.vocabulary_)"
      ],
      "metadata": {
        "colab": {
          "base_uri": "https://localhost:8080/"
        },
        "id": "mrqWGPqfJflz",
        "outputId": "50d52065-0a5d-48fa-ba1d-c368339c9fcc"
      },
      "execution_count": 22,
      "outputs": [
        {
          "output_type": "stream",
          "name": "stderr",
          "text": [
            "IOPub data rate exceeded.\n",
            "The notebook server will temporarily stop sending output\n",
            "to the client in order to avoid crashing it.\n",
            "To change this limit, set the config variable\n",
            "`--NotebookApp.iopub_data_rate_limit`.\n",
            "\n",
            "Current values:\n",
            "NotebookApp.iopub_data_rate_limit=1000000.0 (bytes/sec)\n",
            "NotebookApp.rate_limit_window=3.0 (secs)\n",
            "\n"
          ]
        }
      ]
    },
    {
      "cell_type": "code",
      "source": [
        "# Creation of Dataframe for visualization\n",
        "cv_tfidf_ngrams_pos=pd.DataFrame(data_ngrams_pos.toarray(),columns=vectorizer_ngrams_pos.get_feature_names())\n",
        "print(cv_tfidf_ngrams_pos)"
      ],
      "metadata": {
        "colab": {
          "base_uri": "https://localhost:8080/"
        },
        "id": "MeRXCHW_KqMs",
        "outputId": "520ef994-f387-4f96-9365-588b2d122227"
      },
      "execution_count": 23,
      "outputs": [
        {
          "output_type": "stream",
          "name": "stderr",
          "text": [
            "/usr/local/lib/python3.7/dist-packages/sklearn/utils/deprecation.py:87: FutureWarning: Function get_feature_names is deprecated; get_feature_names is deprecated in 1.0 and will be removed in 1.2. Please use get_feature_names_out instead.\n",
            "  warnings.warn(msg, category=FutureWarning)\n"
          ]
        },
        {
          "output_type": "stream",
          "name": "stdout",
          "text": [
            "     000_cd  000_cd 00_cd  ...  zum_nn this_dt  zum_nn this_dt car_nn\n",
            "0       0.0           0.0  ...             0.0                    0.0\n",
            "1       0.0           0.0  ...             0.0                    0.0\n",
            "2       0.0           0.0  ...             0.0                    0.0\n",
            "3       0.0           0.0  ...             0.0                    0.0\n",
            "4       0.0           0.0  ...             0.0                    0.0\n",
            "..      ...           ...  ...             ...                    ...\n",
            "595     0.0           0.0  ...             0.0                    0.0\n",
            "596     0.0           0.0  ...             0.0                    0.0\n",
            "597     0.0           0.0  ...             0.0                    0.0\n",
            "598     0.0           0.0  ...             0.0                    0.0\n",
            "599     0.0           0.0  ...             0.0                    0.0\n",
            "\n",
            "[600 rows x 380447 columns]\n"
          ]
        }
      ]
    },
    {
      "cell_type": "markdown",
      "source": [
        "## 2.4 TFIDF + N-grams + POS tagging + other features"
      ],
      "metadata": {
        "id": "LgArNerRA--R"
      }
    },
    {
      "cell_type": "markdown",
      "source": [
        "In this final step, the number of words per comment will be included to the previous dataframe as new feature."
      ],
      "metadata": {
        "id": "sOyH5QudZM-T"
      }
    },
    {
      "cell_type": "code",
      "source": [
        "cv_tfidf_ngrams_pos_other = cv_tfidf_ngrams_pos.copy(deep=True)\n",
        "cv_tfidf_ngrams_pos_other['n_words'] = [len(comment) for comment in comments['text_token']]"
      ],
      "metadata": {
        "id": "YyvfIar4QgTR"
      },
      "execution_count": 24,
      "outputs": []
    },
    {
      "cell_type": "code",
      "source": [
        "cv_tfidf_ngrams_pos_other['n_words']"
      ],
      "metadata": {
        "colab": {
          "base_uri": "https://localhost:8080/"
        },
        "id": "-Cr_VFxjVHma",
        "outputId": "2885a5d7-4ec4-4cc3-b0dd-4492ee71a9a4"
      },
      "execution_count": 25,
      "outputs": [
        {
          "output_type": "execute_result",
          "data": {
            "text/plain": [
              "0       230\n",
              "1       535\n",
              "2       281\n",
              "3       201\n",
              "4      1000\n",
              "       ... \n",
              "595     409\n",
              "596     341\n",
              "597     160\n",
              "598     467\n",
              "599     248\n",
              "Name: n_words, Length: 600, dtype: int64"
            ]
          },
          "metadata": {},
          "execution_count": 25
        }
      ]
    },
    {
      "cell_type": "markdown",
      "source": [
        "# 3. Feature selection & Classification"
      ],
      "metadata": {
        "id": "TY7Uucr4YHK2"
      }
    },
    {
      "cell_type": "markdown",
      "source": [
        "This will be applied to each vectorization configuration in order to compare the results.  \n",
        "Using *selectKBest*, 70% of the features will be removed.  \n",
        "Before applying any classification algorithm, train and test data split must be carried out. 70% of the dataset will be used for training and 30% for testing. Support Vector Machine and Random Forests algorithms will be applied for solving this problem. Hyperparameter optimization and cross-validation will be carried out."
      ],
      "metadata": {
        "id": "ggPpHUyyZnp3"
      }
    },
    {
      "cell_type": "markdown",
      "source": [
        "## 3.1 TFIDF"
      ],
      "metadata": {
        "id": "0y0-xPUNnd1z"
      }
    },
    {
      "cell_type": "markdown",
      "source": [
        "### 3.1.1 Feature selection"
      ],
      "metadata": {
        "id": "fVFqIVw3nd10"
      }
    },
    {
      "cell_type": "code",
      "source": [
        "# Create feature and target variable for Classification problem\n",
        "X_clf = cv_tfidf\n",
        "\n",
        "y_clf = comments['class']\n",
        "\n",
        "y_clf = np.where(y_clf == 'Auto', 0, y_clf)\n",
        "y_clf = np.where(y_clf == 'Camera', 1, y_clf)\n",
        "y_clf = y_clf.astype('int')\n",
        "\n",
        "print(y_clf)"
      ],
      "metadata": {
        "colab": {
          "base_uri": "https://localhost:8080/"
        },
        "outputId": "708ec07c-caff-405a-d976-c3637d369450",
        "id": "qm3l0zIpnd10"
      },
      "execution_count": 26,
      "outputs": [
        {
          "output_type": "stream",
          "name": "stdout",
          "text": [
            "[0 1 0 1 1 0 0 1 1 1 0 1 1 1 1 0 1 0 0 1 0 1 1 0 0 0 1 1 1 0 0 1 0 0 1 1 0\n",
            " 1 1 1 0 1 0 0 1 1 0 1 1 1 1 1 1 0 1 1 0 0 1 0 1 1 0 0 1 1 0 0 1 0 1 1 1 0\n",
            " 1 1 0 0 1 1 0 1 1 0 0 0 0 1 0 1 1 0 0 0 0 0 0 1 1 0 0 0 1 1 1 1 1 0 1 1 1\n",
            " 0 1 1 1 0 1 1 1 0 1 0 1 1 1 0 0 1 1 0 1 1 0 1 1 1 1 0 1 0 1 1 1 0 0 0 0 0\n",
            " 0 1 0 0 1 1 1 0 1 1 1 1 0 1 0 1 1 1 1 0 1 0 0 1 1 0 1 0 1 0 0 1 1 1 1 1 1\n",
            " 0 1 1 1 1 0 0 1 1 1 0 1 1 1 1 0 1 1 0 1 0 1 1 0 1 1 0 0 1 1 1 1 1 0 0 1 1\n",
            " 0 1 1 0 1 1 1 0 1 0 0 1 0 1 0 1 1 0 1 1 1 0 1 1 1 0 1 1 1 0 1 0 1 1 0 1 0\n",
            " 1 0 1 1 1 0 1 1 0 0 1 0 1 0 1 1 1 1 0 1 1 0 1 0 0 1 1 0 1 1 1 0 1 0 0 0 1\n",
            " 0 1 0 0 1 1 1 0 1 0 0 0 1 1 0 0 1 0 1 1 1 0 1 0 0 1 1 0 1 1 1 1 1 1 1 0 0\n",
            " 1 1 0 1 0 1 1 0 0 0 0 1 1 0 1 1 1 0 0 0 1 1 1 1 1 1 1 1 0 1 0 0 1 1 1 1 0\n",
            " 1 1 1 1 1 0 0 1 1 0 0 1 0 1 1 1 1 1 1 0 1 1 0 0 1 1 1 1 0 1 1 1 0 0 1 1 0\n",
            " 0 0 0 1 1 1 0 1 0 0 1 0 0 1 0 0 0 0 0 1 1 1 1 1 0 1 1 1 1 1 1 0 0 1 1 1 0\n",
            " 1 1 0 1 0 0 1 1 0 1 0 1 1 1 1 0 1 0 0 1 1 1 1 1 0 0 0 0 1 0 1 1 1 0 1 1 0\n",
            " 1 1 0 1 0 0 1 0 1 0 1 0 0 0 0 1 0 0 1 0 1 1 1 1 0 1 1 0 1 0 0 0 1 1 1 1 0\n",
            " 0 1 1 1 1 1 1 0 1 0 0 1 0 0 0 0 1 1 0 1 1 1 1 0 0 1 1 0 1 1 0 0 0 0 1 1 0\n",
            " 1 0 1 1 1 1 0 0 1 0 1 1 1 0 1 0 0 0 0 0 1 1 1 1 0 0 0 0 0 1 1 1 1 1 0 0 0\n",
            " 0 1 1 0 1 0 0 0]\n"
          ]
        }
      ]
    },
    {
      "cell_type": "code",
      "source": [
        "X_clf_new=SelectKBest(score_func=chi2,k=int(X_clf.shape[1] * .3)).fit_transform(X_clf,y_clf) # k is the 30% of the features number\n",
        "\n",
        "# Check the newly created variable shape\n",
        "print(X_clf_new.shape)"
      ],
      "metadata": {
        "colab": {
          "base_uri": "https://localhost:8080/"
        },
        "outputId": "d4a2f8c4-9a52-405a-e248-6541325f7992",
        "id": "7lPicvTFnd11"
      },
      "execution_count": 27,
      "outputs": [
        {
          "output_type": "stream",
          "name": "stdout",
          "text": [
            "(600, 2361)\n"
          ]
        }
      ]
    },
    {
      "cell_type": "markdown",
      "source": [
        "### 3.1.2 Classification algorithm"
      ],
      "metadata": {
        "id": "4hgtsmnUnd12"
      }
    },
    {
      "cell_type": "code",
      "source": [
        "X_clf_new = pd.DataFrame(X_clf_new)\n",
        "\n",
        "x_features = list(X_clf_new.columns)\n",
        "len(x_features)"
      ],
      "metadata": {
        "colab": {
          "base_uri": "https://localhost:8080/"
        },
        "outputId": "70b2c111-ae0a-4add-8b18-8054f20842d8",
        "id": "CSqyoWJPnd12"
      },
      "execution_count": 28,
      "outputs": [
        {
          "output_type": "execute_result",
          "data": {
            "text/plain": [
              "2361"
            ]
          },
          "metadata": {},
          "execution_count": 28
        }
      ]
    },
    {
      "cell_type": "code",
      "source": [
        "X = X_clf_new[x_features]\n",
        "y = pd.Series(y_clf)\n",
        "\n",
        "X_train, X_test, y_train, y_test = train_test_split( X, y, test_size=0.30, random_state=42)"
      ],
      "metadata": {
        "id": "kdlmwINdnd12"
      },
      "execution_count": 29,
      "outputs": []
    },
    {
      "cell_type": "markdown",
      "source": [
        "#### 3.1.2.1 SVM"
      ],
      "metadata": {
        "id": "HS-Slr-Jnd13"
      }
    },
    {
      "cell_type": "code",
      "source": [
        "# Hyperparameter optimization\n",
        "param_dist = {\n",
        "              'kernel': ['linear', 'rbf'],\n",
        "             }\n",
        "SVM = GridSearchCV(estimator = svm.SVC(), param_grid = param_dist, \n",
        "                   cv = 2, n_jobs = -1) # SVM model definition\n",
        "\n",
        "SVM.fit(X_train, y_train) # Training"
      ],
      "metadata": {
        "colab": {
          "base_uri": "https://localhost:8080/"
        },
        "id": "J3n3Hyilnd13",
        "outputId": "b6f335ed-aea4-42f4-bdb6-92d9f1f90595"
      },
      "execution_count": 30,
      "outputs": [
        {
          "output_type": "execute_result",
          "data": {
            "text/plain": [
              "GridSearchCV(cv=2, estimator=SVC(), n_jobs=-1,\n",
              "             param_grid={'kernel': ['linear', 'rbf']})"
            ]
          },
          "metadata": {},
          "execution_count": 30
        }
      ]
    },
    {
      "cell_type": "code",
      "source": [
        "y_pred = SVM.predict(X_test) # Prediction\n",
        "\n",
        "print(X_test)\n",
        "print(y_pred)"
      ],
      "metadata": {
        "colab": {
          "base_uri": "https://localhost:8080/"
        },
        "outputId": "1a862024-e37f-477e-cdb3-8fa32a30bebe",
        "id": "S3JOgvKHnd13"
      },
      "execution_count": 31,
      "outputs": [
        {
          "output_type": "stream",
          "name": "stdout",
          "text": [
            "         0         1     2     3     ...      2357      2358  2359  2360\n",
            "110  0.000000  0.000000   0.0   0.0  ...  0.000000  0.087621   0.0   0.0\n",
            "419  0.000000  0.000000   0.0   0.0  ...  0.000000  0.000000   0.0   0.0\n",
            "565  0.000000  0.000000   0.0   0.0  ...  0.000000  0.000000   0.0   0.0\n",
            "77   0.000000  0.030754   0.0   0.0  ...  0.000000  0.000000   0.0   0.0\n",
            "181  0.049812  0.000000   0.0   0.0  ...  0.043266  0.000000   0.0   0.0\n",
            "..        ...       ...   ...   ...  ...       ...       ...   ...   ...\n",
            "54   0.000000  0.000000   0.0   0.0  ...  0.000000  0.000000   0.0   0.0\n",
            "493  0.000000  0.015582   0.0   0.0  ...  0.000000  0.000000   0.0   0.0\n",
            "46   0.000000  0.000000   0.0   0.0  ...  0.022831  0.000000   0.0   0.0\n",
            "93   0.000000  0.000000   0.0   0.0  ...  0.000000  0.000000   0.0   0.0\n",
            "264  0.000000  0.000000   0.0   0.0  ...  0.000000  0.000000   0.0   0.0\n",
            "\n",
            "[180 rows x 2361 columns]\n",
            "[1 0 1 0 1 1 0 0 1 1 1 1 1 1 0 0 0 0 1 0 0 1 1 1 1 1 1 1 0 1 0 1 1 1 1 1 0\n",
            " 1 1 1 0 0 1 0 0 1 0 1 0 0 1 1 0 1 0 1 1 1 0 0 0 1 1 0 0 1 0 0 1 1 1 0 0 1\n",
            " 1 1 1 1 1 1 0 1 0 0 0 1 0 0 1 1 1 1 1 1 1 0 1 1 1 0 1 0 1 0 1 1 1 1 0 1 1\n",
            " 1 1 1 1 1 0 0 0 0 0 1 0 1 1 1 0 0 1 0 0 0 0 1 0 1 1 0 0 1 0 1 1 0 0 1 0 1\n",
            " 0 0 1 0 1 0 1 1 1 1 1 1 1 0 0 0 0 0 1 1 0 1 1 1 0 1 0 1 0 0 0 0]\n"
          ]
        }
      ]
    },
    {
      "cell_type": "markdown",
      "source": [
        "For a correct result visualization, confusion matrix will be plotted. Also the *Precision*, *Recall* and *F-measure* will be calculated.\n",
        "\n",
        "\n"
      ],
      "metadata": {
        "id": "A9RWh_hOnd13"
      }
    },
    {
      "cell_type": "code",
      "source": [
        "cm = metrics.confusion_matrix(y_test, y_pred)\n",
        "print(cm)\n",
        "\n",
        "plt.figure(figsize=(9,9))\n",
        "sns.heatmap(cm, annot=True, fmt=\".3f\", linewidths=.5, square = True, cmap = 'Blues_r', yticklabels = [\"auto\", \"camera\"], xticklabels = [\"auto\", \"camera\"]);\n",
        "plt.ylabel('Valor Real');\n",
        "plt.xlabel('Valor Predicho');"
      ],
      "metadata": {
        "colab": {
          "base_uri": "https://localhost:8080/",
          "height": 561
        },
        "id": "pOKdYUdlnd14",
        "outputId": "c0f482a4-2c77-42fe-beb0-a611c5ca01c8"
      },
      "execution_count": 32,
      "outputs": [
        {
          "output_type": "stream",
          "name": "stdout",
          "text": [
            "[[ 77   0]\n",
            " [  0 103]]\n"
          ]
        },
        {
          "output_type": "display_data",
          "data": {
            "image/png": "[encoded data removed]",
            "text/plain": [
              "<Figure size 648x648 with 2 Axes>"
            ]
          },
          "metadata": {
            "needs_background": "light"
          }
        }
      ]
    },
    {
      "cell_type": "code",
      "source": [
        "TP = cm[0][0]\n",
        "FP = cm[0][1]\n",
        "FN = cm[1][0]\n",
        "TN = cm[1][1]\n",
        "precision = TP/(TP+FP)\n",
        "recall = TP/(TP+FN)\n",
        "F_measure = 2 /(1/precision+1/recall)\n",
        "print(\"Precision = \" + str(precision))\n",
        "print(\"Recall = \" + str(recall))\n",
        "print(\"F-measure = \" + str(F_measure))"
      ],
      "metadata": {
        "colab": {
          "base_uri": "https://localhost:8080/"
        },
        "id": "N9OblV7vnd14",
        "outputId": "748b6481-1f7c-419f-9c32-d5ab107291f1"
      },
      "execution_count": 33,
      "outputs": [
        {
          "output_type": "stream",
          "name": "stdout",
          "text": [
            "Precision = 1.0\n",
            "Recall = 1.0\n",
            "F-measure = 1.0\n"
          ]
        }
      ]
    },
    {
      "cell_type": "markdown",
      "source": [
        "#### 3.1.2.2 RandomForests"
      ],
      "metadata": {
        "id": "iPiek-CMnd14"
      }
    },
    {
      "cell_type": "code",
      "source": [
        "# Hyperparameter optimization\n",
        "param_dist = {\"n_estimators\": [4, 8, 16, 32, 64, 128], # Number of trees in random forest\n",
        "              \"max_depth\": [16, 15, 14, 13, 12, 11, 10, None], # Maximum number of levels in tree\n",
        "              \"min_samples_split\": sp_randint(2, 50), #  Minimum number of samples required to split a node\n",
        "              }"
      ],
      "metadata": {
        "id": "fJ9GwWYynd14"
      },
      "execution_count": 34,
      "outputs": []
    },
    {
      "cell_type": "code",
      "source": [
        "regr = RandomizedSearchCV(estimator = RandomForestClassifier(), param_distributions = param_dist, \n",
        "                               n_iter = 5, cv = 5, random_state=0, n_jobs = -1)\n",
        "\n",
        "\n",
        "# Fit the random search model\n",
        "regr.fit(X = X_train, y = y_train)\n",
        "regr.best_params_"
      ],
      "metadata": {
        "colab": {
          "base_uri": "https://localhost:8080/"
        },
        "outputId": "d2bf1f12-cabb-4602-d1aa-658703f388cb",
        "id": "vpZgSyp1nd15"
      },
      "execution_count": 35,
      "outputs": [
        {
          "output_type": "execute_result",
          "data": {
            "text/plain": [
              "{'max_depth': 12, 'min_samples_split': 49, 'n_estimators': 128}"
            ]
          },
          "metadata": {},
          "execution_count": 35
        }
      ]
    },
    {
      "cell_type": "code",
      "source": [
        "# Predict\n",
        "y_pred = regr.predict(X = X_test)"
      ],
      "metadata": {
        "id": "EgWhYKa8nd15"
      },
      "execution_count": 36,
      "outputs": []
    },
    {
      "cell_type": "markdown",
      "source": [
        "For a correct result visualization, confusion matrix will be plotted. Also the *Precision*, *Recall* and *F-measure* will be calculated.\n"
      ],
      "metadata": {
        "id": "4EkZR0Upnd15"
      }
    },
    {
      "cell_type": "code",
      "source": [
        "cm = metrics.confusion_matrix(y_test, y_pred)\n",
        "print(cm)\n",
        "\n",
        "plt.figure(figsize=(9,9))\n",
        "sns.heatmap(cm, annot=True, fmt=\".3f\", linewidths=.5, square = True, cmap = 'Blues_r', yticklabels = [\"auto\", \"camera\"], xticklabels = [\"auto\", \"camera\"]);\n",
        "plt.ylabel('Valor Real');\n",
        "plt.xlabel('Valor Predicho');"
      ],
      "metadata": {
        "colab": {
          "base_uri": "https://localhost:8080/",
          "height": 561
        },
        "outputId": "d5a416a3-edf8-4371-af95-c7422bf0939f",
        "id": "n0uBtiUPnd15"
      },
      "execution_count": 37,
      "outputs": [
        {
          "output_type": "stream",
          "name": "stdout",
          "text": [
            "[[ 77   0]\n",
            " [  0 103]]\n"
          ]
        },
        {
          "output_type": "display_data",
          "data": {
            "image/png": "[encoded data removed]",
            "text/plain": [
              "<Figure size 648x648 with 2 Axes>"
            ]
          },
          "metadata": {
            "needs_background": "light"
          }
        }
      ]
    },
    {
      "cell_type": "code",
      "source": [
        "TP = cm[0][0]\n",
        "FP = cm[0][1]\n",
        "FN = cm[1][0]\n",
        "TN = cm[1][1]\n",
        "precision = TP/(TP+FP)\n",
        "recall = TP/(TP+FN)\n",
        "F_measure = 2 /(1/precision+1/recall)\n",
        "print(\"Precision = \" + str(precision))\n",
        "print(\"Recall = \" + str(recall))\n",
        "print(\"F-measure = \" + str(F_measure))"
      ],
      "metadata": {
        "colab": {
          "base_uri": "https://localhost:8080/"
        },
        "outputId": "a336cf7a-4af3-42d2-de36-1c567cd06158",
        "id": "HBdUydWRnd16"
      },
      "execution_count": 38,
      "outputs": [
        {
          "output_type": "stream",
          "name": "stdout",
          "text": [
            "Precision = 1.0\n",
            "Recall = 1.0\n",
            "F-measure = 1.0\n"
          ]
        }
      ]
    },
    {
      "cell_type": "markdown",
      "source": [
        "## 3.2 TFIDF + N-grams"
      ],
      "metadata": {
        "id": "Mnj8g5HYncPP"
      }
    },
    {
      "cell_type": "markdown",
      "source": [
        "### 3.2.1 Feature selection"
      ],
      "metadata": {
        "id": "jTcC4BVfncPQ"
      }
    },
    {
      "cell_type": "code",
      "source": [
        "# Create feature and target variable for Classification problem\n",
        "X_clf = cv_tfidf_ngrams\n",
        "\n",
        "y_clf = comments['class']\n",
        "\n",
        "y_clf = np.where(y_clf == 'Auto', 0, y_clf)\n",
        "y_clf = np.where(y_clf == 'Camera', 1, y_clf)\n",
        "y_clf = y_clf.astype('int')\n",
        "\n",
        "print(y_clf)"
      ],
      "metadata": {
        "colab": {
          "base_uri": "https://localhost:8080/"
        },
        "outputId": "3c151708-180d-441d-f383-c62bfe3be49b",
        "id": "IBX9E-6EncPQ"
      },
      "execution_count": 39,
      "outputs": [
        {
          "output_type": "stream",
          "name": "stdout",
          "text": [
            "[0 1 0 1 1 0 0 1 1 1 0 1 1 1 1 0 1 0 0 1 0 1 1 0 0 0 1 1 1 0 0 1 0 0 1 1 0\n",
            " 1 1 1 0 1 0 0 1 1 0 1 1 1 1 1 1 0 1 1 0 0 1 0 1 1 0 0 1 1 0 0 1 0 1 1 1 0\n",
            " 1 1 0 0 1 1 0 1 1 0 0 0 0 1 0 1 1 0 0 0 0 0 0 1 1 0 0 0 1 1 1 1 1 0 1 1 1\n",
            " 0 1 1 1 0 1 1 1 0 1 0 1 1 1 0 0 1 1 0 1 1 0 1 1 1 1 0 1 0 1 1 1 0 0 0 0 0\n",
            " 0 1 0 0 1 1 1 0 1 1 1 1 0 1 0 1 1 1 1 0 1 0 0 1 1 0 1 0 1 0 0 1 1 1 1 1 1\n",
            " 0 1 1 1 1 0 0 1 1 1 0 1 1 1 1 0 1 1 0 1 0 1 1 0 1 1 0 0 1 1 1 1 1 0 0 1 1\n",
            " 0 1 1 0 1 1 1 0 1 0 0 1 0 1 0 1 1 0 1 1 1 0 1 1 1 0 1 1 1 0 1 0 1 1 0 1 0\n",
            " 1 0 1 1 1 0 1 1 0 0 1 0 1 0 1 1 1 1 0 1 1 0 1 0 0 1 1 0 1 1 1 0 1 0 0 0 1\n",
            " 0 1 0 0 1 1 1 0 1 0 0 0 1 1 0 0 1 0 1 1 1 0 1 0 0 1 1 0 1 1 1 1 1 1 1 0 0\n",
            " 1 1 0 1 0 1 1 0 0 0 0 1 1 0 1 1 1 0 0 0 1 1 1 1 1 1 1 1 0 1 0 0 1 1 1 1 0\n",
            " 1 1 1 1 1 0 0 1 1 0 0 1 0 1 1 1 1 1 1 0 1 1 0 0 1 1 1 1 0 1 1 1 0 0 1 1 0\n",
            " 0 0 0 1 1 1 0 1 0 0 1 0 0 1 0 0 0 0 0 1 1 1 1 1 0 1 1 1 1 1 1 0 0 1 1 1 0\n",
            " 1 1 0 1 0 0 1 1 0 1 0 1 1 1 1 0 1 0 0 1 1 1 1 1 0 0 0 0 1 0 1 1 1 0 1 1 0\n",
            " 1 1 0 1 0 0 1 0 1 0 1 0 0 0 0 1 0 0 1 0 1 1 1 1 0 1 1 0 1 0 0 0 1 1 1 1 0\n",
            " 0 1 1 1 1 1 1 0 1 0 0 1 0 0 0 0 1 1 0 1 1 1 1 0 0 1 1 0 1 1 0 0 0 0 1 1 0\n",
            " 1 0 1 1 1 1 0 0 1 0 1 1 1 0 1 0 0 0 0 0 1 1 1 1 0 0 0 0 0 1 1 1 1 1 0 0 0\n",
            " 0 1 1 0 1 0 0 0]\n"
          ]
        }
      ]
    },
    {
      "cell_type": "code",
      "source": [
        "X_clf_new=SelectKBest(score_func=chi2,k=int(X_clf.shape[1] * .3)).fit_transform(X_clf,y_clf) # k is the 30% of the features number\n",
        "\n",
        "# Check the newly created variable shape\n",
        "print(X_clf_new.shape)"
      ],
      "metadata": {
        "colab": {
          "base_uri": "https://localhost:8080/"
        },
        "outputId": "b777aaae-28a2-45b2-cb93-0a3cf18a7af9",
        "id": "qe384qEincPR"
      },
      "execution_count": 40,
      "outputs": [
        {
          "output_type": "stream",
          "name": "stdout",
          "text": [
            "(600, 102335)\n"
          ]
        }
      ]
    },
    {
      "cell_type": "markdown",
      "source": [
        "### 3.2.2 Classification algorithm"
      ],
      "metadata": {
        "id": "31stPuIqncPR"
      }
    },
    {
      "cell_type": "code",
      "source": [
        "X_clf_new = pd.DataFrame(X_clf_new)\n",
        "\n",
        "x_features = list(X_clf_new.columns)\n",
        "len(x_features)"
      ],
      "metadata": {
        "colab": {
          "base_uri": "https://localhost:8080/"
        },
        "outputId": "2154c928-da9d-4604-a3bc-0d98b3bf4683",
        "id": "7YwocSm2ncPS"
      },
      "execution_count": 41,
      "outputs": [
        {
          "output_type": "execute_result",
          "data": {
            "text/plain": [
              "102335"
            ]
          },
          "metadata": {},
          "execution_count": 41
        }
      ]
    },
    {
      "cell_type": "code",
      "source": [
        "X = X_clf_new[x_features]\n",
        "y = pd.Series(y_clf)\n",
        "\n",
        "X_train, X_test, y_train, y_test = train_test_split( X, y, test_size=0.30, random_state=42)"
      ],
      "metadata": {
        "id": "9w4moEOgncPS"
      },
      "execution_count": 42,
      "outputs": []
    },
    {
      "cell_type": "markdown",
      "source": [
        "#### 3.2.2.1 SVM"
      ],
      "metadata": {
        "id": "8Pwezd12ncPS"
      }
    },
    {
      "cell_type": "code",
      "source": [
        "# Hyperparameter optimization\n",
        "param_dist = {\n",
        "              'kernel': ['linear', 'rbf'],\n",
        "             }\n",
        "SVM = GridSearchCV(estimator = svm.SVC(), param_grid = param_dist, \n",
        "                   cv = 2, n_jobs = -1) # SVM model definition\n",
        "\n",
        "SVM.fit(X_train, y_train) # Training"
      ],
      "metadata": {
        "colab": {
          "base_uri": "https://localhost:8080/"
        },
        "id": "_ok3XEH8ncPS",
        "outputId": "9c5d5677-21d5-46d3-af24-e20df9516d31"
      },
      "execution_count": 43,
      "outputs": [
        {
          "output_type": "stream",
          "name": "stderr",
          "text": [
            "/usr/local/lib/python3.7/dist-packages/joblib/externals/loky/process_executor.py:705: UserWarning: A worker stopped while some jobs were given to the executor. This can be caused by a too short worker timeout or by a memory leak.\n",
            "  \"timeout or by a memory leak.\", UserWarning\n"
          ]
        },
        {
          "output_type": "execute_result",
          "data": {
            "text/plain": [
              "GridSearchCV(cv=2, estimator=SVC(), n_jobs=-1,\n",
              "             param_grid={'kernel': ['linear', 'rbf']})"
            ]
          },
          "metadata": {},
          "execution_count": 43
        }
      ]
    },
    {
      "cell_type": "code",
      "source": [
        "y_pred = SVM.predict(X_test) # Prediction\n",
        "\n",
        "print(X_test)\n",
        "print(y_pred)"
      ],
      "metadata": {
        "colab": {
          "base_uri": "https://localhost:8080/"
        },
        "outputId": "a4d41cbc-a91b-4acf-ce5a-444e66c6fa45",
        "id": "_ZbK_U0uncPS"
      },
      "execution_count": 44,
      "outputs": [
        {
          "output_type": "stream",
          "name": "stdout",
          "text": [
            "       0         1       2       3       ...  102331  102332  102333  102334\n",
            "110  0.000000  0.000000     0.0     0.0  ...     0.0     0.0     0.0     0.0\n",
            "419  0.000000  0.000000     0.0     0.0  ...     0.0     0.0     0.0     0.0\n",
            "565  0.000000  0.000000     0.0     0.0  ...     0.0     0.0     0.0     0.0\n",
            "77   0.000000  0.000000     0.0     0.0  ...     0.0     0.0     0.0     0.0\n",
            "181  0.021025  0.032363     0.0     0.0  ...     0.0     0.0     0.0     0.0\n",
            "..        ...       ...     ...     ...  ...     ...     ...     ...     ...\n",
            "54   0.000000  0.000000     0.0     0.0  ...     0.0     0.0     0.0     0.0\n",
            "493  0.000000  0.000000     0.0     0.0  ...     0.0     0.0     0.0     0.0\n",
            "46   0.000000  0.000000     0.0     0.0  ...     0.0     0.0     0.0     0.0\n",
            "93   0.000000  0.000000     0.0     0.0  ...     0.0     0.0     0.0     0.0\n",
            "264  0.000000  0.000000     0.0     0.0  ...     0.0     0.0     0.0     0.0\n",
            "\n",
            "[180 rows x 102335 columns]\n",
            "[1 0 1 0 1 1 0 0 1 1 1 1 1 1 0 0 0 0 1 0 0 1 1 1 1 1 1 1 0 1 0 1 1 1 1 1 0\n",
            " 1 1 1 0 0 1 0 0 1 0 1 0 0 1 1 0 1 0 1 1 1 0 0 0 1 1 0 0 1 0 0 1 1 1 0 0 1\n",
            " 1 1 1 1 1 1 0 1 0 0 0 1 0 0 1 1 1 1 1 1 1 0 1 1 1 0 1 0 1 0 1 1 1 1 0 1 1\n",
            " 1 1 1 1 1 0 0 0 0 0 1 0 1 1 1 0 0 1 0 0 0 0 1 0 1 1 0 0 1 0 1 1 0 0 1 0 1\n",
            " 0 0 1 0 1 0 1 1 1 1 1 1 1 0 0 0 0 0 1 1 0 1 1 1 0 1 0 1 0 0 0 0]\n"
          ]
        }
      ]
    },
    {
      "cell_type": "markdown",
      "source": [
        "For a correct result visualization, confusion matrix will be plotted. Also the *Precision*, *Recall* and *F-measure* will be calculated.\n",
        "\n",
        "\n"
      ],
      "metadata": {
        "id": "HfHy5oaoncPT"
      }
    },
    {
      "cell_type": "code",
      "source": [
        "cm = metrics.confusion_matrix(y_test, y_pred)\n",
        "print(cm)\n",
        "\n",
        "plt.figure(figsize=(9,9))\n",
        "sns.heatmap(cm, annot=True, fmt=\".3f\", linewidths=.5, square = True, cmap = 'Blues_r', yticklabels = [\"auto\", \"camera\"], xticklabels = [\"auto\", \"camera\"]);\n",
        "plt.ylabel('Valor Real');\n",
        "plt.xlabel('Valor Predicho');"
      ],
      "metadata": {
        "colab": {
          "base_uri": "https://localhost:8080/",
          "height": 561
        },
        "id": "bPyHXv3EncPT",
        "outputId": "8110d05f-afee-47da-8a6c-7b66b0a06079"
      },
      "execution_count": 45,
      "outputs": [
        {
          "output_type": "stream",
          "name": "stdout",
          "text": [
            "[[ 77   0]\n",
            " [  0 103]]\n"
          ]
        },
        {
          "output_type": "display_data",
          "data": {
            "image/png": "[encoded data removed]",
            "text/plain": [
              "<Figure size 648x648 with 2 Axes>"
            ]
          },
          "metadata": {
            "needs_background": "light"
          }
        }
      ]
    },
    {
      "cell_type": "code",
      "source": [
        "TP = cm[0][0]\n",
        "FP = cm[0][1]\n",
        "FN = cm[1][0]\n",
        "TN = cm[1][1]\n",
        "precision = TP/(TP+FP)\n",
        "recall = TP/(TP+FN)\n",
        "F_measure = 2 /(1/precision+1/recall)\n",
        "print(\"Precision = \" + str(precision))\n",
        "print(\"Recall = \" + str(recall))\n",
        "print(\"F-measure = \" + str(F_measure))"
      ],
      "metadata": {
        "colab": {
          "base_uri": "https://localhost:8080/"
        },
        "id": "UnBxJcNzncPT",
        "outputId": "640867e1-eaff-4d5f-fee3-b1bd41888227"
      },
      "execution_count": 46,
      "outputs": [
        {
          "output_type": "stream",
          "name": "stdout",
          "text": [
            "Precision = 1.0\n",
            "Recall = 1.0\n",
            "F-measure = 1.0\n"
          ]
        }
      ]
    },
    {
      "cell_type": "markdown",
      "source": [
        "#### 3.2.2.2 RandomForests"
      ],
      "metadata": {
        "id": "ENbcXweZncPT"
      }
    },
    {
      "cell_type": "code",
      "source": [
        "# Hyperparameter optimization\n",
        "param_dist = {\"n_estimators\": [4, 8, 16, 32, 64, 128], # Number of trees in random forest\n",
        "              \"max_depth\": [16, 15, 14, 13, 12, 11, 10, None], # Maximum number of levels in tree\n",
        "              \"min_samples_split\": sp_randint(2, 50), #  Minimum number of samples required to split a node\n",
        "              }"
      ],
      "metadata": {
        "id": "l9fT-XBencPT"
      },
      "execution_count": 47,
      "outputs": []
    },
    {
      "cell_type": "code",
      "source": [
        "regr = RandomizedSearchCV(estimator = RandomForestClassifier(), param_distributions = param_dist, \n",
        "                               n_iter = 5, cv = 5, random_state=0, n_jobs = -1)\n",
        "\n",
        "\n",
        "# Fit the random search model\n",
        "regr.fit(X = X_train, y = y_train)\n",
        "regr.best_params_"
      ],
      "metadata": {
        "colab": {
          "base_uri": "https://localhost:8080/"
        },
        "outputId": "18c640bf-87b0-4069-b3ef-a9446767364b",
        "id": "PPZ2eZ_rncPU"
      },
      "execution_count": 48,
      "outputs": [
        {
          "output_type": "execute_result",
          "data": {
            "text/plain": [
              "{'max_depth': 16, 'min_samples_split': 5, 'n_estimators': 32}"
            ]
          },
          "metadata": {},
          "execution_count": 48
        }
      ]
    },
    {
      "cell_type": "code",
      "source": [
        "# Predict\n",
        "y_pred = regr.predict(X = X_test)"
      ],
      "metadata": {
        "id": "y2Bl2ZdZncPU"
      },
      "execution_count": 49,
      "outputs": []
    },
    {
      "cell_type": "markdown",
      "source": [
        "For a correct result visualization, confusion matrix will be plotted. Also the *Precision*, *Recall* and *F-measure* will be calculated.\n"
      ],
      "metadata": {
        "id": "NLuZh_JVncPV"
      }
    },
    {
      "cell_type": "code",
      "source": [
        "cm = metrics.confusion_matrix(y_test, y_pred)\n",
        "print(cm)\n",
        "\n",
        "plt.figure(figsize=(9,9))\n",
        "sns.heatmap(cm, annot=True, fmt=\".3f\", linewidths=.5, square = True, cmap = 'Blues_r', yticklabels = [\"auto\", \"camera\"], xticklabels = [\"auto\", \"camera\"]);\n",
        "plt.ylabel('Valor Real');\n",
        "plt.xlabel('Valor Predicho');"
      ],
      "metadata": {
        "colab": {
          "base_uri": "https://localhost:8080/",
          "height": 561
        },
        "outputId": "e0c80f45-2cb8-41c9-deba-08423d88d49f",
        "id": "9HlGwII_ncPV"
      },
      "execution_count": 50,
      "outputs": [
        {
          "output_type": "stream",
          "name": "stdout",
          "text": [
            "[[ 77   0]\n",
            " [  0 103]]\n"
          ]
        },
        {
          "output_type": "display_data",
          "data": {
            "image/png": "[encoded data removed]",
            "text/plain": [
              "<Figure size 648x648 with 2 Axes>"
            ]
          },
          "metadata": {
            "needs_background": "light"
          }
        }
      ]
    },
    {
      "cell_type": "code",
      "source": [
        "TP = cm[0][0]\n",
        "FP = cm[0][1]\n",
        "FN = cm[1][0]\n",
        "TN = cm[1][1]\n",
        "precision = TP/(TP+FP)\n",
        "recall = TP/(TP+FN)\n",
        "F_measure = 2 /(1/precision+1/recall)\n",
        "print(\"Precision = \" + str(precision))\n",
        "print(\"Recall = \" + str(recall))\n",
        "print(\"F-measure = \" + str(F_measure))"
      ],
      "metadata": {
        "colab": {
          "base_uri": "https://localhost:8080/"
        },
        "outputId": "ea8bd237-8721-4d6e-f069-31c2eb18ed81",
        "id": "kXJDnkBPncPW"
      },
      "execution_count": 51,
      "outputs": [
        {
          "output_type": "stream",
          "name": "stdout",
          "text": [
            "Precision = 1.0\n",
            "Recall = 1.0\n",
            "F-measure = 1.0\n"
          ]
        }
      ]
    },
    {
      "cell_type": "markdown",
      "source": [
        "## 3.3 TFIDF + N-grams + POS tagging"
      ],
      "metadata": {
        "id": "sgL1--genaAu"
      }
    },
    {
      "cell_type": "markdown",
      "source": [
        "### 3.3.1 Feature selection"
      ],
      "metadata": {
        "id": "LSpv0IY9naAv"
      }
    },
    {
      "cell_type": "code",
      "source": [
        "# Create feature and target variable for Classification problem\n",
        "X_clf = cv_tfidf_ngrams_pos\n",
        "\n",
        "y_clf = comments['class']\n",
        "\n",
        "y_clf = np.where(y_clf == 'Auto', 0, y_clf)\n",
        "y_clf = np.where(y_clf == 'Camera', 1, y_clf)\n",
        "y_clf = y_clf.astype('int')\n",
        "\n",
        "print(y_clf)"
      ],
      "metadata": {
        "colab": {
          "base_uri": "https://localhost:8080/"
        },
        "outputId": "249fc42b-c13f-4928-c7be-0ff244d506d6",
        "id": "TvbUSVPBnaAw"
      },
      "execution_count": 52,
      "outputs": [
        {
          "output_type": "stream",
          "name": "stdout",
          "text": [
            "[0 1 0 1 1 0 0 1 1 1 0 1 1 1 1 0 1 0 0 1 0 1 1 0 0 0 1 1 1 0 0 1 0 0 1 1 0\n",
            " 1 1 1 0 1 0 0 1 1 0 1 1 1 1 1 1 0 1 1 0 0 1 0 1 1 0 0 1 1 0 0 1 0 1 1 1 0\n",
            " 1 1 0 0 1 1 0 1 1 0 0 0 0 1 0 1 1 0 0 0 0 0 0 1 1 0 0 0 1 1 1 1 1 0 1 1 1\n",
            " 0 1 1 1 0 1 1 1 0 1 0 1 1 1 0 0 1 1 0 1 1 0 1 1 1 1 0 1 0 1 1 1 0 0 0 0 0\n",
            " 0 1 0 0 1 1 1 0 1 1 1 1 0 1 0 1 1 1 1 0 1 0 0 1 1 0 1 0 1 0 0 1 1 1 1 1 1\n",
            " 0 1 1 1 1 0 0 1 1 1 0 1 1 1 1 0 1 1 0 1 0 1 1 0 1 1 0 0 1 1 1 1 1 0 0 1 1\n",
            " 0 1 1 0 1 1 1 0 1 0 0 1 0 1 0 1 1 0 1 1 1 0 1 1 1 0 1 1 1 0 1 0 1 1 0 1 0\n",
            " 1 0 1 1 1 0 1 1 0 0 1 0 1 0 1 1 1 1 0 1 1 0 1 0 0 1 1 0 1 1 1 0 1 0 0 0 1\n",
            " 0 1 0 0 1 1 1 0 1 0 0 0 1 1 0 0 1 0 1 1 1 0 1 0 0 1 1 0 1 1 1 1 1 1 1 0 0\n",
            " 1 1 0 1 0 1 1 0 0 0 0 1 1 0 1 1 1 0 0 0 1 1 1 1 1 1 1 1 0 1 0 0 1 1 1 1 0\n",
            " 1 1 1 1 1 0 0 1 1 0 0 1 0 1 1 1 1 1 1 0 1 1 0 0 1 1 1 1 0 1 1 1 0 0 1 1 0\n",
            " 0 0 0 1 1 1 0 1 0 0 1 0 0 1 0 0 0 0 0 1 1 1 1 1 0 1 1 1 1 1 1 0 0 1 1 1 0\n",
            " 1 1 0 1 0 0 1 1 0 1 0 1 1 1 1 0 1 0 0 1 1 1 1 1 0 0 0 0 1 0 1 1 1 0 1 1 0\n",
            " 1 1 0 1 0 0 1 0 1 0 1 0 0 0 0 1 0 0 1 0 1 1 1 1 0 1 1 0 1 0 0 0 1 1 1 1 0\n",
            " 0 1 1 1 1 1 1 0 1 0 0 1 0 0 0 0 1 1 0 1 1 1 1 0 0 1 1 0 1 1 0 0 0 0 1 1 0\n",
            " 1 0 1 1 1 1 0 0 1 0 1 1 1 0 1 0 0 0 0 0 1 1 1 1 0 0 0 0 0 1 1 1 1 1 0 0 0\n",
            " 0 1 1 0 1 0 0 0]\n"
          ]
        }
      ]
    },
    {
      "cell_type": "code",
      "source": [
        "X_clf_new=SelectKBest(score_func=chi2,k=int(X_clf.shape[1] * .3)).fit_transform(X_clf,y_clf) # k is the 30% of the features number\n",
        "\n",
        "# Check the newly created variable shape\n",
        "print(X_clf_new.shape)"
      ],
      "metadata": {
        "colab": {
          "base_uri": "https://localhost:8080/"
        },
        "outputId": "f01f9891-7cca-4462-9bbd-c9e4dd142c6a",
        "id": "dC10alvbnaAx"
      },
      "execution_count": 53,
      "outputs": [
        {
          "output_type": "stream",
          "name": "stdout",
          "text": [
            "(600, 114134)\n"
          ]
        }
      ]
    },
    {
      "cell_type": "markdown",
      "source": [
        "### 3.3.2 Classification algorithm"
      ],
      "metadata": {
        "id": "DwMLcTHPnaAx"
      }
    },
    {
      "cell_type": "code",
      "source": [
        "X_clf_new = pd.DataFrame(X_clf_new)\n",
        "\n",
        "x_features = list(X_clf_new.columns)\n",
        "len(x_features)"
      ],
      "metadata": {
        "colab": {
          "base_uri": "https://localhost:8080/"
        },
        "outputId": "cbd63e04-45f6-4397-d45f-d52c525e07f4",
        "id": "RVoytxLgnaAy"
      },
      "execution_count": 54,
      "outputs": [
        {
          "output_type": "execute_result",
          "data": {
            "text/plain": [
              "114134"
            ]
          },
          "metadata": {},
          "execution_count": 54
        }
      ]
    },
    {
      "cell_type": "code",
      "source": [
        "X = X_clf_new[x_features]\n",
        "y = pd.Series(y_clf)\n",
        "\n",
        "X_train, X_test, y_train, y_test = train_test_split( X, y, test_size=0.30, random_state=42)"
      ],
      "metadata": {
        "id": "C3T4F9HHnaAy"
      },
      "execution_count": 55,
      "outputs": []
    },
    {
      "cell_type": "markdown",
      "source": [
        "#### 3.3.2.1 SVM"
      ],
      "metadata": {
        "id": "lWlJZd4rnaAy"
      }
    },
    {
      "cell_type": "code",
      "source": [
        "# Hyperparameter optimization\n",
        "param_dist = {\n",
        "              'kernel': ['linear', 'rbf'],\n",
        "             }\n",
        "SVM = GridSearchCV(estimator = svm.SVC(), param_grid = param_dist, \n",
        "                   cv = 2, n_jobs = -1) # SVM model definition\n",
        "\n",
        "SVM.fit(X_train, y_train) # Training"
      ],
      "metadata": {
        "colab": {
          "base_uri": "https://localhost:8080/"
        },
        "id": "aOUuxpXhnaAy",
        "outputId": "b2e24e1e-f7ed-4677-b973-1d9809ff962e"
      },
      "execution_count": 56,
      "outputs": [
        {
          "output_type": "execute_result",
          "data": {
            "text/plain": [
              "GridSearchCV(cv=2, estimator=SVC(), n_jobs=-1,\n",
              "             param_grid={'kernel': ['linear', 'rbf']})"
            ]
          },
          "metadata": {},
          "execution_count": 56
        }
      ]
    },
    {
      "cell_type": "code",
      "source": [
        "y_pred = SVM.predict(X_test) # Prediction\n",
        "\n",
        "print(X_test)\n",
        "print(y_pred)"
      ],
      "metadata": {
        "colab": {
          "base_uri": "https://localhost:8080/"
        },
        "outputId": "b04ff125-5d17-468b-a1ff-344a164c308e",
        "id": "LFxOJxCfnaAz"
      },
      "execution_count": 57,
      "outputs": [
        {
          "output_type": "stream",
          "name": "stdout",
          "text": [
            "       0       1       2       3       ...  114130  114131  114132  114133\n",
            "110  0.000000     0.0     0.0     0.0  ...     0.0     0.0     0.0     0.0\n",
            "419  0.000000     0.0     0.0     0.0  ...     0.0     0.0     0.0     0.0\n",
            "565  0.000000     0.0     0.0     0.0  ...     0.0     0.0     0.0     0.0\n",
            "77   0.013034     0.0     0.0     0.0  ...     0.0     0.0     0.0     0.0\n",
            "181  0.000000     0.0     0.0     0.0  ...     0.0     0.0     0.0     0.0\n",
            "..        ...     ...     ...     ...  ...     ...     ...     ...     ...\n",
            "54   0.000000     0.0     0.0     0.0  ...     0.0     0.0     0.0     0.0\n",
            "493  0.008305     0.0     0.0     0.0  ...     0.0     0.0     0.0     0.0\n",
            "46   0.000000     0.0     0.0     0.0  ...     0.0     0.0     0.0     0.0\n",
            "93   0.000000     0.0     0.0     0.0  ...     0.0     0.0     0.0     0.0\n",
            "264  0.000000     0.0     0.0     0.0  ...     0.0     0.0     0.0     0.0\n",
            "\n",
            "[180 rows x 114134 columns]\n",
            "[1 0 1 0 1 1 0 0 1 1 1 1 1 1 0 0 0 0 1 0 0 1 1 1 1 1 1 1 0 1 0 1 1 1 1 1 0\n",
            " 1 1 1 0 0 1 0 0 1 0 1 0 0 1 1 0 1 0 1 1 1 0 0 0 1 1 0 0 1 0 0 1 1 1 0 0 1\n",
            " 1 1 1 1 1 1 0 1 0 0 0 1 0 0 1 1 1 1 1 1 1 0 1 1 1 0 1 0 1 0 1 1 1 1 0 1 1\n",
            " 1 1 1 1 1 0 0 0 0 0 1 0 1 1 1 0 0 1 0 0 0 0 1 0 1 1 0 0 1 0 1 1 0 0 1 0 1\n",
            " 0 0 1 0 1 0 1 1 1 1 1 1 1 0 0 0 0 0 1 1 0 1 1 1 0 1 0 1 0 0 0 0]\n"
          ]
        }
      ]
    },
    {
      "cell_type": "markdown",
      "source": [
        "For a correct result visualization, confusion matrix will be plotted. Also the *Precision*, *Recall* and *F-measure* will be calculated.\n",
        "\n",
        "\n"
      ],
      "metadata": {
        "id": "IWWx0PhAnaAz"
      }
    },
    {
      "cell_type": "code",
      "source": [
        "cm = metrics.confusion_matrix(y_test, y_pred)\n",
        "print(cm)\n",
        "\n",
        "plt.figure(figsize=(9,9))\n",
        "sns.heatmap(cm, annot=True, fmt=\".3f\", linewidths=.5, square = True, cmap = 'Blues_r', yticklabels = [\"auto\", \"camera\"], xticklabels = [\"auto\", \"camera\"]);\n",
        "plt.ylabel('Valor Real');\n",
        "plt.xlabel('Valor Predicho');"
      ],
      "metadata": {
        "colab": {
          "base_uri": "https://localhost:8080/",
          "height": 561
        },
        "id": "asDuex9SnaAz",
        "outputId": "407c93d7-a3c3-4981-d360-af2029a9060e"
      },
      "execution_count": 58,
      "outputs": [
        {
          "output_type": "stream",
          "name": "stdout",
          "text": [
            "[[ 77   0]\n",
            " [  0 103]]\n"
          ]
        },
        {
          "output_type": "display_data",
          "data": {
            "image/png": "[encoded data removed]",
            "text/plain": [
              "<Figure size 648x648 with 2 Axes>"
            ]
          },
          "metadata": {
            "needs_background": "light"
          }
        }
      ]
    },
    {
      "cell_type": "code",
      "source": [
        "TP = cm[0][0]\n",
        "FP = cm[0][1]\n",
        "FN = cm[1][0]\n",
        "TN = cm[1][1]\n",
        "precision = TP/(TP+FP)\n",
        "recall = TP/(TP+FN)\n",
        "F_measure = 2 /(1/precision+1/recall)\n",
        "print(\"Precision = \" + str(precision))\n",
        "print(\"Recall = \" + str(recall))\n",
        "print(\"F-measure = \" + str(F_measure))"
      ],
      "metadata": {
        "colab": {
          "base_uri": "https://localhost:8080/"
        },
        "id": "ttiW61nUnaA0",
        "outputId": "0de247eb-38db-4f10-ecb4-247a48edaf47"
      },
      "execution_count": 59,
      "outputs": [
        {
          "output_type": "stream",
          "name": "stdout",
          "text": [
            "Precision = 1.0\n",
            "Recall = 1.0\n",
            "F-measure = 1.0\n"
          ]
        }
      ]
    },
    {
      "cell_type": "markdown",
      "source": [
        "#### 3.3.2.2 RandomForests"
      ],
      "metadata": {
        "id": "oghP2TOnnaA0"
      }
    },
    {
      "cell_type": "code",
      "source": [
        "# Hyperparameter optimization\n",
        "param_dist = {\"n_estimators\": [4, 8, 16, 32, 64, 128], # Number of trees in random forest\n",
        "              \"max_depth\": [16, 15, 14, 13, 12, 11, 10, None], # Maximum number of levels in tree\n",
        "              \"min_samples_split\": sp_randint(2, 50), #  Minimum number of samples required to split a node\n",
        "              }"
      ],
      "metadata": {
        "id": "laVmbp5SnaA0"
      },
      "execution_count": 60,
      "outputs": []
    },
    {
      "cell_type": "code",
      "source": [
        "regr = RandomizedSearchCV(estimator = RandomForestClassifier(), param_distributions = param_dist, \n",
        "                               n_iter = 5, cv = 5, random_state=0, n_jobs = -1)\n",
        "\n",
        "\n",
        "# Fit the random search model\n",
        "regr.fit(X = X_train, y = y_train)\n",
        "regr.best_params_"
      ],
      "metadata": {
        "colab": {
          "base_uri": "https://localhost:8080/"
        },
        "outputId": "5d7d29fb-2e3f-49cf-f948-e08b3cdc7d0c",
        "id": "90DApqYHnaA0"
      },
      "execution_count": 61,
      "outputs": [
        {
          "output_type": "execute_result",
          "data": {
            "text/plain": [
              "{'max_depth': 12, 'min_samples_split': 49, 'n_estimators': 128}"
            ]
          },
          "metadata": {},
          "execution_count": 61
        }
      ]
    },
    {
      "cell_type": "code",
      "source": [
        "# Predict\n",
        "y_pred = regr.predict(X = X_test)"
      ],
      "metadata": {
        "id": "g6sw7RgGnaA1"
      },
      "execution_count": 62,
      "outputs": []
    },
    {
      "cell_type": "markdown",
      "source": [
        "For a correct result visualization, confusion matrix will be plotted. Also the *Precision*, *Recall* and *F-measure* will be calculated.\n"
      ],
      "metadata": {
        "id": "2KyY4WrCnaA1"
      }
    },
    {
      "cell_type": "code",
      "source": [
        "cm = metrics.confusion_matrix(y_test, y_pred)\n",
        "print(cm)\n",
        "\n",
        "plt.figure(figsize=(9,9))\n",
        "sns.heatmap(cm, annot=True, fmt=\".3f\", linewidths=.5, square = True, cmap = 'Blues_r', yticklabels = [\"auto\", \"camera\"], xticklabels = [\"auto\", \"camera\"]);\n",
        "plt.ylabel('Valor Real');\n",
        "plt.xlabel('Valor Predicho');"
      ],
      "metadata": {
        "colab": {
          "base_uri": "https://localhost:8080/",
          "height": 561
        },
        "outputId": "47c67b6a-59f4-4b41-ab15-c978ed561329",
        "id": "NI4DkHmNnaA1"
      },
      "execution_count": 63,
      "outputs": [
        {
          "output_type": "stream",
          "name": "stdout",
          "text": [
            "[[ 77   0]\n",
            " [  0 103]]\n"
          ]
        },
        {
          "output_type": "display_data",
          "data": {
            "image/png": "[encoded data removed]",
            "text/plain": [
              "<Figure size 648x648 with 2 Axes>"
            ]
          },
          "metadata": {
            "needs_background": "light"
          }
        }
      ]
    },
    {
      "cell_type": "code",
      "source": [
        "TP = cm[0][0]\n",
        "FP = cm[0][1]\n",
        "FN = cm[1][0]\n",
        "TN = cm[1][1]\n",
        "precision = TP/(TP+FP)\n",
        "recall = TP/(TP+FN)\n",
        "F_measure = 2 /(1/precision+1/recall)\n",
        "print(\"Precision = \" + str(precision))\n",
        "print(\"Recall = \" + str(recall))\n",
        "print(\"F-measure = \" + str(F_measure))"
      ],
      "metadata": {
        "colab": {
          "base_uri": "https://localhost:8080/"
        },
        "outputId": "ef8e7a48-1b9a-4fe6-b644-562309d85698",
        "id": "AqVnLNRBnaA2"
      },
      "execution_count": 64,
      "outputs": [
        {
          "output_type": "stream",
          "name": "stdout",
          "text": [
            "Precision = 1.0\n",
            "Recall = 1.0\n",
            "F-measure = 1.0\n"
          ]
        }
      ]
    },
    {
      "cell_type": "markdown",
      "source": [
        "## 3.4 TFIDF + N-grams + POS tagging + other features"
      ],
      "metadata": {
        "id": "wiXFhbLjhjsq"
      }
    },
    {
      "cell_type": "markdown",
      "source": [
        "### 3.4.1 Feature selection"
      ],
      "metadata": {
        "id": "t7IKg0TQh3Un"
      }
    },
    {
      "cell_type": "code",
      "source": [
        "# Create feature and target variable for Classification problem\n",
        "X_clf = cv_tfidf_ngrams_pos_other\n",
        "\n",
        "y_clf = comments['class']\n",
        "\n",
        "y_clf = np.where(y_clf == 'Auto', 0, y_clf)\n",
        "y_clf = np.where(y_clf == 'Camera', 1, y_clf)\n",
        "y_clf = y_clf.astype('int')\n",
        "\n",
        "print(y_clf)"
      ],
      "metadata": {
        "colab": {
          "base_uri": "https://localhost:8080/"
        },
        "id": "CH3KWkuFVytK",
        "outputId": "0ca3582f-5b92-4cc4-904a-803becc50a0e"
      },
      "execution_count": 65,
      "outputs": [
        {
          "output_type": "stream",
          "name": "stdout",
          "text": [
            "[0 1 0 1 1 0 0 1 1 1 0 1 1 1 1 0 1 0 0 1 0 1 1 0 0 0 1 1 1 0 0 1 0 0 1 1 0\n",
            " 1 1 1 0 1 0 0 1 1 0 1 1 1 1 1 1 0 1 1 0 0 1 0 1 1 0 0 1 1 0 0 1 0 1 1 1 0\n",
            " 1 1 0 0 1 1 0 1 1 0 0 0 0 1 0 1 1 0 0 0 0 0 0 1 1 0 0 0 1 1 1 1 1 0 1 1 1\n",
            " 0 1 1 1 0 1 1 1 0 1 0 1 1 1 0 0 1 1 0 1 1 0 1 1 1 1 0 1 0 1 1 1 0 0 0 0 0\n",
            " 0 1 0 0 1 1 1 0 1 1 1 1 0 1 0 1 1 1 1 0 1 0 0 1 1 0 1 0 1 0 0 1 1 1 1 1 1\n",
            " 0 1 1 1 1 0 0 1 1 1 0 1 1 1 1 0 1 1 0 1 0 1 1 0 1 1 0 0 1 1 1 1 1 0 0 1 1\n",
            " 0 1 1 0 1 1 1 0 1 0 0 1 0 1 0 1 1 0 1 1 1 0 1 1 1 0 1 1 1 0 1 0 1 1 0 1 0\n",
            " 1 0 1 1 1 0 1 1 0 0 1 0 1 0 1 1 1 1 0 1 1 0 1 0 0 1 1 0 1 1 1 0 1 0 0 0 1\n",
            " 0 1 0 0 1 1 1 0 1 0 0 0 1 1 0 0 1 0 1 1 1 0 1 0 0 1 1 0 1 1 1 1 1 1 1 0 0\n",
            " 1 1 0 1 0 1 1 0 0 0 0 1 1 0 1 1 1 0 0 0 1 1 1 1 1 1 1 1 0 1 0 0 1 1 1 1 0\n",
            " 1 1 1 1 1 0 0 1 1 0 0 1 0 1 1 1 1 1 1 0 1 1 0 0 1 1 1 1 0 1 1 1 0 0 1 1 0\n",
            " 0 0 0 1 1 1 0 1 0 0 1 0 0 1 0 0 0 0 0 1 1 1 1 1 0 1 1 1 1 1 1 0 0 1 1 1 0\n",
            " 1 1 0 1 0 0 1 1 0 1 0 1 1 1 1 0 1 0 0 1 1 1 1 1 0 0 0 0 1 0 1 1 1 0 1 1 0\n",
            " 1 1 0 1 0 0 1 0 1 0 1 0 0 0 0 1 0 0 1 0 1 1 1 1 0 1 1 0 1 0 0 0 1 1 1 1 0\n",
            " 0 1 1 1 1 1 1 0 1 0 0 1 0 0 0 0 1 1 0 1 1 1 1 0 0 1 1 0 1 1 0 0 0 0 1 1 0\n",
            " 1 0 1 1 1 1 0 0 1 0 1 1 1 0 1 0 0 0 0 0 1 1 1 1 0 0 0 0 0 1 1 1 1 1 0 0 0\n",
            " 0 1 1 0 1 0 0 0]\n"
          ]
        }
      ]
    },
    {
      "cell_type": "code",
      "source": [
        "X_clf_new=SelectKBest(score_func=chi2,k=int(X_clf.shape[1] * .3)).fit_transform(X_clf,y_clf) # k is the 30% of the features number\n",
        "\n",
        "# Check the newly created variable shape\n",
        "print(X_clf_new.shape)"
      ],
      "metadata": {
        "colab": {
          "base_uri": "https://localhost:8080/"
        },
        "id": "1GeCx-NEYN8E",
        "outputId": "cc2a399e-71ce-4c4a-f831-4afa66d9fde1"
      },
      "execution_count": 66,
      "outputs": [
        {
          "output_type": "stream",
          "name": "stdout",
          "text": [
            "(600, 114134)\n"
          ]
        }
      ]
    },
    {
      "cell_type": "markdown",
      "source": [
        "### 3.4.2 Classification algorithm"
      ],
      "metadata": {
        "id": "2RcMDqE_YKHu"
      }
    },
    {
      "cell_type": "code",
      "source": [
        "X_clf_new = pd.DataFrame(X_clf_new)\n",
        "\n",
        "x_features = list(X_clf_new.columns)\n",
        "len(x_features)"
      ],
      "metadata": {
        "colab": {
          "base_uri": "https://localhost:8080/"
        },
        "id": "-yQP2nJoZeWD",
        "outputId": "2e981a4d-1c41-44fa-b57f-97aecb39b5ca"
      },
      "execution_count": 67,
      "outputs": [
        {
          "output_type": "execute_result",
          "data": {
            "text/plain": [
              "114134"
            ]
          },
          "metadata": {},
          "execution_count": 67
        }
      ]
    },
    {
      "cell_type": "code",
      "source": [
        "X = X_clf_new[x_features]\n",
        "y = pd.Series(y_clf)\n",
        "\n",
        "X_train, X_test, y_train, y_test = train_test_split( X, y, test_size=0.30, random_state=42)"
      ],
      "metadata": {
        "id": "DoElfAUSZeaz"
      },
      "execution_count": 68,
      "outputs": []
    },
    {
      "cell_type": "markdown",
      "source": [
        "#### 3.4.2.1 SVM"
      ],
      "metadata": {
        "id": "qgneeOoscNn0"
      }
    },
    {
      "cell_type": "code",
      "source": [
        "# Hyperparameter optimization\n",
        "param_dist = {\n",
        "              'kernel': ['linear', 'rbf'],\n",
        "             }\n",
        "SVM = GridSearchCV(estimator = svm.SVC(), param_grid = param_dist, \n",
        "                   cv = 2, n_jobs = -1) # SVM model definition\n",
        "\n",
        "SVM.fit(X_train, y_train) # Training"
      ],
      "metadata": {
        "colab": {
          "base_uri": "https://localhost:8080/"
        },
        "id": "tL7jDIYpgskp",
        "outputId": "2935cf25-3158-4783-a07c-95a3358de19e"
      },
      "execution_count": 69,
      "outputs": [
        {
          "output_type": "execute_result",
          "data": {
            "text/plain": [
              "GridSearchCV(cv=2, estimator=SVC(), n_jobs=-1,\n",
              "             param_grid={'kernel': ['linear', 'rbf']})"
            ]
          },
          "metadata": {},
          "execution_count": 69
        }
      ]
    },
    {
      "cell_type": "code",
      "source": [
        "y_pred = SVM.predict(X_test) # Prediction\n",
        "\n",
        "print(X_test)\n",
        "print(y_pred)"
      ],
      "metadata": {
        "colab": {
          "base_uri": "https://localhost:8080/"
        },
        "id": "6fIYqSM-dBHF",
        "outputId": "c4531ca9-0ad5-43a4-c3e2-60c8576aab03"
      },
      "execution_count": 70,
      "outputs": [
        {
          "output_type": "stream",
          "name": "stdout",
          "text": [
            "       0       1       2       3       ...  114130  114131  114132  114133\n",
            "110  0.000000     0.0     0.0     0.0  ...     0.0     0.0     0.0   757.0\n",
            "419  0.000000     0.0     0.0     0.0  ...     0.0     0.0     0.0   226.0\n",
            "565  0.000000     0.0     0.0     0.0  ...     0.0     0.0     0.0    78.0\n",
            "77   0.013034     0.0     0.0     0.0  ...     0.0     0.0     0.0   445.0\n",
            "181  0.000000     0.0     0.0     0.0  ...     0.0     0.0     0.0   412.0\n",
            "..        ...     ...     ...     ...  ...     ...     ...     ...     ...\n",
            "54   0.000000     0.0     0.0     0.0  ...     0.0     0.0     0.0   838.0\n",
            "493  0.008305     0.0     0.0     0.0  ...     0.0     0.0     0.0   933.0\n",
            "46   0.000000     0.0     0.0     0.0  ...     0.0     0.0     0.0   310.0\n",
            "93   0.000000     0.0     0.0     0.0  ...     0.0     0.0     0.0   118.0\n",
            "264  0.000000     0.0     0.0     0.0  ...     0.0     0.0     0.0   153.0\n",
            "\n",
            "[180 rows x 114134 columns]\n",
            "[1 0 1 0 1 1 0 0 1 1 1 1 1 1 0 0 0 0 1 0 0 1 1 1 1 1 1 1 0 1 0 1 1 1 1 1 0\n",
            " 1 1 1 0 0 1 0 0 1 0 1 0 0 1 1 0 1 0 1 1 1 1 0 0 1 1 0 0 1 0 0 1 1 1 0 0 1\n",
            " 1 1 1 1 1 1 0 1 0 0 0 1 0 0 1 1 1 1 1 1 1 0 1 1 1 0 1 0 1 0 1 1 1 1 0 1 1\n",
            " 1 1 1 1 1 0 0 0 0 0 1 0 1 1 1 0 0 1 0 0 0 0 1 0 1 1 0 0 1 0 1 1 0 0 1 0 1\n",
            " 0 0 1 0 1 0 1 1 1 1 1 1 1 0 0 0 0 0 1 1 0 1 1 1 0 1 0 1 0 0 0 0]\n"
          ]
        }
      ]
    },
    {
      "cell_type": "markdown",
      "source": [
        "For a correct result visualization, confusion matrix will be plotted. Also the *Precision*, *Recall* and *F-measure* will be calculated.\n",
        "\n",
        "\n"
      ],
      "metadata": {
        "id": "rum1JigCcRTa"
      }
    },
    {
      "cell_type": "code",
      "source": [
        "cm = metrics.confusion_matrix(y_test, y_pred)\n",
        "print(cm)\n",
        "\n",
        "plt.figure(figsize=(9,9))\n",
        "sns.heatmap(cm, annot=True, fmt=\".3f\", linewidths=.5, square = True, cmap = 'Blues_r', yticklabels = [\"auto\", \"camera\"], xticklabels = [\"auto\", \"camera\"]);\n",
        "plt.ylabel('Valor Real');\n",
        "plt.xlabel('Valor Predicho');"
      ],
      "metadata": {
        "colab": {
          "base_uri": "https://localhost:8080/",
          "height": 561
        },
        "id": "8CveDMD_ciu7",
        "outputId": "a510acd8-62f6-46a8-92da-c02b85a9e74e"
      },
      "execution_count": 71,
      "outputs": [
        {
          "output_type": "stream",
          "name": "stdout",
          "text": [
            "[[ 76   1]\n",
            " [  0 103]]\n"
          ]
        },
        {
          "output_type": "display_data",
          "data": {
            "image/png": "[encoded data removed]",
            "text/plain": [
              "<Figure size 648x648 with 2 Axes>"
            ]
          },
          "metadata": {
            "needs_background": "light"
          }
        }
      ]
    },
    {
      "cell_type": "code",
      "source": [
        "TP = cm[0][0]\n",
        "FP = cm[0][1]\n",
        "FN = cm[1][0]\n",
        "TN = cm[1][1]\n",
        "precision = TP/(TP+FP)\n",
        "recall = TP/(TP+FN)\n",
        "F_measure = 2 /(1/precision+1/recall)\n",
        "print(\"Precision = \" + str(precision))\n",
        "print(\"Recall = \" + str(recall))\n",
        "print(\"F-measure = \" + str(F_measure))"
      ],
      "metadata": {
        "colab": {
          "base_uri": "https://localhost:8080/"
        },
        "id": "7snk7GcMcpKR",
        "outputId": "94dc0a5c-1d31-4a37-a872-9857ba798e0b"
      },
      "execution_count": 72,
      "outputs": [
        {
          "output_type": "stream",
          "name": "stdout",
          "text": [
            "Precision = 0.987012987012987\n",
            "Recall = 1.0\n",
            "F-measure = 0.9934640522875817\n"
          ]
        }
      ]
    },
    {
      "cell_type": "markdown",
      "source": [
        "#### 3.4.2.2 RandomForests"
      ],
      "metadata": {
        "id": "s30zT3wW8Dti"
      }
    },
    {
      "cell_type": "code",
      "source": [
        "# Hyperparameter optimization\n",
        "param_dist = {\"n_estimators\": [4, 8, 16, 32, 64, 128], # Number of trees in random forest\n",
        "              \"max_depth\": [16, 15, 14, 13, 12, 11, 10, None], # Maximum number of levels in tree\n",
        "              \"min_samples_split\": sp_randint(2, 50), #  Minimum number of samples required to split a node\n",
        "              }"
      ],
      "metadata": {
        "id": "XvQeWOKljg8R"
      },
      "execution_count": 73,
      "outputs": []
    },
    {
      "cell_type": "code",
      "source": [
        "regr = RandomizedSearchCV(estimator = RandomForestClassifier(), param_distributions = param_dist, \n",
        "                               n_iter = 5, cv = 5, random_state=0, n_jobs = -1)\n",
        "\n",
        "\n",
        "# Fit the random search model\n",
        "regr.fit(X = X_train, y = y_train)\n",
        "regr.best_params_"
      ],
      "metadata": {
        "colab": {
          "base_uri": "https://localhost:8080/"
        },
        "id": "CUa8Y-y0jre_",
        "outputId": "284b0682-a663-4d27-f692-cda9442a482d"
      },
      "execution_count": 74,
      "outputs": [
        {
          "output_type": "execute_result",
          "data": {
            "text/plain": [
              "{'max_depth': 12, 'min_samples_split': 49, 'n_estimators': 128}"
            ]
          },
          "metadata": {},
          "execution_count": 74
        }
      ]
    },
    {
      "cell_type": "code",
      "source": [
        "# Predict\n",
        "y_pred = regr.predict(X = X_test)"
      ],
      "metadata": {
        "id": "YSVqcycpk3-w"
      },
      "execution_count": 75,
      "outputs": []
    },
    {
      "cell_type": "markdown",
      "source": [
        "For a correct result visualization, confusion matrix will be plotted. Also the *Precision*, *Recall* and *F-measure* will be calculated.\n"
      ],
      "metadata": {
        "id": "xJJCbJVJeDev"
      }
    },
    {
      "cell_type": "code",
      "source": [
        "cm = metrics.confusion_matrix(y_test, y_pred)\n",
        "print(cm)\n",
        "\n",
        "plt.figure(figsize=(9,9))\n",
        "sns.heatmap(cm, annot=True, fmt=\".3f\", linewidths=.5, square = True, cmap = 'Blues_r', yticklabels = [\"auto\", \"camera\"], xticklabels = [\"auto\", \"camera\"]);\n",
        "plt.ylabel('Valor Real');\n",
        "plt.xlabel('Valor Predicho');"
      ],
      "metadata": {
        "colab": {
          "base_uri": "https://localhost:8080/",
          "height": 561
        },
        "id": "rQ4JyTN7duEp",
        "outputId": "900dac2c-34b7-4ba2-a1dd-9c5f0e346c87"
      },
      "execution_count": 76,
      "outputs": [
        {
          "output_type": "stream",
          "name": "stdout",
          "text": [
            "[[ 77   0]\n",
            " [  0 103]]\n"
          ]
        },
        {
          "output_type": "display_data",
          "data": {
            "image/png": "[encoded data removed]",
            "text/plain": [
              "<Figure size 648x648 with 2 Axes>"
            ]
          },
          "metadata": {
            "needs_background": "light"
          }
        }
      ]
    },
    {
      "cell_type": "code",
      "source": [
        "TP = cm[0][0]\n",
        "FP = cm[0][1]\n",
        "FN = cm[1][0]\n",
        "TN = cm[1][1]\n",
        "precision = TP/(TP+FP)\n",
        "recall = TP/(TP+FN)\n",
        "F_measure = 2 /(1/precision+1/recall)\n",
        "print(\"Precision = \" + str(precision))\n",
        "print(\"Recall = \" + str(recall))\n",
        "print(\"F-measure = \" + str(F_measure))"
      ],
      "metadata": {
        "colab": {
          "base_uri": "https://localhost:8080/"
        },
        "id": "TR6NU63Wduzg",
        "outputId": "55a0a2e8-d032-4c3c-e24e-e23c8abbab78"
      },
      "execution_count": 77,
      "outputs": [
        {
          "output_type": "stream",
          "name": "stdout",
          "text": [
            "Precision = 1.0\n",
            "Recall = 1.0\n",
            "F-measure = 1.0\n"
          ]
        }
      ]
    }
  ]
}