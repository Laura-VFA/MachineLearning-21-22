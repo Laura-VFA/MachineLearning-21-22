{
  "nbformat": 4,
  "nbformat_minor": 0,
  "metadata": {
    "colab": {
      "name": "ML_Deliverable2.ipynb",
      "provenance": [],
      "collapsed_sections": [],
      "toc_visible": true,
      "authorship_tag": "ABX9TyN13eTFBmZyq9rdFcGyWuLk",
      "include_colab_link": true
    },
    "kernelspec": {
      "name": "python3",
      "display_name": "Python 3"
    },
    "language_info": {
      "name": "python"
    }
  },
  "cells": [
    {
      "cell_type": "markdown",
      "metadata": {
        "id": "view-in-github",
        "colab_type": "text"
      },
      "source": [
        "<a href=\"https://colab.research.google.com/github/Laura-VFA/MachineLearning-21-22/blob/main/ML_Deliverable2.ipynb\" target=\"_parent\"><img src=\"https://colab.research.google.com/assets/colab-badge.svg\" alt=\"Open In Colab\"/></a>"
      ]
    },
    {
      "cell_type": "code",
      "execution_count": 1,
      "metadata": {
        "colab": {
          "base_uri": "https://localhost:8080/"
        },
        "id": "KpqTCorWXL95",
        "outputId": "2684fe8d-7e71-4f62-b03f-15924ffc65d4"
      },
      "outputs": [
        {
          "output_type": "stream",
          "name": "stdout",
          "text": [
            "--2022-01-04 17:35:56--  https://raw.githubusercontent.com/Laura-VFA/MachineLearning-21-22/main/Datasets/comments.csv\n",
            "Resolving raw.githubusercontent.com (raw.githubusercontent.com)... 185.199.108.133, 185.199.109.133, 185.199.110.133, ...\n",
            "Connecting to raw.githubusercontent.com (raw.githubusercontent.com)|185.199.108.133|:443... connected.\n",
            "HTTP request sent, awaiting response... 200 OK\n",
            "Length: 1690905 (1.6M) [text/plain]\n",
            "Saving to: ‘comments.csv’\n",
            "\n",
            "\rcomments.csv          0%[                    ]       0  --.-KB/s               \rcomments.csv        100%[===================>]   1.61M  --.-KB/s    in 0.05s   \n",
            "\n",
            "2022-01-04 17:35:56 (33.2 MB/s) - ‘comments.csv’ saved [1690905/1690905]\n",
            "\n"
          ]
        }
      ],
      "source": [
        "!rm *.*\n",
        "\n",
        "!wget https://raw.githubusercontent.com/Laura-VFA/MachineLearning-21-22/main/Datasets/comments.csv\n"
      ]
    },
    {
      "cell_type": "code",
      "source": [
        "import pandas as pd\n",
        "import nltk\n",
        "nltk.download(\"popular\")\n",
        "from nltk.tokenize import sent_tokenize, word_tokenize\n",
        "nltk.download('wordnet')\n",
        "from nltk.stem import WordNetLemmatizer\n",
        "from sklearn.feature_extraction.text import TfidfVectorizer\n",
        "\n",
        "!pip install stanza\n",
        "import stanza"
      ],
      "metadata": {
        "colab": {
          "base_uri": "https://localhost:8080/"
        },
        "id": "H5Tc3ZN_X0Gs",
        "outputId": "3933186a-3457-4d57-9d4e-d3d28aa7d1f9"
      },
      "execution_count": 2,
      "outputs": [
        {
          "output_type": "stream",
          "name": "stdout",
          "text": [
            "[nltk_data] Downloading collection 'popular'\n",
            "[nltk_data]    | \n",
            "[nltk_data]    | Downloading package cmudict to /root/nltk_data...\n",
            "[nltk_data]    |   Package cmudict is already up-to-date!\n",
            "[nltk_data]    | Downloading package gazetteers to /root/nltk_data...\n",
            "[nltk_data]    |   Package gazetteers is already up-to-date!\n",
            "[nltk_data]    | Downloading package genesis to /root/nltk_data...\n",
            "[nltk_data]    |   Package genesis is already up-to-date!\n",
            "[nltk_data]    | Downloading package gutenberg to /root/nltk_data...\n",
            "[nltk_data]    |   Package gutenberg is already up-to-date!\n",
            "[nltk_data]    | Downloading package inaugural to /root/nltk_data...\n",
            "[nltk_data]    |   Package inaugural is already up-to-date!\n",
            "[nltk_data]    | Downloading package movie_reviews to\n",
            "[nltk_data]    |     /root/nltk_data...\n",
            "[nltk_data]    |   Package movie_reviews is already up-to-date!\n",
            "[nltk_data]    | Downloading package names to /root/nltk_data...\n",
            "[nltk_data]    |   Package names is already up-to-date!\n",
            "[nltk_data]    | Downloading package shakespeare to /root/nltk_data...\n",
            "[nltk_data]    |   Package shakespeare is already up-to-date!\n",
            "[nltk_data]    | Downloading package stopwords to /root/nltk_data...\n",
            "[nltk_data]    |   Package stopwords is already up-to-date!\n",
            "[nltk_data]    | Downloading package treebank to /root/nltk_data...\n",
            "[nltk_data]    |   Package treebank is already up-to-date!\n",
            "[nltk_data]    | Downloading package twitter_samples to\n",
            "[nltk_data]    |     /root/nltk_data...\n",
            "[nltk_data]    |   Package twitter_samples is already up-to-date!\n",
            "[nltk_data]    | Downloading package omw-1.4 to /root/nltk_data...\n",
            "[nltk_data]    |   Package omw-1.4 is already up-to-date!\n",
            "[nltk_data]    | Downloading package omw to /root/nltk_data...\n",
            "[nltk_data]    |   Package omw is already up-to-date!\n",
            "[nltk_data]    | Downloading package wordnet to /root/nltk_data...\n",
            "[nltk_data]    |   Package wordnet is already up-to-date!\n",
            "[nltk_data]    | Downloading package wordnet31 to /root/nltk_data...\n",
            "[nltk_data]    |   Package wordnet31 is already up-to-date!\n",
            "[nltk_data]    | Downloading package wordnet_ic to /root/nltk_data...\n",
            "[nltk_data]    |   Package wordnet_ic is already up-to-date!\n",
            "[nltk_data]    | Downloading package words to /root/nltk_data...\n",
            "[nltk_data]    |   Package words is already up-to-date!\n",
            "[nltk_data]    | Downloading package maxent_ne_chunker to\n",
            "[nltk_data]    |     /root/nltk_data...\n",
            "[nltk_data]    |   Package maxent_ne_chunker is already up-to-date!\n",
            "[nltk_data]    | Downloading package punkt to /root/nltk_data...\n",
            "[nltk_data]    |   Package punkt is already up-to-date!\n",
            "[nltk_data]    | Downloading package snowball_data to\n",
            "[nltk_data]    |     /root/nltk_data...\n",
            "[nltk_data]    |   Package snowball_data is already up-to-date!\n",
            "[nltk_data]    | Downloading package averaged_perceptron_tagger to\n",
            "[nltk_data]    |     /root/nltk_data...\n",
            "[nltk_data]    |   Package averaged_perceptron_tagger is already up-\n",
            "[nltk_data]    |       to-date!\n",
            "[nltk_data]    | \n",
            "[nltk_data]  Done downloading collection popular\n",
            "[nltk_data] Downloading package wordnet to /root/nltk_data...\n",
            "[nltk_data]   Package wordnet is already up-to-date!\n",
            "Requirement already satisfied: stanza in /usr/local/lib/python3.7/dist-packages (1.3.0)\n",
            "Requirement already satisfied: six in /usr/local/lib/python3.7/dist-packages (from stanza) (1.15.0)\n",
            "Requirement already satisfied: tqdm in /usr/local/lib/python3.7/dist-packages (from stanza) (4.62.3)\n",
            "Requirement already satisfied: protobuf in /usr/local/lib/python3.7/dist-packages (from stanza) (3.17.3)\n",
            "Requirement already satisfied: torch>=1.3.0 in /usr/local/lib/python3.7/dist-packages (from stanza) (1.10.0+cu111)\n",
            "Requirement already satisfied: numpy in /usr/local/lib/python3.7/dist-packages (from stanza) (1.19.5)\n",
            "Requirement already satisfied: emoji in /usr/local/lib/python3.7/dist-packages (from stanza) (1.6.1)\n",
            "Requirement already satisfied: requests in /usr/local/lib/python3.7/dist-packages (from stanza) (2.23.0)\n",
            "Requirement already satisfied: typing-extensions in /usr/local/lib/python3.7/dist-packages (from torch>=1.3.0->stanza) (3.10.0.2)\n",
            "Requirement already satisfied: chardet<4,>=3.0.2 in /usr/local/lib/python3.7/dist-packages (from requests->stanza) (3.0.4)\n",
            "Requirement already satisfied: urllib3!=1.25.0,!=1.25.1,<1.26,>=1.21.1 in /usr/local/lib/python3.7/dist-packages (from requests->stanza) (1.24.3)\n",
            "Requirement already satisfied: certifi>=2017.4.17 in /usr/local/lib/python3.7/dist-packages (from requests->stanza) (2021.10.8)\n",
            "Requirement already satisfied: idna<3,>=2.5 in /usr/local/lib/python3.7/dist-packages (from requests->stanza) (2.10)\n"
          ]
        }
      ]
    },
    {
      "cell_type": "code",
      "source": [
        "comments = pd.read_csv('comments.csv', sep=',')\n",
        "comments.head()"
      ],
      "metadata": {
        "colab": {
          "base_uri": "https://localhost:8080/",
          "height": 206
        },
        "id": "QHVt2ryZXyQc",
        "outputId": "a3310a83-72de-477c-9d1b-f383e3ce4eb9"
      },
      "execution_count": 3,
      "outputs": [
        {
          "output_type": "execute_result",
          "data": {
            "text/html": [
              "\n",
              "  <div id=\"df-d742c84b-35db-4ed0-960b-b8e16cad92de\">\n",
              "    <div class=\"colab-df-container\">\n",
              "      <div>\n",
              "<style scoped>\n",
              "    .dataframe tbody tr th:only-of-type {\n",
              "        vertical-align: middle;\n",
              "    }\n",
              "\n",
              "    .dataframe tbody tr th {\n",
              "        vertical-align: top;\n",
              "    }\n",
              "\n",
              "    .dataframe thead th {\n",
              "        text-align: right;\n",
              "    }\n",
              "</style>\n",
              "<table border=\"1\" class=\"dataframe\">\n",
              "  <thead>\n",
              "    <tr style=\"text-align: right;\">\n",
              "      <th></th>\n",
              "      <th>class</th>\n",
              "      <th>text</th>\n",
              "    </tr>\n",
              "  </thead>\n",
              "  <tbody>\n",
              "    <tr>\n",
              "      <th>0</th>\n",
              "      <td>Auto</td>\n",
              "      <td>I have recently purchased a J30T with moderat...</td>\n",
              "    </tr>\n",
              "    <tr>\n",
              "      <th>1</th>\n",
              "      <td>Camera</td>\n",
              "      <td>I bought this product because I need instant ...</td>\n",
              "    </tr>\n",
              "    <tr>\n",
              "      <th>2</th>\n",
              "      <td>Auto</td>\n",
              "      <td>I have owned my Buick since 53000 km and I am...</td>\n",
              "    </tr>\n",
              "    <tr>\n",
              "      <th>3</th>\n",
              "      <td>Camera</td>\n",
              "      <td>This was my first Digital camera so I did qui...</td>\n",
              "    </tr>\n",
              "    <tr>\n",
              "      <th>4</th>\n",
              "      <td>Camera</td>\n",
              "      <td>Minolta DiMAGE 7Hi is in a digital SLR with 5...</td>\n",
              "    </tr>\n",
              "  </tbody>\n",
              "</table>\n",
              "</div>\n",
              "      <button class=\"colab-df-convert\" onclick=\"convertToInteractive('df-d742c84b-35db-4ed0-960b-b8e16cad92de')\"\n",
              "              title=\"Convert this dataframe to an interactive table.\"\n",
              "              style=\"display:none;\">\n",
              "        \n",
              "  <svg xmlns=\"http://www.w3.org/2000/svg\" height=\"24px\"viewBox=\"0 0 24 24\"\n",
              "       width=\"24px\">\n",
              "    <path d=\"M0 0h24v24H0V0z\" fill=\"none\"/>\n",
              "    <path d=\"M18.56 5.44l.94 2.06.94-2.06 2.06-.94-2.06-.94-.94-2.06-.94 2.06-2.06.94zm-11 1L8.5 8.5l.94-2.06 2.06-.94-2.06-.94L8.5 2.5l-.94 2.06-2.06.94zm10 10l.94 2.06.94-2.06 2.06-.94-2.06-.94-.94-2.06-.94 2.06-2.06.94z\"/><path d=\"M17.41 7.96l-1.37-1.37c-.4-.4-.92-.59-1.43-.59-.52 0-1.04.2-1.43.59L10.3 9.45l-7.72 7.72c-.78.78-.78 2.05 0 2.83L4 21.41c.39.39.9.59 1.41.59.51 0 1.02-.2 1.41-.59l7.78-7.78 2.81-2.81c.8-.78.8-2.07 0-2.86zM5.41 20L4 18.59l7.72-7.72 1.47 1.35L5.41 20z\"/>\n",
              "  </svg>\n",
              "      </button>\n",
              "      \n",
              "  <style>\n",
              "    .colab-df-container {\n",
              "      display:flex;\n",
              "      flex-wrap:wrap;\n",
              "      gap: 12px;\n",
              "    }\n",
              "\n",
              "    .colab-df-convert {\n",
              "      background-color: #E8F0FE;\n",
              "      border: none;\n",
              "      border-radius: 50%;\n",
              "      cursor: pointer;\n",
              "      display: none;\n",
              "      fill: #1967D2;\n",
              "      height: 32px;\n",
              "      padding: 0 0 0 0;\n",
              "      width: 32px;\n",
              "    }\n",
              "\n",
              "    .colab-df-convert:hover {\n",
              "      background-color: #E2EBFA;\n",
              "      box-shadow: 0px 1px 2px rgba(60, 64, 67, 0.3), 0px 1px 3px 1px rgba(60, 64, 67, 0.15);\n",
              "      fill: #174EA6;\n",
              "    }\n",
              "\n",
              "    [theme=dark] .colab-df-convert {\n",
              "      background-color: #3B4455;\n",
              "      fill: #D2E3FC;\n",
              "    }\n",
              "\n",
              "    [theme=dark] .colab-df-convert:hover {\n",
              "      background-color: #434B5C;\n",
              "      box-shadow: 0px 1px 3px 1px rgba(0, 0, 0, 0.15);\n",
              "      filter: drop-shadow(0px 1px 2px rgba(0, 0, 0, 0.3));\n",
              "      fill: #FFFFFF;\n",
              "    }\n",
              "  </style>\n",
              "\n",
              "      <script>\n",
              "        const buttonEl =\n",
              "          document.querySelector('#df-d742c84b-35db-4ed0-960b-b8e16cad92de button.colab-df-convert');\n",
              "        buttonEl.style.display =\n",
              "          google.colab.kernel.accessAllowed ? 'block' : 'none';\n",
              "\n",
              "        async function convertToInteractive(key) {\n",
              "          const element = document.querySelector('#df-d742c84b-35db-4ed0-960b-b8e16cad92de');\n",
              "          const dataTable =\n",
              "            await google.colab.kernel.invokeFunction('convertToInteractive',\n",
              "                                                     [key], {});\n",
              "          if (!dataTable) return;\n",
              "\n",
              "          const docLinkHtml = 'Like what you see? Visit the ' +\n",
              "            '<a target=\"_blank\" href=https://colab.research.google.com/notebooks/data_table.ipynb>data table notebook</a>'\n",
              "            + ' to learn more about interactive tables.';\n",
              "          element.innerHTML = '';\n",
              "          dataTable['output_type'] = 'display_data';\n",
              "          await google.colab.output.renderOutput(dataTable, element);\n",
              "          const docLink = document.createElement('div');\n",
              "          docLink.innerHTML = docLinkHtml;\n",
              "          element.appendChild(docLink);\n",
              "        }\n",
              "      </script>\n",
              "    </div>\n",
              "  </div>\n",
              "  "
            ],
            "text/plain": [
              "    class                                               text\n",
              "0    Auto   I have recently purchased a J30T with moderat...\n",
              "1  Camera   I bought this product because I need instant ...\n",
              "2    Auto   I have owned my Buick since 53000 km and I am...\n",
              "3  Camera   This was my first Digital camera so I did qui...\n",
              "4  Camera   Minolta DiMAGE 7Hi is in a digital SLR with 5..."
            ]
          },
          "metadata": {},
          "execution_count": 3
        }
      ]
    },
    {
      "cell_type": "markdown",
      "source": [
        "# 1. Preprocessing"
      ],
      "metadata": {
        "id": "akq_HMJ4YAAL"
      }
    },
    {
      "cell_type": "markdown",
      "source": [
        "## 1.1 Remove useless data"
      ],
      "metadata": {
        "id": "Dt5tpXd9YmQM"
      }
    },
    {
      "cell_type": "code",
      "source": [
        "import re\n",
        "pattern = \"!|\\\"|_|-|$|%|&|\\/|\\(|\\)|=|ˆ|\\*|¡|@\" \n",
        "comments['text'] = [ re.sub(pattern, \"\", text) for text in comments['text']]\n",
        "# TAMpoco rayarse, que no habia na de esto xd"
      ],
      "metadata": {
        "id": "5c0OckhziZI_"
      },
      "execution_count": 4,
      "outputs": []
    },
    {
      "cell_type": "markdown",
      "source": [
        "## 1.2 Remove all capital letters"
      ],
      "metadata": {
        "id": "NmZp95ukYmTk"
      }
    },
    {
      "cell_type": "code",
      "source": [
        "comments['text'] = [text.lower() for text in comments['text']]"
      ],
      "metadata": {
        "id": "oKWYq3rOgtuV"
      },
      "execution_count": 5,
      "outputs": []
    },
    {
      "cell_type": "code",
      "source": [
        "comments['text']"
      ],
      "metadata": {
        "colab": {
          "base_uri": "https://localhost:8080/"
        },
        "id": "nq_i-oXDhLzv",
        "outputId": "87d0353e-82dd-4a4f-e751-2a03948455a9"
      },
      "execution_count": 6,
      "outputs": [
        {
          "output_type": "execute_result",
          "data": {
            "text/plain": [
              "0       i have recently purchased a j30t with moderat...\n",
              "1       i bought this product because i need instant ...\n",
              "2       i have owned my buick since 53000 km and i am...\n",
              "3       this was my first digital camera so i did qui...\n",
              "4       minolta dimage 7hi is in a digital slr with 5...\n",
              "                             ...                        \n",
              "595     recently our 12 year old nissan stanza decide...\n",
              "596     i always do a lot of research before i buy an...\n",
              "597     this car is an all around good buy  if you ar...\n",
              "598     i waited to write this until i have had 4 mon...\n",
              "599     i have been a montero owner since about 1985 ...\n",
              "Name: text, Length: 600, dtype: object"
            ]
          },
          "metadata": {},
          "execution_count": 6
        }
      ]
    },
    {
      "cell_type": "markdown",
      "source": [
        "## 1.3 Remove contractions"
      ],
      "metadata": {
        "id": "28z40iu3Yx5l"
      }
    },
    {
      "cell_type": "code",
      "source": [
        "# Jesus  version ATENCION NO HE ESCRITO TODAS\n",
        "#detección de contracciones\n",
        "import re\n",
        "patrones=[  # (patron/regex, no_contraido)\n",
        "(r'that\\s*?\\'?\\s*s','that is'),   \n",
        "(r'won\\s*\\'?\\s*t','will not'),   #won't\n",
        "(r'can\\s*\\'?\\s*t','cannot'),     #can't\n",
        "(r'i\\s*\\'?\\s*m','i am'),         # I'm\n",
        "(r'ain\\s*\\'?\\s*t', 'is not'),     # ain't\n",
        "]\n",
        "\n",
        "# TODO tomar decisión sobre las ambiguedades\n",
        "for word in ['he', 'I', 'it', 'she', 'they', 'we', 'who', 'you']:\n",
        "  patrones.append((r'\\b' + word + r'\\s*\\'?\\s*ll', word +' will'))\n",
        "\n",
        "for word in ['are', 'could', 'did', 'do', 'does', 'had', 'have', 'should', 'was', 'were', 'is', 'would', 'must']:\n",
        "  patrones.append((r'\\b' + word + r'\\s*n\\'?\\s*t', word +' not'))\n",
        "\n",
        "for word in ['you', 'I', 'we', 'they']:\n",
        "  patrones.append((r'\\b' + word + r'\\s*\\'?\\s*ve', word +' have'))\n",
        "\n",
        "for word in ['that' , 'there', 'he', 'here', 'what', 'where', 'who', 'it', 'she']:\n",
        "    patrones.append((r'\\b' + word + r'\\s*\\'?\\s*s', word +' is'))\n",
        "\n",
        "for word in ['you', 'we', 'they',]:\n",
        "    patrones.append((r'\\b' + word + r'\\s*\\'?\\s*re', word +' are'))\n",
        "\n",
        "for word in ['she', 'they', 'he', 'we', 'I', 'you',]:\n",
        "    patrones.append((r'\\b' + word + r'\\s*\\'?\\s*d', word +' would'))\n",
        "\n",
        "for (patron, no_contraido) in patrones: \n",
        "  comments['text'] = [re.sub(patron, no_contraido, sentence) for sentence in comments['text']]\n",
        "\n",
        "comments['text'][0]"
      ],
      "metadata": {
        "colab": {
          "base_uri": "https://localhost:8080/",
          "height": 174
        },
        "id": "ZG_tmmjksGbo",
        "outputId": "0a6f147d-6403-46fa-a53e-20d33bb5ccf2"
      },
      "execution_count": 7,
      "outputs": [
        {
          "output_type": "execute_result",
          "data": {
            "application/vnd.google.colaboratory.intrinsic+json": {
              "type": "string"
            },
            "text/plain": [
              "' i have recently purchased a j30t with moderate miles  i shopped for a car that was looked after and paid more for it  as a former auto technician i know what to look for and what to expect yet every ti ame i drive this car i say to my self  dam that is a great car   and yes i truly do  the car affords a level of style and comfort that is beyond compare for the price  i had looked at a number of j30 s with some having covered 160k miles   i checked them to see where the problems show  they we are great other than just basic owner neglect the car is extremely quiet and smooth yet does not distance it iself from a mild degree of sportiness  performance is smooth yet i ampressive yet the power is we will handled by braking and suspension systems of si amilar refinement the appointments available with the car we are somewhat sparse yet the standard of quality and functionality we are apparent  the bose sound system for example has remarkable output and clarity without all the fancy dials  my only complis not  after 15k miles  is a lack of fold down rear seating and slightly high fuel consumption i went from driving a porsche to the infiniti and feel it was a step up in style and understated performance  '"
            ]
          },
          "metadata": {},
          "execution_count": 7
        }
      ]
    },
    {
      "cell_type": "markdown",
      "source": [
        "## 1.4 Correct wrong words"
      ],
      "metadata": {
        "id": "cKbqP1WFY7Gc"
      }
    },
    {
      "cell_type": "code",
      "source": [
        "#!pip install textblob\n",
        "#from textblob import TextBlob\n",
        "\n",
        "\n",
        "#comments['text'] = [TextBlob(comment).correct() for comment in comments['text']]\n",
        "\n",
        "#comments['text'][0]"
      ],
      "metadata": {
        "id": "D7ECYd8_y5pS"
      },
      "execution_count": 8,
      "outputs": []
    },
    {
      "cell_type": "markdown",
      "source": [
        "## 1.5 Remove or replace emoticons"
      ],
      "metadata": {
        "id": "3gNLkdAfYyFU"
      }
    },
    {
      "cell_type": "code",
      "source": [
        "pattern_camera = u'[\\ud83d\\udcf7\\ud83c]'\n",
        "pattern_love = u'[\\u2764\\ufe0f\\U0001f496\\u2665\\ufe0f\\U0001f495\\U0001f493\\u2661\\u2665\\ufe0f\\U0001f618]'\n",
        "pattern_car = u'[\\U0001f697\\U0001f698\\U0001f6fb\\U0001f3ce\\U0001f699]'\n",
        "pattern_smile = u'[\\U0001f60a\\U0001f600]'\n",
        "comments['text'] = [ re.sub(pattern_camera, \"camera\", text) for text in comments['text'] ]\n",
        "comments['text'] = [ re.sub(pattern_love, \"love\", text) for text in comments['text'] ]\n",
        "comments['text'] = [ re.sub(pattern_car, \"car\", text) for text in comments['text'] ]\n",
        "comments['text'] = [ re.sub(pattern_smile, \"smile\", text) for text in comments['text'] ]\n",
        "\n",
        "pattern_emotic = u'[\\U0001F300-\\U0001F5FF\\U0001F600-\\U0001F64F\\U0001F680-\\U0001F6FA\\u260E-\\u26FF-\\u2700-\\u27BF]'\n",
        "comments['text'] = [ re.sub(pattern_emotic, \"\", text) for text in comments['text'] ]\n"
      ],
      "metadata": {
        "id": "MdQPrFOyI-CN"
      },
      "execution_count": 9,
      "outputs": []
    },
    {
      "cell_type": "markdown",
      "source": [
        "## 1.6 Remove repeated words"
      ],
      "metadata": {
        "id": "yC7g8SBYYx-c"
      }
    },
    {
      "cell_type": "code",
      "source": [
        "# Tokenizar words separadamente\n",
        "from nltk.tokenize import word_tokenize\n",
        "\n",
        "comments['text'] = [word_tokenize(sentence) for sentence in comments['text']]\n",
        "comments['text']"
      ],
      "metadata": {
        "colab": {
          "base_uri": "https://localhost:8080/"
        },
        "id": "feJx36hSl6pW",
        "outputId": "a400e80d-3009-464d-d6a8-5f2070a6b956"
      },
      "execution_count": 10,
      "outputs": [
        {
          "output_type": "execute_result",
          "data": {
            "text/plain": [
              "0      [i, have, recently, purchased, a, j30t, with, ...\n",
              "1      [i, bought, this, product, because, i, need, i...\n",
              "2      [i, have, owned, my, buick, since, 53000, km, ...\n",
              "3      [this, was, my, first, digital, camera, so, i,...\n",
              "4      [minolta, di, amage, 7hi, is, in, a, digital, ...\n",
              "                             ...                        \n",
              "595    [recently, our, 12, year, old, nissan, stanza,...\n",
              "596    [i, always, do, a, lot, of, research, before, ...\n",
              "597    [this, car, is, an, all, around, good, buy, if...\n",
              "598    [i, waited, to, write, this, until, i, have, h...\n",
              "599    [i, have, been, a, montero, owner, since, abou...\n",
              "Name: text, Length: 600, dtype: object"
            ]
          },
          "metadata": {},
          "execution_count": 10
        }
      ]
    },
    {
      "cell_type": "code",
      "source": [
        "from itertools import groupby\n",
        "comments['text'] = [comment[0] for comment in groupby(comments['text'])]"
      ],
      "metadata": {
        "id": "POzQoddWP_s8"
      },
      "execution_count": 11,
      "outputs": []
    },
    {
      "cell_type": "markdown",
      "source": [
        "## 1.7 Lemmatize all terms\n",
        "\n"
      ],
      "metadata": {
        "id": "qlSL0g6UYmWt"
      }
    },
    {
      "cell_type": "code",
      "source": [
        "# VERSION QUE YA NO TARDA MUCHO :)\n",
        "#stanza.download('en') \n",
        "#stNLP = stanza.Pipeline(processors='tokenize,mwt,pos,lemma', lang='en', use_gpu=True, tokenize_pretokenized=True)\n",
        "\n",
        "#comments['text'] = [list(map(lambda x: x.text, sentence.tokens)) for sentence in stNLP(comments['text'].to_list()).sentences]\n",
        "#comments['text']\n"
      ],
      "metadata": {
        "id": "VhOVOwqKuxH7"
      },
      "execution_count": 12,
      "outputs": []
    },
    {
      "cell_type": "code",
      "source": [
        "lemmatizer = WordNetLemmatizer()# otra manera de \n",
        "comments['text'] = [[lemmatizer.lemmatize(word, pos = 'n') for word in sentence] for sentence in comments['text']]\n",
        "comments['text'] = [[lemmatizer.lemmatize(word, pos = 'v') for word in sentence] for sentence in comments['text']]\n",
        "comments['text'] = [[lemmatizer.lemmatize(word, pos = 'a') for word in sentence] for sentence in comments['text']]\n",
        "comments['text'] = [[lemmatizer.lemmatize(word, pos = 'r') for word in sentence] for sentence in comments['text']]\n",
        "comments['text'] = [[lemmatizer.lemmatize(word, pos = 's') for word in sentence] for sentence in comments['text']]\n",
        "comments['text']\n",
        "# PERO CLARO ORDEN ES IMPORTANTE???"
      ],
      "metadata": {
        "colab": {
          "base_uri": "https://localhost:8080/"
        },
        "id": "joCySt7rlE7w",
        "outputId": "9c117b61-84d3-47b1-c77d-cd8b5813eb2d"
      },
      "execution_count": 13,
      "outputs": [
        {
          "output_type": "execute_result",
          "data": {
            "text/plain": [
              "0      [i, have, recently, purchase, a, j30t, with, m...\n",
              "1      [i, buy, this, product, because, i, need, inst...\n",
              "2      [i, have, own, my, buick, since, 53000, km, an...\n",
              "3      [this, wa, my, first, digital, camera, so, i, ...\n",
              "4      [minolta, di, amage, 7hi, be, in, a, digital, ...\n",
              "                             ...                        \n",
              "595    [recently, our, 12, year, old, nissan, stanza,...\n",
              "596    [i, always, do, a, lot, of, research, before, ...\n",
              "597    [this, car, be, an, all, around, good, buy, if...\n",
              "598    [i, wait, to, write, this, until, i, have, hav...\n",
              "599    [i, have, be, a, montero, owner, since, about,...\n",
              "Name: text, Length: 600, dtype: object"
            ]
          },
          "metadata": {},
          "execution_count": 13
        }
      ]
    },
    {
      "cell_type": "code",
      "source": [
        "comments"
      ],
      "metadata": {
        "colab": {
          "base_uri": "https://localhost:8080/",
          "height": 424
        },
        "id": "9w94DcAqCt0q",
        "outputId": "063902c2-7cf5-4c3d-d216-28f687e42119"
      },
      "execution_count": 14,
      "outputs": [
        {
          "output_type": "execute_result",
          "data": {
            "text/html": [
              "\n",
              "  <div id=\"df-176ce1e0-0c80-4f15-a43b-e8ef28160679\">\n",
              "    <div class=\"colab-df-container\">\n",
              "      <div>\n",
              "<style scoped>\n",
              "    .dataframe tbody tr th:only-of-type {\n",
              "        vertical-align: middle;\n",
              "    }\n",
              "\n",
              "    .dataframe tbody tr th {\n",
              "        vertical-align: top;\n",
              "    }\n",
              "\n",
              "    .dataframe thead th {\n",
              "        text-align: right;\n",
              "    }\n",
              "</style>\n",
              "<table border=\"1\" class=\"dataframe\">\n",
              "  <thead>\n",
              "    <tr style=\"text-align: right;\">\n",
              "      <th></th>\n",
              "      <th>class</th>\n",
              "      <th>text</th>\n",
              "    </tr>\n",
              "  </thead>\n",
              "  <tbody>\n",
              "    <tr>\n",
              "      <th>0</th>\n",
              "      <td>Auto</td>\n",
              "      <td>[i, have, recently, purchase, a, j30t, with, m...</td>\n",
              "    </tr>\n",
              "    <tr>\n",
              "      <th>1</th>\n",
              "      <td>Camera</td>\n",
              "      <td>[i, buy, this, product, because, i, need, inst...</td>\n",
              "    </tr>\n",
              "    <tr>\n",
              "      <th>2</th>\n",
              "      <td>Auto</td>\n",
              "      <td>[i, have, own, my, buick, since, 53000, km, an...</td>\n",
              "    </tr>\n",
              "    <tr>\n",
              "      <th>3</th>\n",
              "      <td>Camera</td>\n",
              "      <td>[this, wa, my, first, digital, camera, so, i, ...</td>\n",
              "    </tr>\n",
              "    <tr>\n",
              "      <th>4</th>\n",
              "      <td>Camera</td>\n",
              "      <td>[minolta, di, amage, 7hi, be, in, a, digital, ...</td>\n",
              "    </tr>\n",
              "    <tr>\n",
              "      <th>...</th>\n",
              "      <td>...</td>\n",
              "      <td>...</td>\n",
              "    </tr>\n",
              "    <tr>\n",
              "      <th>595</th>\n",
              "      <td>Auto</td>\n",
              "      <td>[recently, our, 12, year, old, nissan, stanza,...</td>\n",
              "    </tr>\n",
              "    <tr>\n",
              "      <th>596</th>\n",
              "      <td>Camera</td>\n",
              "      <td>[i, always, do, a, lot, of, research, before, ...</td>\n",
              "    </tr>\n",
              "    <tr>\n",
              "      <th>597</th>\n",
              "      <td>Auto</td>\n",
              "      <td>[this, car, be, an, all, around, good, buy, if...</td>\n",
              "    </tr>\n",
              "    <tr>\n",
              "      <th>598</th>\n",
              "      <td>Auto</td>\n",
              "      <td>[i, wait, to, write, this, until, i, have, hav...</td>\n",
              "    </tr>\n",
              "    <tr>\n",
              "      <th>599</th>\n",
              "      <td>Auto</td>\n",
              "      <td>[i, have, be, a, montero, owner, since, about,...</td>\n",
              "    </tr>\n",
              "  </tbody>\n",
              "</table>\n",
              "<p>600 rows × 2 columns</p>\n",
              "</div>\n",
              "      <button class=\"colab-df-convert\" onclick=\"convertToInteractive('df-176ce1e0-0c80-4f15-a43b-e8ef28160679')\"\n",
              "              title=\"Convert this dataframe to an interactive table.\"\n",
              "              style=\"display:none;\">\n",
              "        \n",
              "  <svg xmlns=\"http://www.w3.org/2000/svg\" height=\"24px\"viewBox=\"0 0 24 24\"\n",
              "       width=\"24px\">\n",
              "    <path d=\"M0 0h24v24H0V0z\" fill=\"none\"/>\n",
              "    <path d=\"M18.56 5.44l.94 2.06.94-2.06 2.06-.94-2.06-.94-.94-2.06-.94 2.06-2.06.94zm-11 1L8.5 8.5l.94-2.06 2.06-.94-2.06-.94L8.5 2.5l-.94 2.06-2.06.94zm10 10l.94 2.06.94-2.06 2.06-.94-2.06-.94-.94-2.06-.94 2.06-2.06.94z\"/><path d=\"M17.41 7.96l-1.37-1.37c-.4-.4-.92-.59-1.43-.59-.52 0-1.04.2-1.43.59L10.3 9.45l-7.72 7.72c-.78.78-.78 2.05 0 2.83L4 21.41c.39.39.9.59 1.41.59.51 0 1.02-.2 1.41-.59l7.78-7.78 2.81-2.81c.8-.78.8-2.07 0-2.86zM5.41 20L4 18.59l7.72-7.72 1.47 1.35L5.41 20z\"/>\n",
              "  </svg>\n",
              "      </button>\n",
              "      \n",
              "  <style>\n",
              "    .colab-df-container {\n",
              "      display:flex;\n",
              "      flex-wrap:wrap;\n",
              "      gap: 12px;\n",
              "    }\n",
              "\n",
              "    .colab-df-convert {\n",
              "      background-color: #E8F0FE;\n",
              "      border: none;\n",
              "      border-radius: 50%;\n",
              "      cursor: pointer;\n",
              "      display: none;\n",
              "      fill: #1967D2;\n",
              "      height: 32px;\n",
              "      padding: 0 0 0 0;\n",
              "      width: 32px;\n",
              "    }\n",
              "\n",
              "    .colab-df-convert:hover {\n",
              "      background-color: #E2EBFA;\n",
              "      box-shadow: 0px 1px 2px rgba(60, 64, 67, 0.3), 0px 1px 3px 1px rgba(60, 64, 67, 0.15);\n",
              "      fill: #174EA6;\n",
              "    }\n",
              "\n",
              "    [theme=dark] .colab-df-convert {\n",
              "      background-color: #3B4455;\n",
              "      fill: #D2E3FC;\n",
              "    }\n",
              "\n",
              "    [theme=dark] .colab-df-convert:hover {\n",
              "      background-color: #434B5C;\n",
              "      box-shadow: 0px 1px 3px 1px rgba(0, 0, 0, 0.15);\n",
              "      filter: drop-shadow(0px 1px 2px rgba(0, 0, 0, 0.3));\n",
              "      fill: #FFFFFF;\n",
              "    }\n",
              "  </style>\n",
              "\n",
              "      <script>\n",
              "        const buttonEl =\n",
              "          document.querySelector('#df-176ce1e0-0c80-4f15-a43b-e8ef28160679 button.colab-df-convert');\n",
              "        buttonEl.style.display =\n",
              "          google.colab.kernel.accessAllowed ? 'block' : 'none';\n",
              "\n",
              "        async function convertToInteractive(key) {\n",
              "          const element = document.querySelector('#df-176ce1e0-0c80-4f15-a43b-e8ef28160679');\n",
              "          const dataTable =\n",
              "            await google.colab.kernel.invokeFunction('convertToInteractive',\n",
              "                                                     [key], {});\n",
              "          if (!dataTable) return;\n",
              "\n",
              "          const docLinkHtml = 'Like what you see? Visit the ' +\n",
              "            '<a target=\"_blank\" href=https://colab.research.google.com/notebooks/data_table.ipynb>data table notebook</a>'\n",
              "            + ' to learn more about interactive tables.';\n",
              "          element.innerHTML = '';\n",
              "          dataTable['output_type'] = 'display_data';\n",
              "          await google.colab.output.renderOutput(dataTable, element);\n",
              "          const docLink = document.createElement('div');\n",
              "          docLink.innerHTML = docLinkHtml;\n",
              "          element.appendChild(docLink);\n",
              "        }\n",
              "      </script>\n",
              "    </div>\n",
              "  </div>\n",
              "  "
            ],
            "text/plain": [
              "      class                                               text\n",
              "0      Auto  [i, have, recently, purchase, a, j30t, with, m...\n",
              "1    Camera  [i, buy, this, product, because, i, need, inst...\n",
              "2      Auto  [i, have, own, my, buick, since, 53000, km, an...\n",
              "3    Camera  [this, wa, my, first, digital, camera, so, i, ...\n",
              "4    Camera  [minolta, di, amage, 7hi, be, in, a, digital, ...\n",
              "..      ...                                                ...\n",
              "595    Auto  [recently, our, 12, year, old, nissan, stanza,...\n",
              "596  Camera  [i, always, do, a, lot, of, research, before, ...\n",
              "597    Auto  [this, car, be, an, all, around, good, buy, if...\n",
              "598    Auto  [i, wait, to, write, this, until, i, have, hav...\n",
              "599    Auto  [i, have, be, a, montero, owner, since, about,...\n",
              "\n",
              "[600 rows x 2 columns]"
            ]
          },
          "metadata": {},
          "execution_count": 14
        }
      ]
    },
    {
      "cell_type": "markdown",
      "source": [
        "#2. Vectorization"
      ],
      "metadata": {
        "id": "I6I-Vz4LYED0"
      }
    },
    {
      "cell_type": "code",
      "source": [
        "comments['text'] = [' '.join(comment) for comment in comments['text'] ]\n",
        "comments['text']"
      ],
      "metadata": {
        "colab": {
          "base_uri": "https://localhost:8080/"
        },
        "id": "3H-p0WOlCKdA",
        "outputId": "0f231e75-bf5f-4a25-9737-b099fe7b9129"
      },
      "execution_count": 15,
      "outputs": [
        {
          "output_type": "execute_result",
          "data": {
            "text/plain": [
              "0      i have recently purchase a j30t with moderate ...\n",
              "1      i buy this product because i need instant grat...\n",
              "2      i have own my buick since 53000 km and i be no...\n",
              "3      this wa my first digital camera so i do quite ...\n",
              "4      minolta di amage 7hi be in a digital slr with ...\n",
              "                             ...                        \n",
              "595    recently our 12 year old nissan stanza decide ...\n",
              "596    i always do a lot of research before i buy any...\n",
              "597    this car be an all around good buy if you be i...\n",
              "598    i wait to write this until i have have 4 month...\n",
              "599    i have be a montero owner since about 1985 and...\n",
              "Name: text, Length: 600, dtype: object"
            ]
          },
          "metadata": {},
          "execution_count": 15
        }
      ]
    },
    {
      "cell_type": "markdown",
      "source": [
        "## 2.1 TFIDF"
      ],
      "metadata": {
        "id": "g8uPtyKHA-uY"
      }
    },
    {
      "cell_type": "code",
      "source": [
        "\n",
        "vectorizer_tfidf = TfidfVectorizer(use_idf=True, smooth_idf=True)\n",
        "#ajustar y transformar\n",
        "data_tfidf = vectorizer_tfidf.fit_transform(comments['text'])"
      ],
      "metadata": {
        "id": "WvJfQLJDA87w"
      },
      "execution_count": 16,
      "outputs": []
    },
    {
      "cell_type": "code",
      "source": [
        "#crear dataframe para visualizar\n",
        "\n",
        "cv_tfidf=pd.DataFrame(data_tfidf.toarray(), columns=vectorizer_tfidf.get_feature_names())\n",
        "print(cv_tfidf)"
      ],
      "metadata": {
        "colab": {
          "base_uri": "https://localhost:8080/"
        },
        "id": "uAiHb9lqDZsy",
        "outputId": "f049c57c-0d02-46aa-f8b5-4251d707d85a"
      },
      "execution_count": 17,
      "outputs": [
        {
          "output_type": "stream",
          "name": "stdout",
          "text": [
            "           00  000   01   02  024  ...      zoom  zoombrowser  zoomey  zx2  zx3\n",
            "0    0.000000  0.0  0.0  0.0  0.0  ...  0.000000          0.0     0.0  0.0  0.0\n",
            "1    0.000000  0.0  0.0  0.0  0.0  ...  0.000000          0.0     0.0  0.0  0.0\n",
            "2    0.000000  0.0  0.0  0.0  0.0  ...  0.000000          0.0     0.0  0.0  0.0\n",
            "3    0.000000  0.0  0.0  0.0  0.0  ...  0.000000          0.0     0.0  0.0  0.0\n",
            "4    0.000000  0.0  0.0  0.0  0.0  ...  0.060858          0.0     0.0  0.0  0.0\n",
            "..        ...  ...  ...  ...  ...  ...       ...          ...     ...  ...  ...\n",
            "595  0.000000  0.0  0.0  0.0  0.0  ...  0.000000          0.0     0.0  0.0  0.0\n",
            "596  0.066455  0.0  0.0  0.0  0.0  ...  0.000000          0.0     0.0  0.0  0.0\n",
            "597  0.000000  0.0  0.0  0.0  0.0  ...  0.000000          0.0     0.0  0.0  0.0\n",
            "598  0.000000  0.0  0.0  0.0  0.0  ...  0.000000          0.0     0.0  0.0  0.0\n",
            "599  0.000000  0.0  0.0  0.0  0.0  ...  0.000000          0.0     0.0  0.0  0.0\n",
            "\n",
            "[600 rows x 10132 columns]\n"
          ]
        },
        {
          "output_type": "stream",
          "name": "stderr",
          "text": [
            "/usr/local/lib/python3.7/dist-packages/sklearn/utils/deprecation.py:87: FutureWarning: Function get_feature_names is deprecated; get_feature_names is deprecated in 1.0 and will be removed in 1.2. Please use get_feature_names_out instead.\n",
            "  warnings.warn(msg, category=FutureWarning)\n"
          ]
        }
      ]
    },
    {
      "cell_type": "markdown",
      "source": [
        "## 2.2 TFIDF + N-grams"
      ],
      "metadata": {
        "id": "CmDtSdJyA-y_"
      }
    },
    {
      "cell_type": "code",
      "source": [
        "# Uso de n-gramas:  ngram_range=(min,max)\n",
        "#vectorizer_ngrams = TfidfVectorizer(use_idf=True, smooth_idf=True, ngram_range=(1,3))\n",
        "vectorizer_ngrams = TfidfVectorizer(ngram_range=(1,3))\n",
        "data_ngrams = vectorizer_ngrams.fit_transform(comments['text'])\n",
        "print(\"vocabulary: \", vectorizer_ngrams.vocabulary_)"
      ],
      "metadata": {
        "colab": {
          "base_uri": "https://localhost:8080/"
        },
        "id": "F2EOgx_TEEIl",
        "outputId": "788701e8-ef93-4d4d-99f6-8250c4ede402"
      },
      "execution_count": 18,
      "outputs": [
        {
          "output_type": "stream",
          "name": "stderr",
          "text": [
            "IOPub data rate exceeded.\n",
            "The notebook server will temporarily stop sending output\n",
            "to the client in order to avoid crashing it.\n",
            "To change this limit, set the config variable\n",
            "`--NotebookApp.iopub_data_rate_limit`.\n",
            "\n",
            "Current values:\n",
            "NotebookApp.iopub_data_rate_limit=1000000.0 (bytes/sec)\n",
            "NotebookApp.rate_limit_window=3.0 (secs)\n",
            "\n"
          ]
        }
      ]
    },
    {
      "cell_type": "code",
      "source": [
        "cv_tfidf_ngrams=pd.DataFrame(data_ngrams.toarray(),columns=vectorizer_ngrams.get_feature_names())\n",
        "print(cv_tfidf_ngrams)"
      ],
      "metadata": {
        "colab": {
          "base_uri": "https://localhost:8080/"
        },
        "id": "AJkDq8HCESjp",
        "outputId": "503a54a8-0655-4fc9-aa59-8a335b3369cb"
      },
      "execution_count": 19,
      "outputs": [
        {
          "output_type": "stream",
          "name": "stderr",
          "text": [
            "/usr/local/lib/python3.7/dist-packages/sklearn/utils/deprecation.py:87: FutureWarning: Function get_feature_names is deprecated; get_feature_names is deprecated in 1.0 and will be removed in 1.2. Please use get_feature_names_out instead.\n",
            "  warnings.warn(msg, category=FutureWarning)\n"
          ]
        },
        {
          "output_type": "stream",
          "name": "stdout",
          "text": [
            "           00  00 00  00 00 from  ...  zx3  zx3 where  zx3 where laud\n",
            "0    0.000000    0.0         0.0  ...  0.0        0.0             0.0\n",
            "1    0.000000    0.0         0.0  ...  0.0        0.0             0.0\n",
            "2    0.000000    0.0         0.0  ...  0.0        0.0             0.0\n",
            "3    0.000000    0.0         0.0  ...  0.0        0.0             0.0\n",
            "4    0.000000    0.0         0.0  ...  0.0        0.0             0.0\n",
            "..        ...    ...         ...  ...  ...        ...             ...\n",
            "595  0.000000    0.0         0.0  ...  0.0        0.0             0.0\n",
            "596  0.025056    0.0         0.0  ...  0.0        0.0             0.0\n",
            "597  0.000000    0.0         0.0  ...  0.0        0.0             0.0\n",
            "598  0.000000    0.0         0.0  ...  0.0        0.0             0.0\n",
            "599  0.000000    0.0         0.0  ...  0.0        0.0             0.0\n",
            "\n",
            "[600 rows x 349861 columns]\n"
          ]
        }
      ]
    },
    {
      "cell_type": "markdown",
      "source": [
        "## 2.3 TFIDF + N-grams + POS tagging"
      ],
      "metadata": {
        "id": "5SpTmR1hA-5a"
      }
    },
    {
      "cell_type": "code",
      "source": [
        "# tokenizar otra vez\n",
        "from nltk.tokenize import word_tokenize\n",
        "\n",
        "comments['text_token'] = [word_tokenize(sentence) for sentence in comments['text']]\n",
        "comments['text_token']"
      ],
      "metadata": {
        "colab": {
          "base_uri": "https://localhost:8080/"
        },
        "id": "4ql_cxQTIjE0",
        "outputId": "bd98bfc3-af7b-4396-b97b-ac03579a7de5"
      },
      "execution_count": 20,
      "outputs": [
        {
          "output_type": "execute_result",
          "data": {
            "text/plain": [
              "0      [i, have, recently, purchase, a, j30t, with, m...\n",
              "1      [i, buy, this, product, because, i, need, inst...\n",
              "2      [i, have, own, my, buick, since, 53000, km, an...\n",
              "3      [this, wa, my, first, digital, camera, so, i, ...\n",
              "4      [minolta, di, amage, 7hi, be, in, a, digital, ...\n",
              "                             ...                        \n",
              "595    [recently, our, 12, year, old, nissan, stanza,...\n",
              "596    [i, always, do, a, lot, of, research, before, ...\n",
              "597    [this, car, be, an, all, around, good, buy, if...\n",
              "598    [i, wait, to, write, this, until, i, have, hav...\n",
              "599    [i, have, be, a, montero, owner, since, about,...\n",
              "Name: text_token, Length: 600, dtype: object"
            ]
          },
          "metadata": {},
          "execution_count": 20
        }
      ]
    },
    {
      "cell_type": "code",
      "source": [
        "from nltk.tokenize import word_tokenize\n",
        "pos_comments = [[f'{word_pos[0]}_{word_pos[1]}' for word_pos in nltk.pos_tag(comment)] for comment in comments['text_token']]\n",
        "#aux = pd.DataFrame()\n",
        "#aux['col'] = pos_comments\n"
      ],
      "metadata": {
        "id": "hJ9OSQHfFKNR"
      },
      "execution_count": 21,
      "outputs": []
    },
    {
      "cell_type": "code",
      "source": [
        "comments['pos_comments'] = [' '.join(comment) for comment in pos_comments]"
      ],
      "metadata": {
        "id": "uSBNWS7HLjGa"
      },
      "execution_count": 22,
      "outputs": []
    },
    {
      "cell_type": "code",
      "source": [
        "comments.head()"
      ],
      "metadata": {
        "colab": {
          "base_uri": "https://localhost:8080/",
          "height": 337
        },
        "id": "XplE-TgFQWkL",
        "outputId": "18fbf039-c1b6-42d6-8c4a-4c8cb0f066da"
      },
      "execution_count": 23,
      "outputs": [
        {
          "output_type": "execute_result",
          "data": {
            "text/html": [
              "\n",
              "  <div id=\"df-befaaf05-6e75-497d-a933-1d644bfda631\">\n",
              "    <div class=\"colab-df-container\">\n",
              "      <div>\n",
              "<style scoped>\n",
              "    .dataframe tbody tr th:only-of-type {\n",
              "        vertical-align: middle;\n",
              "    }\n",
              "\n",
              "    .dataframe tbody tr th {\n",
              "        vertical-align: top;\n",
              "    }\n",
              "\n",
              "    .dataframe thead th {\n",
              "        text-align: right;\n",
              "    }\n",
              "</style>\n",
              "<table border=\"1\" class=\"dataframe\">\n",
              "  <thead>\n",
              "    <tr style=\"text-align: right;\">\n",
              "      <th></th>\n",
              "      <th>class</th>\n",
              "      <th>text</th>\n",
              "      <th>text_token</th>\n",
              "      <th>pos_comments</th>\n",
              "    </tr>\n",
              "  </thead>\n",
              "  <tbody>\n",
              "    <tr>\n",
              "      <th>0</th>\n",
              "      <td>Auto</td>\n",
              "      <td>i have recently purchase a j30t with moderate ...</td>\n",
              "      <td>[i, have, recently, purchase, a, j30t, with, m...</td>\n",
              "      <td>i_NNS have_VBP recently_RB purchase_VB a_DT j3...</td>\n",
              "    </tr>\n",
              "    <tr>\n",
              "      <th>1</th>\n",
              "      <td>Camera</td>\n",
              "      <td>i buy this product because i need instant grat...</td>\n",
              "      <td>[i, buy, this, product, because, i, need, inst...</td>\n",
              "      <td>i_JJ buy_VBP this_DT product_NN because_IN i_J...</td>\n",
              "    </tr>\n",
              "    <tr>\n",
              "      <th>2</th>\n",
              "      <td>Auto</td>\n",
              "      <td>i have own my buick since 53000 km and i be no...</td>\n",
              "      <td>[i, have, own, my, buick, since, 53000, km, an...</td>\n",
              "      <td>i_NNS have_VBP own_JJ my_PRP$ buick_NN since_I...</td>\n",
              "    </tr>\n",
              "    <tr>\n",
              "      <th>3</th>\n",
              "      <td>Camera</td>\n",
              "      <td>this wa my first digital camera so i do quite ...</td>\n",
              "      <td>[this, wa, my, first, digital, camera, so, i, ...</td>\n",
              "      <td>this_DT wa_NN my_PRP$ first_JJ digital_JJ came...</td>\n",
              "    </tr>\n",
              "    <tr>\n",
              "      <th>4</th>\n",
              "      <td>Camera</td>\n",
              "      <td>minolta di amage 7hi be in a digital slr with ...</td>\n",
              "      <td>[minolta, di, amage, 7hi, be, in, a, digital, ...</td>\n",
              "      <td>minolta_NN di_NN amage_NN 7hi_CD be_VB in_IN a...</td>\n",
              "    </tr>\n",
              "  </tbody>\n",
              "</table>\n",
              "</div>\n",
              "      <button class=\"colab-df-convert\" onclick=\"convertToInteractive('df-befaaf05-6e75-497d-a933-1d644bfda631')\"\n",
              "              title=\"Convert this dataframe to an interactive table.\"\n",
              "              style=\"display:none;\">\n",
              "        \n",
              "  <svg xmlns=\"http://www.w3.org/2000/svg\" height=\"24px\"viewBox=\"0 0 24 24\"\n",
              "       width=\"24px\">\n",
              "    <path d=\"M0 0h24v24H0V0z\" fill=\"none\"/>\n",
              "    <path d=\"M18.56 5.44l.94 2.06.94-2.06 2.06-.94-2.06-.94-.94-2.06-.94 2.06-2.06.94zm-11 1L8.5 8.5l.94-2.06 2.06-.94-2.06-.94L8.5 2.5l-.94 2.06-2.06.94zm10 10l.94 2.06.94-2.06 2.06-.94-2.06-.94-.94-2.06-.94 2.06-2.06.94z\"/><path d=\"M17.41 7.96l-1.37-1.37c-.4-.4-.92-.59-1.43-.59-.52 0-1.04.2-1.43.59L10.3 9.45l-7.72 7.72c-.78.78-.78 2.05 0 2.83L4 21.41c.39.39.9.59 1.41.59.51 0 1.02-.2 1.41-.59l7.78-7.78 2.81-2.81c.8-.78.8-2.07 0-2.86zM5.41 20L4 18.59l7.72-7.72 1.47 1.35L5.41 20z\"/>\n",
              "  </svg>\n",
              "      </button>\n",
              "      \n",
              "  <style>\n",
              "    .colab-df-container {\n",
              "      display:flex;\n",
              "      flex-wrap:wrap;\n",
              "      gap: 12px;\n",
              "    }\n",
              "\n",
              "    .colab-df-convert {\n",
              "      background-color: #E8F0FE;\n",
              "      border: none;\n",
              "      border-radius: 50%;\n",
              "      cursor: pointer;\n",
              "      display: none;\n",
              "      fill: #1967D2;\n",
              "      height: 32px;\n",
              "      padding: 0 0 0 0;\n",
              "      width: 32px;\n",
              "    }\n",
              "\n",
              "    .colab-df-convert:hover {\n",
              "      background-color: #E2EBFA;\n",
              "      box-shadow: 0px 1px 2px rgba(60, 64, 67, 0.3), 0px 1px 3px 1px rgba(60, 64, 67, 0.15);\n",
              "      fill: #174EA6;\n",
              "    }\n",
              "\n",
              "    [theme=dark] .colab-df-convert {\n",
              "      background-color: #3B4455;\n",
              "      fill: #D2E3FC;\n",
              "    }\n",
              "\n",
              "    [theme=dark] .colab-df-convert:hover {\n",
              "      background-color: #434B5C;\n",
              "      box-shadow: 0px 1px 3px 1px rgba(0, 0, 0, 0.15);\n",
              "      filter: drop-shadow(0px 1px 2px rgba(0, 0, 0, 0.3));\n",
              "      fill: #FFFFFF;\n",
              "    }\n",
              "  </style>\n",
              "\n",
              "      <script>\n",
              "        const buttonEl =\n",
              "          document.querySelector('#df-befaaf05-6e75-497d-a933-1d644bfda631 button.colab-df-convert');\n",
              "        buttonEl.style.display =\n",
              "          google.colab.kernel.accessAllowed ? 'block' : 'none';\n",
              "\n",
              "        async function convertToInteractive(key) {\n",
              "          const element = document.querySelector('#df-befaaf05-6e75-497d-a933-1d644bfda631');\n",
              "          const dataTable =\n",
              "            await google.colab.kernel.invokeFunction('convertToInteractive',\n",
              "                                                     [key], {});\n",
              "          if (!dataTable) return;\n",
              "\n",
              "          const docLinkHtml = 'Like what you see? Visit the ' +\n",
              "            '<a target=\"_blank\" href=https://colab.research.google.com/notebooks/data_table.ipynb>data table notebook</a>'\n",
              "            + ' to learn more about interactive tables.';\n",
              "          element.innerHTML = '';\n",
              "          dataTable['output_type'] = 'display_data';\n",
              "          await google.colab.output.renderOutput(dataTable, element);\n",
              "          const docLink = document.createElement('div');\n",
              "          docLink.innerHTML = docLinkHtml;\n",
              "          element.appendChild(docLink);\n",
              "        }\n",
              "      </script>\n",
              "    </div>\n",
              "  </div>\n",
              "  "
            ],
            "text/plain": [
              "    class  ...                                       pos_comments\n",
              "0    Auto  ...  i_NNS have_VBP recently_RB purchase_VB a_DT j3...\n",
              "1  Camera  ...  i_JJ buy_VBP this_DT product_NN because_IN i_J...\n",
              "2    Auto  ...  i_NNS have_VBP own_JJ my_PRP$ buick_NN since_I...\n",
              "3  Camera  ...  this_DT wa_NN my_PRP$ first_JJ digital_JJ came...\n",
              "4  Camera  ...  minolta_NN di_NN amage_NN 7hi_CD be_VB in_IN a...\n",
              "\n",
              "[5 rows x 4 columns]"
            ]
          },
          "metadata": {},
          "execution_count": 23
        }
      ]
    },
    {
      "cell_type": "code",
      "source": [
        "# vectorizaation\n",
        "\n",
        "# Uso de n-gramas:  ngram_range=(min,max)\n",
        "#vectorizer_ngrams = TfidfVectorizer(use_idf=True, smooth_idf=True, ngram_range=(1,3))\n",
        "vectorizer_ngrams_pos = TfidfVectorizer(ngram_range=(1,3))\n",
        "data_ngrams_pos = vectorizer_ngrams_pos.fit_transform(comments['pos_comments'])\n",
        "print(\"vocabulary: \", vectorizer_ngrams_pos.vocabulary_)"
      ],
      "metadata": {
        "colab": {
          "base_uri": "https://localhost:8080/"
        },
        "id": "mrqWGPqfJflz",
        "outputId": "0814f537-827b-453f-e3e6-d99b7301d8f0"
      },
      "execution_count": 24,
      "outputs": [
        {
          "output_type": "stream",
          "name": "stderr",
          "text": [
            "IOPub data rate exceeded.\n",
            "The notebook server will temporarily stop sending output\n",
            "to the client in order to avoid crashing it.\n",
            "To change this limit, set the config variable\n",
            "`--NotebookApp.iopub_data_rate_limit`.\n",
            "\n",
            "Current values:\n",
            "NotebookApp.iopub_data_rate_limit=1000000.0 (bytes/sec)\n",
            "NotebookApp.rate_limit_window=3.0 (secs)\n",
            "\n"
          ]
        }
      ]
    },
    {
      "cell_type": "code",
      "source": [
        "cv_tfidf_ngrams_pos=pd.DataFrame(data_ngrams_pos.toarray(),columns=vectorizer_ngrams_pos.get_feature_names())\n",
        "print(cv_tfidf_ngrams_pos)"
      ],
      "metadata": {
        "colab": {
          "base_uri": "https://localhost:8080/"
        },
        "id": "MeRXCHW_KqMs",
        "outputId": "15af6e15-ae1d-4215-a77a-133bce819376"
      },
      "execution_count": 25,
      "outputs": [
        {
          "output_type": "stream",
          "name": "stderr",
          "text": [
            "/usr/local/lib/python3.7/dist-packages/sklearn/utils/deprecation.py:87: FutureWarning: Function get_feature_names is deprecated; get_feature_names is deprecated in 1.0 and will be removed in 1.2. Please use get_feature_names_out instead.\n",
            "  warnings.warn(msg, category=FutureWarning)\n"
          ]
        },
        {
          "output_type": "stream",
          "name": "stdout",
          "text": [
            "     000_cd  000_cd 000_cd  ...  zx3_nn where_wrb  zx3_nn where_wrb i_nn\n",
            "0       0.0            0.0  ...               0.0                    0.0\n",
            "1       0.0            0.0  ...               0.0                    0.0\n",
            "2       0.0            0.0  ...               0.0                    0.0\n",
            "3       0.0            0.0  ...               0.0                    0.0\n",
            "4       0.0            0.0  ...               0.0                    0.0\n",
            "..      ...            ...  ...               ...                    ...\n",
            "595     0.0            0.0  ...               0.0                    0.0\n",
            "596     0.0            0.0  ...               0.0                    0.0\n",
            "597     0.0            0.0  ...               0.0                    0.0\n",
            "598     0.0            0.0  ...               0.0                    0.0\n",
            "599     0.0            0.0  ...               0.0                    0.0\n",
            "\n",
            "[600 rows x 388580 columns]\n"
          ]
        }
      ]
    },
    {
      "cell_type": "markdown",
      "source": [
        "## 2.4 TFIDF + N-grams + POS tagging + other features"
      ],
      "metadata": {
        "id": "LgArNerRA--R"
      }
    },
    {
      "cell_type": "code",
      "source": [
        "# Number of words\n",
        "\n",
        "cv_tfidf_ngrams_pos['n_words'] = [len(comment) for comment in comments['text_token']]"
      ],
      "metadata": {
        "id": "YyvfIar4QgTR"
      },
      "execution_count": 26,
      "outputs": []
    },
    {
      "cell_type": "code",
      "source": [
        "cv_tfidf_ngrams_pos['n_words']"
      ],
      "metadata": {
        "colab": {
          "base_uri": "https://localhost:8080/"
        },
        "id": "-Cr_VFxjVHma",
        "outputId": "06d77eba-5ab7-4adf-c3f1-81994b9efc0f"
      },
      "execution_count": 27,
      "outputs": [
        {
          "output_type": "execute_result",
          "data": {
            "text/plain": [
              "0       230\n",
              "1       536\n",
              "2       281\n",
              "3       203\n",
              "4      1002\n",
              "       ... \n",
              "595     409\n",
              "596     341\n",
              "597     162\n",
              "598     467\n",
              "599     250\n",
              "Name: n_words, Length: 600, dtype: int64"
            ]
          },
          "metadata": {},
          "execution_count": 27
        }
      ]
    },
    {
      "cell_type": "markdown",
      "source": [
        "# 3. Feature selection"
      ],
      "metadata": {
        "id": "TY7Uucr4YHK2"
      }
    },
    {
      "cell_type": "code",
      "source": [
        "# selectKBest and removing 70%\n",
        "import numpy as np\n",
        "from sklearn.feature_selection import SelectKBest, chi2, f_regression\n",
        "\n",
        "# Create feature and target variable for Classification problem\n",
        "X_clf = cv_tfidf_ngrams_pos\n",
        "\n",
        "y_clf = comments['class']\n",
        "\n",
        "y_clf = np.where(y_clf == 'Auto', 0, y_clf)\n",
        "y_clf = np.where(y_clf == 'Camera', 1, y_clf)\n",
        "y_clf = y_clf.astype('int')\n",
        "\n",
        "print(y_clf)"
      ],
      "metadata": {
        "colab": {
          "base_uri": "https://localhost:8080/"
        },
        "id": "CH3KWkuFVytK",
        "outputId": "dbea0c30-2e59-4d39-c032-6f9965978d58"
      },
      "execution_count": 28,
      "outputs": [
        {
          "output_type": "stream",
          "name": "stdout",
          "text": [
            "[0 1 0 1 1 0 0 1 1 1 0 1 1 1 1 0 1 0 0 1 0 1 1 0 0 0 1 1 1 0 0 1 0 0 1 1 0\n",
            " 1 1 1 0 1 0 0 1 1 0 1 1 1 1 1 1 0 1 1 0 0 1 0 1 1 0 0 1 1 0 0 1 0 1 1 1 0\n",
            " 1 1 0 0 1 1 0 1 1 0 0 0 0 1 0 1 1 0 0 0 0 0 0 1 1 0 0 0 1 1 1 1 1 0 1 1 1\n",
            " 0 1 1 1 0 1 1 1 0 1 0 1 1 1 0 0 1 1 0 1 1 0 1 1 1 1 0 1 0 1 1 1 0 0 0 0 0\n",
            " 0 1 0 0 1 1 1 0 1 1 1 1 0 1 0 1 1 1 1 0 1 0 0 1 1 0 1 0 1 0 0 1 1 1 1 1 1\n",
            " 0 1 1 1 1 0 0 1 1 1 0 1 1 1 1 0 1 1 0 1 0 1 1 0 1 1 0 0 1 1 1 1 1 0 0 1 1\n",
            " 0 1 1 0 1 1 1 0 1 0 0 1 0 1 0 1 1 0 1 1 1 0 1 1 1 0 1 1 1 0 1 0 1 1 0 1 0\n",
            " 1 0 1 1 1 0 1 1 0 0 1 0 1 0 1 1 1 1 0 1 1 0 1 0 0 1 1 0 1 1 1 0 1 0 0 0 1\n",
            " 0 1 0 0 1 1 1 0 1 0 0 0 1 1 0 0 1 0 1 1 1 0 1 0 0 1 1 0 1 1 1 1 1 1 1 0 0\n",
            " 1 1 0 1 0 1 1 0 0 0 0 1 1 0 1 1 1 0 0 0 1 1 1 1 1 1 1 1 0 1 0 0 1 1 1 1 0\n",
            " 1 1 1 1 1 0 0 1 1 0 0 1 0 1 1 1 1 1 1 0 1 1 0 0 1 1 1 1 0 1 1 1 0 0 1 1 0\n",
            " 0 0 0 1 1 1 0 1 0 0 1 0 0 1 0 0 0 0 0 1 1 1 1 1 0 1 1 1 1 1 1 0 0 1 1 1 0\n",
            " 1 1 0 1 0 0 1 1 0 1 0 1 1 1 1 0 1 0 0 1 1 1 1 1 0 0 0 0 1 0 1 1 1 0 1 1 0\n",
            " 1 1 0 1 0 0 1 0 1 0 1 0 0 0 0 1 0 0 1 0 1 1 1 1 0 1 1 0 1 0 0 0 1 1 1 1 0\n",
            " 0 1 1 1 1 1 1 0 1 0 0 1 0 0 0 0 1 1 0 1 1 1 1 0 0 1 1 0 1 1 0 0 0 0 1 1 0\n",
            " 1 0 1 1 1 1 0 0 1 0 1 1 1 0 1 0 0 0 0 0 1 1 1 1 0 0 0 0 0 1 1 1 1 1 0 0 0\n",
            " 0 1 1 0 1 0 0 0]\n"
          ]
        }
      ]
    },
    {
      "cell_type": "code",
      "source": [
        "# k is the number of features you want to select [here it's 2]\n",
        "X_clf_new=SelectKBest(score_func=chi2,k=int(X_clf.shape[1] * .3)).fit_transform(X_clf,y_clf)\n",
        "\n",
        "# Check the newly created variable for top two best features\n",
        "print(X_clf_new.shape)"
      ],
      "metadata": {
        "colab": {
          "base_uri": "https://localhost:8080/"
        },
        "id": "1GeCx-NEYN8E",
        "outputId": "85b3d3ef-585b-42ac-fc11-23701391f346"
      },
      "execution_count": 29,
      "outputs": [
        {
          "output_type": "stream",
          "name": "stdout",
          "text": [
            "(600, 116574)\n"
          ]
        }
      ]
    },
    {
      "cell_type": "markdown",
      "source": [
        "# 4. Classification algorithm"
      ],
      "metadata": {
        "id": "2RcMDqE_YKHu"
      }
    },
    {
      "cell_type": "code",
      "source": [
        "X_clf_new = pd.DataFrame(X_clf_new)\n",
        "\n",
        "x_features = list(X_clf_new.columns)\n",
        "len(x_features)"
      ],
      "metadata": {
        "colab": {
          "base_uri": "https://localhost:8080/"
        },
        "id": "-yQP2nJoZeWD",
        "outputId": "0ca5387a-3667-446c-d53b-7fcf0fe5c73a"
      },
      "execution_count": 30,
      "outputs": [
        {
          "output_type": "execute_result",
          "data": {
            "text/plain": [
              "116574"
            ]
          },
          "metadata": {},
          "execution_count": 30
        }
      ]
    },
    {
      "cell_type": "code",
      "source": [
        "from sklearn.model_selection import train_test_split\n",
        "X = X_clf_new[x_features]\n",
        "y = pd.Series(y_clf)\n",
        "\n",
        "X_train, X_test, y_train, y_test = train_test_split( X, y, test_size=0.30, random_state=42)"
      ],
      "metadata": {
        "id": "DoElfAUSZeaz"
      },
      "execution_count": 31,
      "outputs": []
    },
    {
      "cell_type": "markdown",
      "source": [
        "## 4.2 SVM"
      ],
      "metadata": {
        "id": "qgneeOoscNn0"
      }
    },
    {
      "cell_type": "code",
      "source": [
        "from sklearn import model_selection, svm\n",
        "\n",
        "SVM = svm.SVC(kernel='linear') # Definir el modelo SVM\n",
        "SVM.fit(X_train,y_train) # Fase de entrenamiento del modelo"
      ],
      "metadata": {
        "colab": {
          "base_uri": "https://localhost:8080/"
        },
        "id": "AyAbZEK3cPcn",
        "outputId": "d3fb7603-3921-49e5-80e0-403d7a897839"
      },
      "execution_count": 32,
      "outputs": [
        {
          "output_type": "execute_result",
          "data": {
            "text/plain": [
              "SVC(kernel='linear')"
            ]
          },
          "metadata": {},
          "execution_count": 32
        }
      ]
    },
    {
      "cell_type": "code",
      "source": [
        "y_pred = SVM.predict(X_test) #uso\n",
        "\n",
        "print(X_test)\n",
        "print(y_pred)"
      ],
      "metadata": {
        "colab": {
          "base_uri": "https://localhost:8080/"
        },
        "id": "6fIYqSM-dBHF",
        "outputId": "a28d0404-eb70-4952-db86-16a81ae33d3b"
      },
      "execution_count": 33,
      "outputs": [
        {
          "output_type": "stream",
          "name": "stdout",
          "text": [
            "       0       1       2       3       ...  116570  116571  116572  116573\n",
            "110  0.000000     0.0     0.0     0.0  ...     0.0     0.0     0.0   757.0\n",
            "419  0.000000     0.0     0.0     0.0  ...     0.0     0.0     0.0   226.0\n",
            "565  0.000000     0.0     0.0     0.0  ...     0.0     0.0     0.0    80.0\n",
            "77   0.012894     0.0     0.0     0.0  ...     0.0     0.0     0.0   447.0\n",
            "181  0.000000     0.0     0.0     0.0  ...     0.0     0.0     0.0   413.0\n",
            "..        ...     ...     ...     ...  ...     ...     ...     ...     ...\n",
            "54   0.000000     0.0     0.0     0.0  ...     0.0     0.0     0.0   838.0\n",
            "493  0.008264     0.0     0.0     0.0  ...     0.0     0.0     0.0   935.0\n",
            "46   0.000000     0.0     0.0     0.0  ...     0.0     0.0     0.0   312.0\n",
            "93   0.000000     0.0     0.0     0.0  ...     0.0     0.0     0.0   119.0\n",
            "264  0.000000     0.0     0.0     0.0  ...     0.0     0.0     0.0   154.0\n",
            "\n",
            "[180 rows x 116574 columns]\n",
            "[1 0 1 0 1 1 0 0 1 1 1 1 1 1 0 0 0 0 1 0 0 1 1 1 1 1 1 1 0 1 0 1 1 1 1 1 0\n",
            " 1 1 1 0 0 1 0 0 1 0 1 0 0 1 1 0 1 0 1 1 1 0 0 0 1 1 0 0 1 0 0 1 1 1 0 0 1\n",
            " 1 1 1 1 1 1 0 1 0 0 0 1 0 0 1 1 1 1 1 1 1 0 1 1 1 0 1 0 1 0 1 1 1 1 0 1 1\n",
            " 1 1 1 1 1 0 0 0 0 0 1 0 1 1 1 0 0 1 0 0 0 0 1 0 1 1 0 0 1 0 1 1 0 0 1 0 1\n",
            " 0 0 1 0 1 0 1 1 1 1 1 1 1 0 0 0 0 0 1 1 0 1 1 1 0 1 0 1 0 0 0 0]\n"
          ]
        }
      ]
    },
    {
      "cell_type": "code",
      "source": [
        "from sklearn import metrics\n",
        "print (\"MAE:\", metrics.mean_absolute_error(y_pred , y_test))\n",
        "print (\"MAPE:\", metrics.mean_absolute_percentage_error(y_pred , y_test))\n",
        "print (\"MSE:\", metrics.mean_squared_error(y_pred , y_test))\n",
        "print (\"R^2:\", metrics.r2_score(y_pred , y_test))"
      ],
      "metadata": {
        "colab": {
          "base_uri": "https://localhost:8080/"
        },
        "id": "59CDn4Szdne9",
        "outputId": "81e39bae-2922-4ad8-b235-2f0e2db2fe4e"
      },
      "execution_count": 34,
      "outputs": [
        {
          "output_type": "stream",
          "name": "stdout",
          "text": [
            "MAE: 0.0\n",
            "MAPE: 0.0\n",
            "MSE: 0.0\n",
            "R^2: 1.0\n"
          ]
        }
      ]
    },
    {
      "cell_type": "code",
      "source": [
        "from sklearn.metrics import confusion_matrix\n",
        "\n",
        "print (y_test, y_pred)\n",
        "tn, fp, fn, tp  = confusion_matrix(y_test, y_pred).ravel()\n",
        "print (tn, fp, fn, tp)"
      ],
      "metadata": {
        "colab": {
          "base_uri": "https://localhost:8080/"
        },
        "id": "XHpFmvgEdQay",
        "outputId": "60909af2-c290-4d1a-a261-039445b536e0"
      },
      "execution_count": 35,
      "outputs": [
        {
          "output_type": "stream",
          "name": "stdout",
          "text": [
            "110    1\n",
            "419    0\n",
            "565    1\n",
            "77     0\n",
            "181    1\n",
            "      ..\n",
            "54     1\n",
            "493    0\n",
            "46     0\n",
            "93     0\n",
            "264    0\n",
            "Length: 180, dtype: int64 [1 0 1 0 1 1 0 0 1 1 1 1 1 1 0 0 0 0 1 0 0 1 1 1 1 1 1 1 0 1 0 1 1 1 1 1 0\n",
            " 1 1 1 0 0 1 0 0 1 0 1 0 0 1 1 0 1 0 1 1 1 0 0 0 1 1 0 0 1 0 0 1 1 1 0 0 1\n",
            " 1 1 1 1 1 1 0 1 0 0 0 1 0 0 1 1 1 1 1 1 1 0 1 1 1 0 1 0 1 0 1 1 1 1 0 1 1\n",
            " 1 1 1 1 1 0 0 0 0 0 1 0 1 1 1 0 0 1 0 0 0 0 1 0 1 1 0 0 1 0 1 1 0 0 1 0 1\n",
            " 0 0 1 0 1 0 1 1 1 1 1 1 1 0 0 0 0 0 1 1 0 1 1 1 0 1 0 1 0 0 0 0]\n",
            "77 0 0 103\n"
          ]
        }
      ]
    },
    {
      "cell_type": "code",
      "source": [
        "from sklearn.metrics import plot_confusion_matrix\n",
        "import matplotlib.pyplot as plt\n",
        "\n",
        "#SVM ya debe estar entrenado\n",
        "disp = plot_confusion_matrix(SVM, X_test, y_test, display_labels=[\"auto\", \"camera\"],cmap=plt.cm.Blues) \n",
        "plt.show()\n",
        "print(disp.confusion_matrix)"
      ],
      "metadata": {
        "colab": {
          "base_uri": "https://localhost:8080/",
          "height": 368
        },
        "id": "p2n3CLV9dQft",
        "outputId": "2ed215e7-916d-4461-be92-ebd6911cfa49"
      },
      "execution_count": 36,
      "outputs": [
        {
          "output_type": "stream",
          "name": "stderr",
          "text": [
            "/usr/local/lib/python3.7/dist-packages/sklearn/utils/deprecation.py:87: FutureWarning: Function plot_confusion_matrix is deprecated; Function `plot_confusion_matrix` is deprecated in 1.0 and will be removed in 1.2. Use one of the class methods: ConfusionMatrixDisplay.from_predictions or ConfusionMatrixDisplay.from_estimator.\n",
            "  warnings.warn(msg, category=FutureWarning)\n"
          ]
        },
        {
          "output_type": "display_data",
          "data": {
            "image/png": "[encoded data removed]",
            "text/plain": [
              "<Figure size 432x288 with 2 Axes>"
            ]
          },
          "metadata": {
            "needs_background": "light"
          }
        },
        {
          "output_type": "stream",
          "name": "stdout",
          "text": [
            "[[ 77   0]\n",
            " [  0 103]]\n"
          ]
        }
      ]
    },
    {
      "cell_type": "code",
      "source": [
        "TP = disp.confusion_matrix[0][0]\n",
        "FP = disp.confusion_matrix[0][1]\n",
        "FN = disp.confusion_matrix[1][0]\n",
        "TN = disp.confusion_matrix[1][1]\n",
        "precision = TP/(TP+FP)\n",
        "recall = TP/(TP+FN)\n",
        "F_measure = 2 /(1/precision+1/recall)\n",
        "print(\"Precision = \" + str(precision))\n",
        "print(\"Recall = \" + str(recall))\n",
        "print(\"F-measure = \" + str(F_measure))"
      ],
      "metadata": {
        "id": "aBPZlPRhnhet",
        "colab": {
          "base_uri": "https://localhost:8080/"
        },
        "outputId": "54438e58-3714-4eb9-e5ab-ab177f0cd08e"
      },
      "execution_count": 37,
      "outputs": [
        {
          "output_type": "stream",
          "name": "stdout",
          "text": [
            "Precision = 1.0\n",
            "Recall = 1.0\n",
            "F-measure = 1.0\n"
          ]
        }
      ]
    },
    {
      "cell_type": "markdown",
      "source": [
        "## 4.3 RandomForests"
      ],
      "metadata": {
        "id": "s30zT3wW8Dti"
      }
    },
    {
      "cell_type": "code",
      "source": [
        "import matplotlib.pyplot as plt\n",
        "import numpy as np\n",
        "\n",
        "from sklearn.model_selection import KFold\n",
        "from sklearn.metrics import mean_absolute_error\n",
        "from sklearn import tree\n",
        "from sklearn.ensemble import RandomForestClassifier\n",
        "\n",
        "cv = KFold(n_splits = 3, shuffle = True)\n",
        "total_scores = []\n",
        "for i in range(1,15):\n",
        "       fold_mae = []\n",
        "       regr = RandomForestClassifier(n_estimators= 4, max_depth = i, random_state=0)\n",
        "       for train_fold, test_fold in cv.split(X_train):\n",
        "          # División train test aleatoria\n",
        "          # train\n",
        "          fx_train = X_train.iloc[train_fold]\n",
        "          fy_train = y_train.iloc[train_fold]\n",
        "          # test\n",
        "          fx_test = X_train.iloc[test_fold]\n",
        "          fy_test = y_train.iloc[test_fold]\n",
        "\n",
        "          # entrenamiento y ejecución del modelo\n",
        "          regr.fit(fx_train, fy_train)\n",
        "          y_pred = regr.predict(fx_test)\n",
        "          # evaluación del modelo\n",
        "          mae = mean_absolute_error(fy_test, y_pred)\n",
        "          fold_mae.append(mae)\n",
        "       total_scores.append(sum(fold_mae)/len(fold_mae))\n",
        "      \n",
        "      \n",
        "plt.plot(range(1,len(total_scores)+1), total_scores, \n",
        "           marker='o')\n",
        "print ('Min Value : ' +  str(min(total_scores)) +\" (\" + str(np.argmin(total_scores) + 1) + \")\")\n",
        "plt.ylabel('MAE')      \n",
        "plt.legend()\n",
        "plt.show() "
      ],
      "metadata": {
        "colab": {
          "base_uri": "https://localhost:8080/",
          "height": 300
        },
        "id": "gHdpvpSX8JX8",
        "outputId": "f4215e4f-133d-491a-ce83-025f531129d6"
      },
      "execution_count": 38,
      "outputs": [
        {
          "output_type": "stream",
          "name": "stderr",
          "text": [
            "No handles with labels found to put in legend.\n"
          ]
        },
        {
          "output_type": "stream",
          "name": "stdout",
          "text": [
            "Min Value : 0.05476190476190476 (12)\n"
          ]
        },
        {
          "output_type": "display_data",
          "data": {
            "image/png": "[encoded data removed]",
            "text/plain": [
              "<Figure size 432x288 with 1 Axes>"
            ]
          },
          "metadata": {
            "needs_background": "light"
          }
        }
      ]
    },
    {
      "cell_type": "code",
      "source": [
        "from sklearn import tree\n",
        "depth = 10\n",
        "regr = RandomForestClassifier(n_estimators= 4, max_depth = depth, random_state=0)\n",
        "regr.fit(X_train, y_train)\n",
        "regr"
      ],
      "metadata": {
        "colab": {
          "base_uri": "https://localhost:8080/"
        },
        "id": "Z8-yix9f8Jf9",
        "outputId": "984e1b1f-d6c8-4ca9-ff75-b8dc8ab414d9"
      },
      "execution_count": 48,
      "outputs": [
        {
          "output_type": "execute_result",
          "data": {
            "text/plain": [
              "RandomForestClassifier(max_depth=10, n_estimators=4, random_state=0)"
            ]
          },
          "metadata": {},
          "execution_count": 48
        }
      ]
    },
    {
      "cell_type": "code",
      "source": [
        "y_pred = regr.predict(X_test)"
      ],
      "metadata": {
        "id": "h7i2SzKE_4Ac"
      },
      "execution_count": 49,
      "outputs": []
    },
    {
      "cell_type": "code",
      "source": [
        "from sklearn import metrics\n",
        "print (\"MAE:\", metrics.mean_absolute_error(y_pred , y_test))\n",
        "print (\"MAPE:\", metrics.mean_absolute_percentage_error(y_pred , y_test))\n",
        "print (\"MSE:\", metrics.mean_squared_error(y_pred , y_test))\n",
        "print (\"R^2:\", metrics.r2_score(y_pred , y_test))"
      ],
      "metadata": {
        "colab": {
          "base_uri": "https://localhost:8080/"
        },
        "id": "S8RYKBDs_7qT",
        "outputId": "903ce891-6dcc-4d33-9e90-16dee11c87c9"
      },
      "execution_count": 50,
      "outputs": [
        {
          "output_type": "stream",
          "name": "stdout",
          "text": [
            "MAE: 0.1\n",
            "MAPE: 25019997929836.184\n",
            "MSE: 0.1\n",
            "R^2: 0.5536575285852046\n"
          ]
        }
      ]
    },
    {
      "cell_type": "code",
      "source": [
        "from sklearn.metrics import confusion_matrix\n",
        "\n",
        "print (y_test, y_pred)\n",
        "tn, fp, fn, tp  = confusion_matrix(y_test, y_pred).ravel()\n",
        "print (tn, fp, fn, tp)"
      ],
      "metadata": {
        "colab": {
          "base_uri": "https://localhost:8080/"
        },
        "id": "Y7pXfKc-A-dL",
        "outputId": "380454d7-68d2-48d6-c0ef-578eb84ff1e7"
      },
      "execution_count": 42,
      "outputs": [
        {
          "output_type": "stream",
          "name": "stdout",
          "text": [
            "110    1\n",
            "419    0\n",
            "565    1\n",
            "77     0\n",
            "181    1\n",
            "      ..\n",
            "54     1\n",
            "493    0\n",
            "46     0\n",
            "93     0\n",
            "264    0\n",
            "Length: 180, dtype: int64 [1 0 1 1 1 1 0 0 1 1 1 1 1 1 0 0 1 0 1 0 0 1 1 1 1 1 1 1 0 1 0 1 1 1 1 1 0\n",
            " 1 1 1 1 1 1 0 0 1 0 1 0 0 1 1 0 1 0 1 1 1 1 0 0 1 1 1 0 1 0 1 1 1 1 0 0 1\n",
            " 1 1 1 1 1 1 0 1 0 0 1 1 1 0 1 1 1 1 1 1 1 0 1 1 1 1 1 1 1 1 1 1 1 1 1 1 1\n",
            " 1 1 1 1 1 0 1 1 0 0 1 0 1 1 1 0 0 1 0 1 1 0 1 1 1 1 0 0 1 0 1 1 1 1 1 0 1\n",
            " 0 1 1 0 1 0 1 1 1 1 1 1 1 0 0 1 0 0 1 1 0 1 1 1 0 1 0 1 0 0 1 0]\n",
            "54 23 0 103\n"
          ]
        }
      ]
    },
    {
      "cell_type": "code",
      "source": [
        "from sklearn.metrics import plot_confusion_matrix\n",
        "import matplotlib.pyplot as plt\n",
        "\n",
        "#SVM ya debe estar entrenado\n",
        "disp = plot_confusion_matrix(regr, X_test, y_test, display_labels=[\"auto\", \"camera\"],cmap=plt.cm.Blues) \n",
        "plt.show()\n",
        "print(disp.confusion_matrix)"
      ],
      "metadata": {
        "colab": {
          "base_uri": "https://localhost:8080/",
          "height": 368
        },
        "id": "YjpbhshOBJP1",
        "outputId": "b42bb793-8a8f-4d73-da4f-93a4bfb67f13"
      },
      "execution_count": 43,
      "outputs": [
        {
          "output_type": "stream",
          "name": "stderr",
          "text": [
            "/usr/local/lib/python3.7/dist-packages/sklearn/utils/deprecation.py:87: FutureWarning: Function plot_confusion_matrix is deprecated; Function `plot_confusion_matrix` is deprecated in 1.0 and will be removed in 1.2. Use one of the class methods: ConfusionMatrixDisplay.from_predictions or ConfusionMatrixDisplay.from_estimator.\n",
            "  warnings.warn(msg, category=FutureWarning)\n"
          ]
        },
        {
          "output_type": "display_data",
          "data": {
            "image/png": "[encoded data removed]",
            "text/plain": [
              "<Figure size 432x288 with 2 Axes>"
            ]
          },
          "metadata": {
            "needs_background": "light"
          }
        },
        {
          "output_type": "stream",
          "name": "stdout",
          "text": [
            "[[ 54  23]\n",
            " [  0 103]]\n"
          ]
        }
      ]
    },
    {
      "cell_type": "code",
      "source": [
        "TP = disp.confusion_matrix[0][0]\n",
        "FP = disp.confusion_matrix[0][1]\n",
        "FN = disp.confusion_matrix[1][0]\n",
        "TN = disp.confusion_matrix[1][1]\n",
        "precision = TP/(TP+FP)\n",
        "recall = TP/(TP+FN)\n",
        "F_measure = 2 /(1/precision+1/recall)\n",
        "print(\"Precision = \" + str(precision))\n",
        "print(\"Recall = \" + str(recall))\n",
        "print(\"F-measure = \" + str(F_measure))"
      ],
      "metadata": {
        "colab": {
          "base_uri": "https://localhost:8080/"
        },
        "id": "FvlT_kMTBC07",
        "outputId": "e542f30a-be1e-4fb7-9228-aefa9f79af1f"
      },
      "execution_count": 44,
      "outputs": [
        {
          "output_type": "stream",
          "name": "stdout",
          "text": [
            "Precision = 0.7012987012987013\n",
            "Recall = 1.0\n",
            "F-measure = 0.8244274809160307\n"
          ]
        }
      ]
    }
  ]
}